{
 "metadata": {
  "language_info": {
   "codemirror_mode": {
    "name": "ipython",
    "version": 3
   },
   "file_extension": ".py",
   "mimetype": "text/x-python",
   "name": "python",
   "nbconvert_exporter": "python",
   "pygments_lexer": "ipython3",
   "version": "3.8.5-final"
  },
  "orig_nbformat": 2,
  "kernelspec": {
   "name": "python38564bit3df8b77a32d34211a0b42cbd8700f097",
   "display_name": "Python 3.8.5 64-bit",
   "language": "python"
  }
 },
 "nbformat": 4,
 "nbformat_minor": 2,
 "cells": [
  {
   "source": [
    "## Extracing PDF tables with styling information retained."
   ],
   "cell_type": "markdown",
   "metadata": {}
  },
  {
   "cell_type": "code",
   "execution_count": 2,
   "metadata": {},
   "outputs": [],
   "source": [
    "pdf_file = r\"/home/anshul/code/freelance_projects/category_python_doc_processing/pdf_extraction/source/sample.pdf\""
   ]
  },
  {
   "cell_type": "code",
   "execution_count": 6,
   "metadata": {},
   "outputs": [
    {
     "output_type": "stream",
     "name": "stdout",
     "text": [
      "apt-xapian-index==0.49\napturl==0.5.2\nasn1crypto==0.24.0\nattrs==19.3.0\nbackcall==0.2.0\nbeautifulsoup4==4.8.2\nblinker==1.4\nBrlapi==0.7.0\ncertifi==2019.11.28\nchardet==3.0.4\nchrome-gnome-shell==0.0.0\nClick==7.0\ncolorama==0.4.3\ncommand-not-found==0.3\ncryptography==2.8\ncupshelpers==1.0\ncycler==0.10.0\ndbus-python==1.2.16\ndecorator==4.4.2\ndefer==1.0.6\ndistro==1.4.0\ndistro-info===0.23ubuntu1\ndnspython==1.16.0\nentrypoints==0.3\ngpg===1.13.1-unknown\nhtml5lib==1.0.1\nhttplib2==0.14.0\nidna==2.8\nimportlib-metadata==1.5.0\nipykernel==5.3.4\nipython==7.18.1\nipython-genutils==0.2.0\njedi==0.17.2\njsonschema==3.2.0\njupyter-client==6.1.7\njupyter-core==4.6.3\nkazam==1.4.5\nkeyring==18.0.1\nkeyrings.alt==3.4.0\nkiwisolver==1.0.1\nlanguage-selector==0.1\nlaunchpadlib==1.10.13\nlazr.restfulclient==0.14.2\nlazr.uri==1.0.3\nlouis==3.12.0\nlxml==4.5.0\nmacaroonbakery==1.3.1\nMako==1.1.0\nMarkdown==3.1.1\nMarkupSafe==1.1.0\nmatplotlib==3.1.2\nmore-itertools==4.2.0\nnetifaces==0.10.4\nnose==1.3.7\nnumpy==1.17.4\noauth==1.0.1\noauthlib==3.1.0\nolefile==0.46\npackaging==20.3\nparso==0.7.1\npdfarranger==1.4.2\npexpect==4.6.0\npickleshare==0.7.5\npikepdf==1.10.3+dfsg\nPillow==7.0.0\nprompt-toolkit==3.0.8\nprotobuf==3.6.1\nPyAudio==0.2.11\npycairo==1.16.2\npycrypto==2.6.1\npycups==1.9.73\nPygments==2.3.1\nPyGObject==3.36.0\nPyJWT==1.7.1\npymacaroons==0.13.0\nPyNaCl==1.3.0\npyparsing==2.4.6\nPyQt5==5.14.1\nPyQtWebEngine==5.14.0\npyRFC3339==1.1\npyrsistent==0.15.5\npython-apt==2.0.0+ubuntu0.20.4.2\npython-dateutil==2.7.3\npython-debian===0.1.36ubuntu1\npytz==2019.3\npyxdg==0.26\nPyYAML==5.3.1\npyzmq==19.0.2\nreportlab==3.5.34\nrequests==2.22.0\nrequests-unixsocket==0.2.0\nSecretStorage==2.3.1\nSend2Trash==1.5.0\nsimplejson==3.16.0\nsip==4.19.21\nsix==1.14.0\nsoupsieve==1.9.5\nsystem-service==0.3\nsystemd-python==234\ntornado==6.0.4\ntraitlets==5.0.5\nubuntu-advantage-tools==20.3\nubuntu-drivers-common==0.0.0\nufw==0.36\nunattended-upgrades==0.1\nurllib3==1.25.8\nusb-creator==0.3.7\nvboxapi==1.0\nwadllib==1.3.3\nwcwidth==0.2.5\nwebencodings==0.5.1\nxkit==0.0.0\nzipp==1.0.0\nzope.interface==4.7.1\n"
     ]
    }
   ],
   "source": [
    "!pip3 freeze"
   ]
  },
  {
   "cell_type": "code",
   "execution_count": null,
   "metadata": {},
   "outputs": [],
   "source": []
  }
 ]
}