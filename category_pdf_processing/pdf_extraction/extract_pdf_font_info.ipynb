{
 "metadata": {
  "language_info": {
   "codemirror_mode": {
    "name": "ipython",
    "version": 3
   },
   "file_extension": ".py",
   "mimetype": "text/x-python",
   "name": "python",
   "nbconvert_exporter": "python",
   "pygments_lexer": "ipython3",
   "version": "3.8.2-final"
  },
  "orig_nbformat": 2,
  "kernelspec": {
   "name": "python38264bitpy38conda74b30bb8bfed4d658f77b9f4e62a4da3",
   "display_name": "Python 3.8.2 64-bit ('py38': conda)",
   "language": "python"
  }
 },
 "nbformat": 4,
 "nbformat_minor": 2,
 "cells": [
  {
   "cell_type": "code",
   "execution_count": 1,
   "metadata": {},
   "outputs": [],
   "source": [
    "from tabula import read_pdf"
   ]
  },
  {
   "cell_type": "code",
   "execution_count": 2,
   "metadata": {},
   "outputs": [],
   "source": [
    "pdf_path = r\"/home/anshul/code/freelance_projects/category_pdf_processing/pdf_extraction/source/sample.pdf\""
   ]
  },
  {
   "cell_type": "code",
   "execution_count": 3,
   "metadata": {},
   "outputs": [],
   "source": [
    "df_data = read_pdf(pdf_path, output_format='dataframe', pages='1', lattice=True)"
   ]
  },
  {
   "cell_type": "code",
   "execution_count": 4,
   "metadata": {},
   "outputs": [
    {
     "output_type": "execute_result",
     "data": {
      "text/plain": [
       "                       Header1                      Header2  \\\n",
       "0                    The quick                    The quick   \n",
       "1              The quick borwn              The quick borwn   \n",
       "2  The quick\\rborwn fox\\rjumps  The quick\\rborwn fox\\rjumps   \n",
       "3  The quick\\rborwn fox\\rjumps  The quick\\rborwn fox\\rjumps   \n",
       "4                          NaN                          NaN   \n",
       "5                    The quick                    The quick   \n",
       "6              The quick borwn              The quick borwn   \n",
       "7  The quick\\rborwn fox\\rjumps  The quick\\rborwn fox\\rjumps   \n",
       "8  The quick\\rborwn fox\\rjumps  The quick\\rborwn fox\\rjumps   \n",
       "9                    The quick                    The quick   \n",
       "\n",
       "                       Header3                      Header4  \\\n",
       "0                    The quick                    The quick   \n",
       "1              The quick borwn              The quick borwn   \n",
       "2  The quick\\rborwn fox\\rjumps  The quick\\rborwn fox\\rjumps   \n",
       "3  The quick\\rborwn fox\\rjumps  The quick\\rborwn fox\\rjumps   \n",
       "4                          NaN                          NaN   \n",
       "5                    The quick                    The quick   \n",
       "6              The quick borwn              The quick borwn   \n",
       "7  The quick\\rborwn fox\\rjumps  The quick\\rborwn fox\\rjumps   \n",
       "8  The quick\\rborwn fox\\rjumps  The quick\\rborwn fox\\rjumps   \n",
       "9                    The quick                    The quick   \n",
       "\n",
       "                       Header5  \n",
       "0                    The quick  \n",
       "1              The quick borwn  \n",
       "2  The quick\\rborwn fox\\rjumps  \n",
       "3  The quick\\rborwn fox\\rjumps  \n",
       "4                          NaN  \n",
       "5                    The quick  \n",
       "6              The quick borwn  \n",
       "7  The quick\\rborwn fox\\rjumps  \n",
       "8  The quick\\rborwn fox\\rjumps  \n",
       "9                    The quick  "
      ],
      "text/html": "<div>\n<style scoped>\n    .dataframe tbody tr th:only-of-type {\n        vertical-align: middle;\n    }\n\n    .dataframe tbody tr th {\n        vertical-align: top;\n    }\n\n    .dataframe thead th {\n        text-align: right;\n    }\n</style>\n<table border=\"1\" class=\"dataframe\">\n  <thead>\n    <tr style=\"text-align: right;\">\n      <th></th>\n      <th>Header1</th>\n      <th>Header2</th>\n      <th>Header3</th>\n      <th>Header4</th>\n      <th>Header5</th>\n    </tr>\n  </thead>\n  <tbody>\n    <tr>\n      <th>0</th>\n      <td>The quick</td>\n      <td>The quick</td>\n      <td>The quick</td>\n      <td>The quick</td>\n      <td>The quick</td>\n    </tr>\n    <tr>\n      <th>1</th>\n      <td>The quick borwn</td>\n      <td>The quick borwn</td>\n      <td>The quick borwn</td>\n      <td>The quick borwn</td>\n      <td>The quick borwn</td>\n    </tr>\n    <tr>\n      <th>2</th>\n      <td>The quick\\rborwn fox\\rjumps</td>\n      <td>The quick\\rborwn fox\\rjumps</td>\n      <td>The quick\\rborwn fox\\rjumps</td>\n      <td>The quick\\rborwn fox\\rjumps</td>\n      <td>The quick\\rborwn fox\\rjumps</td>\n    </tr>\n    <tr>\n      <th>3</th>\n      <td>The quick\\rborwn fox\\rjumps</td>\n      <td>The quick\\rborwn fox\\rjumps</td>\n      <td>The quick\\rborwn fox\\rjumps</td>\n      <td>The quick\\rborwn fox\\rjumps</td>\n      <td>The quick\\rborwn fox\\rjumps</td>\n    </tr>\n    <tr>\n      <th>4</th>\n      <td>NaN</td>\n      <td>NaN</td>\n      <td>NaN</td>\n      <td>NaN</td>\n      <td>NaN</td>\n    </tr>\n    <tr>\n      <th>5</th>\n      <td>The quick</td>\n      <td>The quick</td>\n      <td>The quick</td>\n      <td>The quick</td>\n      <td>The quick</td>\n    </tr>\n    <tr>\n      <th>6</th>\n      <td>The quick borwn</td>\n      <td>The quick borwn</td>\n      <td>The quick borwn</td>\n      <td>The quick borwn</td>\n      <td>The quick borwn</td>\n    </tr>\n    <tr>\n      <th>7</th>\n      <td>The quick\\rborwn fox\\rjumps</td>\n      <td>The quick\\rborwn fox\\rjumps</td>\n      <td>The quick\\rborwn fox\\rjumps</td>\n      <td>The quick\\rborwn fox\\rjumps</td>\n      <td>The quick\\rborwn fox\\rjumps</td>\n    </tr>\n    <tr>\n      <th>8</th>\n      <td>The quick\\rborwn fox\\rjumps</td>\n      <td>The quick\\rborwn fox\\rjumps</td>\n      <td>The quick\\rborwn fox\\rjumps</td>\n      <td>The quick\\rborwn fox\\rjumps</td>\n      <td>The quick\\rborwn fox\\rjumps</td>\n    </tr>\n    <tr>\n      <th>9</th>\n      <td>The quick</td>\n      <td>The quick</td>\n      <td>The quick</td>\n      <td>The quick</td>\n      <td>The quick</td>\n    </tr>\n  </tbody>\n</table>\n</div>"
     },
     "metadata": {},
     "execution_count": 4
    }
   ],
   "source": [
    "df_data[0].head(10)"
   ]
  },
  {
   "cell_type": "code",
   "execution_count": 5,
   "metadata": {},
   "outputs": [
    {
     "output_type": "error",
     "ename": "ModuleNotFoundError",
     "evalue": "No module named 'cryptography'",
     "traceback": [
      "\u001b[0;31m---------------------------------------------------------------------------\u001b[0m",
      "\u001b[0;31mModuleNotFoundError\u001b[0m                       Traceback (most recent call last)",
      "\u001b[0;32m<ipython-input-5-3a8f392ec3e7>\u001b[0m in \u001b[0;36m<module>\u001b[0;34m\u001b[0m\n\u001b[1;32m      3\u001b[0m \u001b[0;32mfrom\u001b[0m \u001b[0mpdfminer\u001b[0m\u001b[0;34m.\u001b[0m\u001b[0mconverter\u001b[0m \u001b[0;32mimport\u001b[0m \u001b[0mTextConverter\u001b[0m\u001b[0;34m\u001b[0m\u001b[0;34m\u001b[0m\u001b[0m\n\u001b[1;32m      4\u001b[0m \u001b[0;32mfrom\u001b[0m \u001b[0mpdfminer\u001b[0m\u001b[0;34m.\u001b[0m\u001b[0mlayout\u001b[0m \u001b[0;32mimport\u001b[0m \u001b[0mLAParams\u001b[0m\u001b[0;34m\u001b[0m\u001b[0;34m\u001b[0m\u001b[0m\n\u001b[0;32m----> 5\u001b[0;31m \u001b[0;32mfrom\u001b[0m \u001b[0mpdfminer\u001b[0m\u001b[0;34m.\u001b[0m\u001b[0mpdfpage\u001b[0m \u001b[0;32mimport\u001b[0m \u001b[0mPDFPage\u001b[0m\u001b[0;34m\u001b[0m\u001b[0;34m\u001b[0m\u001b[0m\n\u001b[0m\u001b[1;32m      6\u001b[0m \u001b[0;32mfrom\u001b[0m \u001b[0mio\u001b[0m \u001b[0;32mimport\u001b[0m \u001b[0mStringIO\u001b[0m\u001b[0;34m,\u001b[0m \u001b[0mBytesIO\u001b[0m\u001b[0;34m\u001b[0m\u001b[0;34m\u001b[0m\u001b[0m\n\u001b[1;32m      7\u001b[0m \u001b[0;34m\u001b[0m\u001b[0m\n",
      "\u001b[0;32m~/.local/lib/python3.8/site-packages/pdfminer/pdfpage.py\u001b[0m in \u001b[0;36m<module>\u001b[0;34m\u001b[0m\n\u001b[1;32m      9\u001b[0m \u001b[0;32mfrom\u001b[0m \u001b[0;34m.\u001b[0m\u001b[0mpdftypes\u001b[0m \u001b[0;32mimport\u001b[0m \u001b[0mdict_value\u001b[0m\u001b[0;34m\u001b[0m\u001b[0;34m\u001b[0m\u001b[0m\n\u001b[1;32m     10\u001b[0m \u001b[0;32mfrom\u001b[0m \u001b[0;34m.\u001b[0m\u001b[0mpdfparser\u001b[0m \u001b[0;32mimport\u001b[0m \u001b[0mPDFParser\u001b[0m\u001b[0;34m\u001b[0m\u001b[0;34m\u001b[0m\u001b[0m\n\u001b[0;32m---> 11\u001b[0;31m \u001b[0;32mfrom\u001b[0m \u001b[0;34m.\u001b[0m\u001b[0mpdfdocument\u001b[0m \u001b[0;32mimport\u001b[0m \u001b[0mPDFDocument\u001b[0m\u001b[0;34m,\u001b[0m \u001b[0mPDFTextExtractionNotAllowed\u001b[0m\u001b[0;34m\u001b[0m\u001b[0;34m\u001b[0m\u001b[0m\n\u001b[0m\u001b[1;32m     12\u001b[0m \u001b[0;32mfrom\u001b[0m \u001b[0;34m.\u001b[0m\u001b[0mpdfdocument\u001b[0m \u001b[0;32mimport\u001b[0m \u001b[0mPDFTextExtractionNotAllowedWarning\u001b[0m\u001b[0;34m\u001b[0m\u001b[0;34m\u001b[0m\u001b[0m\n\u001b[1;32m     13\u001b[0m \u001b[0;34m\u001b[0m\u001b[0m\n",
      "\u001b[0;32m~/.local/lib/python3.8/site-packages/pdfminer/pdfdocument.py\u001b[0m in \u001b[0;36m<module>\u001b[0;34m\u001b[0m\n\u001b[1;32m      4\u001b[0m \u001b[0;32mfrom\u001b[0m \u001b[0mhashlib\u001b[0m \u001b[0;32mimport\u001b[0m \u001b[0msha256\u001b[0m\u001b[0;34m,\u001b[0m \u001b[0mmd5\u001b[0m\u001b[0;34m\u001b[0m\u001b[0;34m\u001b[0m\u001b[0m\n\u001b[1;32m      5\u001b[0m \u001b[0;34m\u001b[0m\u001b[0m\n\u001b[0;32m----> 6\u001b[0;31m \u001b[0;32mfrom\u001b[0m \u001b[0mcryptography\u001b[0m\u001b[0;34m.\u001b[0m\u001b[0mhazmat\u001b[0m\u001b[0;34m.\u001b[0m\u001b[0mbackends\u001b[0m \u001b[0;32mimport\u001b[0m \u001b[0mdefault_backend\u001b[0m\u001b[0;34m\u001b[0m\u001b[0;34m\u001b[0m\u001b[0m\n\u001b[0m\u001b[1;32m      7\u001b[0m \u001b[0;32mfrom\u001b[0m \u001b[0mcryptography\u001b[0m\u001b[0;34m.\u001b[0m\u001b[0mhazmat\u001b[0m\u001b[0;34m.\u001b[0m\u001b[0mprimitives\u001b[0m\u001b[0;34m.\u001b[0m\u001b[0mciphers\u001b[0m \u001b[0;32mimport\u001b[0m \u001b[0mCipher\u001b[0m\u001b[0;34m,\u001b[0m \u001b[0malgorithms\u001b[0m\u001b[0;34m,\u001b[0m \u001b[0mmodes\u001b[0m\u001b[0;34m\u001b[0m\u001b[0;34m\u001b[0m\u001b[0m\n\u001b[1;32m      8\u001b[0m \u001b[0;34m\u001b[0m\u001b[0m\n",
      "\u001b[0;31mModuleNotFoundError\u001b[0m: No module named 'cryptography'"
     ]
    }
   ],
   "source": [
    "from pdfminer.pdfinterp import PDFResourceManager, PDFPageInterpreter\n",
    "from pdfminer.converter import HTMLConverter\n",
    "from pdfminer.converter import TextConverter\n",
    "from pdfminer.layout import LAParams\n",
    "from pdfminer.pdfpage import PDFPage\n",
    "from io import StringIO, BytesIO\n",
    "\n",
    "import re\n",
    "import csv"
   ]
  },
  {
   "cell_type": "code",
   "execution_count": 6,
   "metadata": {},
   "outputs": [],
   "source": [
    "# !pip3 install cryptography\n",
    "# !pip3 install paramiko\n",
    "# !pip3 install pycryptodome\n",
    "# !pip3 install pycryptodomex\n",
    "# from cryptography.hazmat.backends import default_backend\n",
    "# !sudo pip3 install install cryptography"
   ]
  },
  {
   "cell_type": "code",
   "execution_count": null,
   "metadata": {},
   "outputs": [],
   "source": []
  }
 ]
}