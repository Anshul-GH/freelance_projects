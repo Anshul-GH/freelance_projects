{
 "metadata": {
  "language_info": {
   "codemirror_mode": {
    "name": "ipython",
    "version": 3
   },
   "file_extension": ".py",
   "mimetype": "text/x-python",
   "name": "python",
   "nbconvert_exporter": "python",
   "pygments_lexer": "ipython3",
   "version": "3.8.2-final"
  },
  "orig_nbformat": 2,
  "kernelspec": {
   "name": "python38264bitpy38conda74b30bb8bfed4d658f77b9f4e62a4da3",
   "display_name": "Python 3.8.2 64-bit ('py38': conda)"
  }
 },
 "nbformat": 4,
 "nbformat_minor": 2,
 "cells": [
  {
   "cell_type": "code",
   "execution_count": 3,
   "metadata": {},
   "outputs": [
    {
     "output_type": "error",
     "ename": "ModuleNotFoundError",
     "evalue": "No module named 'pypdf4'",
     "traceback": [
      "\u001b[0;31m---------------------------------------------------------------------------\u001b[0m",
      "\u001b[0;31mModuleNotFoundError\u001b[0m                       Traceback (most recent call last)",
      "\u001b[0;32m<ipython-input-3-7ca460787391>\u001b[0m in \u001b[0;36m<module>\u001b[0;34m\u001b[0m\n\u001b[0;32m----> 1\u001b[0;31m \u001b[0;32mfrom\u001b[0m \u001b[0mpypdf4\u001b[0m \u001b[0;32mimport\u001b[0m \u001b[0mPdfFileReader\u001b[0m\u001b[0;34m\u001b[0m\u001b[0;34m\u001b[0m\u001b[0m\n\u001b[0m",
      "\u001b[0;31mModuleNotFoundError\u001b[0m: No module named 'pypdf4'"
     ]
    }
   ],
   "source": [
    "from pypdf4 import PdfFileReader"
   ]
  },
  {
   "cell_type": "code",
   "execution_count": 2,
   "metadata": {},
   "outputs": [
    {
     "output_type": "stream",
     "name": "stdout",
     "text": [
      "Collecting pypdf4\n",
      "  Using cached PyPDF4-1.27.0.tar.gz (63 kB)\n",
      "Building wheels for collected packages: pypdf4\n",
      "  Building wheel for pypdf4 (setup.py) ... \u001b[?25ldone\n",
      "\u001b[?25h  Created wheel for pypdf4: filename=PyPDF4-1.27.0-py3-none-any.whl size=61249 sha256=7e7fd8c6ce60b35db1eecf3c61f3029684d6cd567fa7e01ef3078d3b54eac7d8\n",
      "  Stored in directory: /home/anshul/.cache/pip/wheels/f0/79/75/d130281ec9996a2551dbdd1836aa4beb376d53f8cdca49b4b0\n",
      "Successfully built pypdf4\n",
      "Installing collected packages: pypdf4\n",
      "Successfully installed pypdf4-1.27.0\n"
     ]
    }
   ],
   "source": [
    "!pip install pypdf4"
   ]
  },
  {
   "cell_type": "code",
   "execution_count": 5,
   "metadata": {},
   "outputs": [
    {
     "output_type": "error",
     "ename": "ModuleNotFoundError",
     "evalue": "No module named 'pypdf4'",
     "traceback": [
      "\u001b[0;31m---------------------------------------------------------------------------\u001b[0m",
      "\u001b[0;31mModuleNotFoundError\u001b[0m                       Traceback (most recent call last)",
      "\u001b[0;32m<ipython-input-5-89689d19a760>\u001b[0m in \u001b[0;36m<module>\u001b[0;34m\u001b[0m\n\u001b[0;32m----> 1\u001b[0;31m \u001b[0;32mimport\u001b[0m \u001b[0mpypdf4\u001b[0m\u001b[0;34m\u001b[0m\u001b[0;34m\u001b[0m\u001b[0m\n\u001b[0m",
      "\u001b[0;31mModuleNotFoundError\u001b[0m: No module named 'pypdf4'"
     ]
    }
   ],
   "source": [
    "import pypdf4"
   ]
  },
  {
   "cell_type": "code",
   "execution_count": 6,
   "metadata": {},
   "outputs": [],
   "source": [
    "from PyPDF4 import PdfFileReader"
   ]
  },
  {
   "cell_type": "code",
   "execution_count": 7,
   "metadata": {},
   "outputs": [],
   "source": [
    "def extract_information(pdf_path):\n",
    "    with open(pdf_path, 'rb') as f:\n",
    "        pdf = PdfFileReader(f)\n",
    "        information = pdf.getDocumentInfo()\n",
    "        number_of_pages = pdf.getNumPages()\n",
    "\n",
    "        txt = f\"\"\"\n",
    "        Information about {pdf_path}: \n",
    "\n",
    "        Author: {information.author}\n",
    "        Creator: {information.creator}\n",
    "        Producer: {information.producer}\n",
    "        Subject: {information.subject}\n",
    "        Title: {information.title}\n",
    "        Number of pages: {number_of_pages}\n",
    "        \"\"\"\n",
    "\n",
    "        print(txt)\n",
    "        return information"
   ]
  },
  {
   "cell_type": "code",
   "execution_count": 17,
   "metadata": {},
   "outputs": [
    {
     "output_type": "execute_result",
     "data": {
      "text/plain": [
       "'/home/anshul/code/freelance_projects/category_python_doc_processing/pdf/reportlab-sample.pdf'"
      ]
     },
     "metadata": {},
     "execution_count": 17
    }
   ],
   "source": [
    "root = !pwd\n",
    "path = str(root[0])+'/reportlab-sample.pdf'\n",
    "path"
   ]
  },
  {
   "cell_type": "code",
   "execution_count": 18,
   "metadata": {},
   "outputs": [
    {
     "output_type": "stream",
     "name": "stdout",
     "text": [
      "\n        Information about /home/anshul/code/freelance_projects/category_python_doc_processing/pdf/reportlab-sample.pdf: \n\n        Author: Michael Driscoll\n        Creator: LaTeX with hyperref package\n        Producer: XeTeX 0.99999\n        Subject: None\n        Title: ReportLab - PDF Processing with Python\n        Number of pages: 54\n        \n"
     ]
    },
    {
     "output_type": "execute_result",
     "data": {
      "text/plain": [
       "{'/Creator': 'LaTeX with hyperref package',\n",
       " '/Title': 'ReportLab - PDF Processing with Python',\n",
       " '/Author': 'Michael Driscoll',\n",
       " '/Producer': 'XeTeX 0.99999',\n",
       " '/CreationDate': \"D:20191202152258-00'00'\"}"
      ]
     },
     "metadata": {},
     "execution_count": 18
    }
   ],
   "source": [
    "extract_information(path)"
   ]
  },
  {
   "cell_type": "code",
   "execution_count": null,
   "metadata": {},
   "outputs": [],
   "source": []
  }
 ]
}