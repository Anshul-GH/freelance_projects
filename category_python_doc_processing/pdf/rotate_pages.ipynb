{
 "metadata": {
  "language_info": {
   "codemirror_mode": {
    "name": "ipython",
    "version": 3
   },
   "file_extension": ".py",
   "mimetype": "text/x-python",
   "name": "python",
   "nbconvert_exporter": "python",
   "pygments_lexer": "ipython3",
   "version": "3.8.2-final"
  },
  "orig_nbformat": 2,
  "kernelspec": {
   "name": "python38264bitpy38conda74b30bb8bfed4d658f77b9f4e62a4da3",
   "display_name": "Python 3.8.2 64-bit ('py38': conda)"
  }
 },
 "nbformat": 4,
 "nbformat_minor": 2,
 "cells": [
  {
   "cell_type": "code",
   "execution_count": 1,
   "metadata": {},
   "outputs": [],
   "source": [
    "from PyPDF4 import PdfFileReader, PdfFileWriter"
   ]
  },
  {
   "cell_type": "code",
   "execution_count": 2,
   "metadata": {},
   "outputs": [
    {
     "output_type": "execute_result",
     "data": {
      "text/plain": [
       "'/home/anshul/code/freelance_projects/category_python_doc_processing/pdf/JupyterNotebookAnIntroduction.pdf'"
      ]
     },
     "metadata": {},
     "execution_count": 2
    }
   ],
   "source": [
    "root = !pwd\n",
    "path = str(root[0])+'/JupyterNotebookAnIntroduction.pdf'\n",
    "path"
   ]
  },
  {
   "cell_type": "code",
   "execution_count": 3,
   "metadata": {},
   "outputs": [],
   "source": [
    "def rotate_pages(pdf_path):\n",
    "    pdf_writer = PdfFileWriter()\n",
    "    pdf_reader = PdfFileReader(pdf_path)\n",
    "\n",
    "    # rotate the page 90* to the right (clockwise)\n",
    "    page_1 = pdf_reader.getPage(0).rotateClockwise(90)\n",
    "    pdf_writer.addPage(page_1)\n",
    "\n",
    "    # rotate the page 90* to the left (counter-clockwise)\n",
    "    page_2 = pdf_reader.getPage(1).rotateCounterClockwise(90)\n",
    "    pdf_writer.addPage(page_2)\n",
    "\n",
    "    # add a page in normal orientation\n",
    "    pdf_writer.addPage(pdf_reader.getPage(2))\n",
    "\n",
    "    with open('rotate_pages.pdf', 'wb') as fh:\n",
    "        pdf_writer.write(fh)\n"
   ]
  },
  {
   "cell_type": "code",
   "execution_count": 4,
   "metadata": {},
   "outputs": [],
   "source": [
    "rotate_pages(path)"
   ]
  },
  {
   "cell_type": "code",
   "execution_count": null,
   "metadata": {},
   "outputs": [],
   "source": []
  }
 ]
}