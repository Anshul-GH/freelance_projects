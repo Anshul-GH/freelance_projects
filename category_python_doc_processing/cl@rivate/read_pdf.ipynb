{
 "metadata": {
  "language_info": {
   "codemirror_mode": {
    "name": "ipython",
    "version": 3
   },
   "file_extension": ".py",
   "mimetype": "text/x-python",
   "name": "python",
   "nbconvert_exporter": "python",
   "pygments_lexer": "ipython3",
   "version": "3.8.2-final"
  },
  "orig_nbformat": 2,
  "kernelspec": {
   "name": "python38264bitpy38conda74b30bb8bfed4d658f77b9f4e62a4da3",
   "display_name": "Python 3.8.2 64-bit ('py38': conda)"
  }
 },
 "nbformat": 4,
 "nbformat_minor": 2,
 "cells": [
  {
   "cell_type": "code",
   "execution_count": 1,
   "metadata": {},
   "outputs": [],
   "source": [
    "from PyPDF4 import PdfFileReader"
   ]
  },
  {
   "cell_type": "code",
   "execution_count": 3,
   "metadata": {},
   "outputs": [
    {
     "output_type": "stream",
     "name": "stdout",
     "text": [
      "/home/anshul/code/freelance_projects/category_python_doc_processing/cl@rivate/data/cl@rivate_1.pdf\n"
     ]
    }
   ],
   "source": [
    "# file path\n",
    "root = !pwd\n",
    "root = root[0]\n",
    "path = root + '/data/cl@rivate_1.pdf'\n",
    "print(path)"
   ]
  },
  {
   "cell_type": "code",
   "execution_count": 5,
   "metadata": {},
   "outputs": [
    {
     "output_type": "stream",
     "name": "stdout",
     "text": [
      "\n    Information about /home/anshul/code/freelance_projects/category_python_doc_processing/cl@rivate/data/cl@rivate_1.pdf: \n\n    Author: None\n    Creator: Crystal Reports\n    Producer: Powered By Crystal\n    Subject: None\n    Title: None\n    Number of pages: 195\n    \n"
     ]
    }
   ],
   "source": [
    "with open(path, 'rb') as f:\n",
    "    pdf = PdfFileReader(f)\n",
    "    information = pdf.getDocumentInfo()\n",
    "    number_of_pages = pdf.getNumPages()\n",
    "\n",
    "    txt = f\"\"\"\n",
    "    Information about {path}: \n",
    "\n",
    "    Author: {information.author}\n",
    "    Creator: {information.creator}\n",
    "    Producer: {information.producer}\n",
    "    Subject: {information.subject}\n",
    "    Title: {information.title}\n",
    "    Number of pages: {number_of_pages}\n",
    "    \"\"\"\n",
    "\n",
    "print(txt)"
   ]
  },
  {
   "cell_type": "code",
   "execution_count": 6,
   "metadata": {},
   "outputs": [
    {
     "output_type": "stream",
     "name": "stdout",
     "text": [
      "{'/Producer': 'Powered By Crystal', '/Creator': 'Crystal Reports'}\n"
     ]
    }
   ],
   "source": [
    "print(information)"
   ]
  },
  {
   "cell_type": "code",
   "execution_count": 7,
   "metadata": {},
   "outputs": [
    {
     "output_type": "stream",
     "name": "stdout",
     "text": [
      "195\n"
     ]
    }
   ],
   "source": [
    "print(number_of_pages)"
   ]
  },
  {
   "cell_type": "code",
   "execution_count": 8,
   "metadata": {},
   "outputs": [],
   "source": [
    "f.close()"
   ]
  },
  {
   "cell_type": "code",
   "execution_count": 9,
   "metadata": {},
   "outputs": [],
   "source": [
    "pdfFileObj = open(path, 'rb')\n",
    "\n",
    "# create a pdf reader object\n",
    "pdfReader = PdfFileReader(pdfFileObj)"
   ]
  },
  {
   "cell_type": "code",
   "execution_count": 10,
   "metadata": {},
   "outputs": [
    {
     "output_type": "execute_result",
     "data": {
      "text/plain": [
       "195"
      ]
     },
     "metadata": {},
     "execution_count": 10
    }
   ],
   "source": [
    "pdfReader.numPages"
   ]
  },
  {
   "cell_type": "code",
   "execution_count": 14,
   "metadata": {},
   "outputs": [],
   "source": [
    "pageObj = pdfReader.getPage(0)\n",
    "# print(type(pageObj.extractText()))\n",
    "\n",
    "extracted_text = pageObj.extractText()"
   ]
  },
  {
   "cell_type": "code",
   "execution_count": 18,
   "metadata": {},
   "outputs": [],
   "source": [
    "txtFile = open('extracted_01.txt', 'a')\n",
    "txtFile.write(extracted_text)\n",
    "txtFile.close()"
   ]
  },
  {
   "cell_type": "code",
   "execution_count": 19,
   "metadata": {},
   "outputs": [
    {
     "output_type": "execute_result",
     "data": {
      "text/plain": [
       "'Search Tip:\\n \\nThis is a large document, but you can search quickly and easily by entering CTRL F and it will then display a find box for you to type in the name of the \\ndrug you want to locate. If you do not know the correct spelling, you can start your search by entering just the first few letters of the name.\\nSpecial Code\\nTier\\nCategory\\nDrug Name\\nAlphabetical Index\\nLast Updated 6/1/2020\\nSelect 3-Tier Formulary\\nDERMATOLOGICALS\\n2\\n-\\n8-MOP CAP\\nANTIVIRALS\\n2\\nMSP\\nabacavir soln (ZIAGEN equiv)\\nANTIVIRALS\\n2\\nMSP\\nabacavir tab (ZIAGEN equiv)\\nANTIVIRALS\\n2\\nMSP\\nabacavir/lamivudine tab (EPZICOM equiv)\\nANTIVIRALS\\n2\\nMSP\\nabacavir/lamivudine/zidovudine tab (TRIZIVIR equiv)\\nANTIPSYCHOTICS/ANTIMANIC AGENTS\\n3\\nPA-QL\\nABILIFY DISCMELT  (QL= 2 tabs/day)\\nANTIPSYCHOTICS/ANTIMANIC AGENTS\\nNC\\n-\\nABILIFY MYCITE TAB\\nANTIPSYCHOTICS/ANTIMANIC AGENTS\\n3\\nPA\\nABILIFY SOLN\\nANTINEOPLASTICS AND ADJUNCTIVE \\nTHERAPIES\\n1\\nLMSP-QL\\nabiraterone tab 250mg (ZYTIGA equiv) (QL= 4 tabs/day)\\nANTINEOPLASTICS AND ADJUNCTIVE \\nTHERAPIES\\nM\\nM-PA\\nABRAXANE INJ\\nDERMATOLOGICALS\\nNC\\n-\\nABSORICA CAP\\nDERMATOLOGICALS\\nNC\\n-\\nABSORICA LD CAP\\nANALGESICS - OPIOID\\n3\\nPA-QL\\nABSTRAL SL TAB  (QL= 120 tabs/30 days)\\nPSYCHOTHERAPEUTIC AND \\nNEUROLOGICAL AGENTS - MISC.\\n2\\n-\\nacamprosate calcium DR tab (CAMPRAL equiv)\\nANTIDIABETICS\\n1\\n-\\nacarbose tab (PRECOSE equiv)\\nMEDICAL DEVICES AND SUPPLIES\\nNC\\nOTC\\nACCU-CHEK AVIVA PLUS METER\\nDIAGNOSTIC PRODUCTS\\n2\\nOTC\\nACCU-CHEK AVIVA PLUS TEST STRIP\\nMEDICAL DEVICES AND SUPPLIES\\n$0\\nOTC\\nACCU-CHEK GUIDE CARE METER\\nMEDICAL DEVICES AND SUPPLIES\\n$0\\nOTC\\nACCU-CHEK GUIDE ME KIT\\nDIAGNOSTIC PRODUCTS\\n2\\nOTC\\nACCU-CHEK GUIDE TEST STRIP\\nMEDICAL DEVICES AND SUPPLIES\\nNC\\nOTC\\nACCU-CHEK NANO METER\\nDIAGNOSTIC PRODUCTS\\n2\\nOTC\\nACCU-CHEK SMARTVIEW TEST STRIP\\nDIAGNOSTIC PRODUCTS\\n2\\nOTC\\nACCU-CHEK TEST STRIP\\nANTIHYPERTENSIVES\\nNC\\n-\\nACCUPRIL TAB\\nANTIHYPERTENSIVES\\nNC\\n-\\nACCURETIC TAB\\nBETA BLOCKERS\\n1\\n-\\nacebutolol cap (SECTRAL equiv)\\nANTIHYPERTENSIVES\\nNC\\n-\\nACEON TAB\\nANALGESICS - OPIOID\\n2\\n-\\nacetaminophen/caffeine/dihydrocodeine tab (PANLOR SS equiv)\\nANALGESICS - OPIOID\\n1\\n-\\nacetaminophen/codeine soln\\nANALGESICS - OPIOID\\n1\\n-\\nacetaminophen/codeine tab (TYLENOL/CODEINE equiv)\\nMIGRAINE PRODUCTS\\nNC\\n-\\nACETAMINOPHEN/ISOMETHEPTENE/DICHLORAL CAP\\nMIGRAINE PRODUCTS\\nNC\\n-\\nacetaminophen/isometheptene/dichloral cap (MIDRIN equiv)\\nOTIC AGENTS\\n3\\n-\\nACETASOL HC OTIC SOLN\\nDIURETICS\\n2\\n-\\nacetazolamide ER cap (DIAMOX SEQUEL equiv)\\nDIURETICS\\n2\\n-\\nacetazolamide tab\\nOTIC AGENTS\\n1\\nQL\\nacetic acid otic soln (VOSOL equiv) (QL= 2 bottles/fill)\\nOTIC AGENTS\\n1\\nQL\\nACETIC ACID/ALUMINUM ACETATE OTIC SOLN  (QL= 2 bottles/fill)\\nOTIC AGENTS\\n1\\nQL\\nacetic acid/hydrocortisone otic soln (VOSOL HC equiv) (QL= 2 bottles/fill)\\nCOUGH/COLD/ALLERGY\\n1\\n-\\nacetylcysteine soln (MUCOMYST equiv)\\nVAGINAL PRODUCTS\\n2\\n-\\nACIDIC VAGINAL JELLY\\nULCER DRUGS\\nNC\\n-\\nACIPHEX SPRINKLE CAP\\nNC\\n =Not Covered      \\ngeneric =\\nsmall letters  \\n   \\nBRANDS\\n =CAPITAL LETTERS   \\nACA\\nAffordable Care Act\\nINF\\nInfertility\\nLD\\nLimited Distribution\\nLMSP\\nLumicera Mandatory Specialty Pharmacy Program\\nM\\nMedical Benefit\\nMSP\\nMandatory Specialty Pharmacy Program\\nOTC\\nOver-the-Counter\\nPA\\nPrior Authorization\\nQL\\nQuantity Limit\\nRS\\nRestricted to Specialist\\nSF\\nLimited to two 15 day fills per month for first 3 months\\nSMKG\\nSmoking Cessation\\nST\\nStep Therapy\\nTS\\nTablet Splitting\\nVAC\\nVaccine Program\\nCoverage of medications, including those not otherwise identified by qualifiers such as QL/PA/ST, may be subject to safety screenings and other clinical edits in the course of claims \\ntransaction processing.** Products listed may not be all inclusive and are subject to change.\\nPage 1 of 195\\n'"
      ]
     },
     "metadata": {},
     "execution_count": 19
    }
   ],
   "source": [
    "extracted_text"
   ]
  },
  {
   "cell_type": "code",
   "execution_count": 20,
   "metadata": {},
   "outputs": [
    {
     "output_type": "stream",
     "name": "stdout",
     "text": [
      "Collecting tabula-py\n",
      "  Downloading tabula_py-2.2.0-py3-none-any.whl (11.7 MB)\n",
      "\u001b[K     |████████████████████████████████| 11.7 MB 748 kB/s \n",
      "\u001b[?25hCollecting distro\n",
      "  Downloading distro-1.5.0-py2.py3-none-any.whl (18 kB)\n",
      "Requirement already satisfied: pandas>=0.25.3 in /home/anshul/anaconda3/envs/py38/lib/python3.8/site-packages (from tabula-py) (1.0.3)\n",
      "Requirement already satisfied: numpy in /home/anshul/anaconda3/envs/py38/lib/python3.8/site-packages (from tabula-py) (1.18.4)\n",
      "Requirement already satisfied: python-dateutil>=2.6.1 in /home/anshul/anaconda3/envs/py38/lib/python3.8/site-packages (from pandas>=0.25.3->tabula-py) (2.8.1)\n",
      "Requirement already satisfied: pytz>=2017.2 in /home/anshul/anaconda3/envs/py38/lib/python3.8/site-packages (from pandas>=0.25.3->tabula-py) (2020.1)\n",
      "Requirement already satisfied: six>=1.5 in /home/anshul/anaconda3/envs/py38/lib/python3.8/site-packages (from python-dateutil>=2.6.1->pandas>=0.25.3->tabula-py) (1.15.0)\n",
      "Installing collected packages: distro, tabula-py\n",
      "Successfully installed distro-1.5.0 tabula-py-2.2.0\n"
     ]
    }
   ],
   "source": [
    "!pip install tabula-py"
   ]
  },
  {
   "cell_type": "code",
   "execution_count": 21,
   "metadata": {},
   "outputs": [],
   "source": [
    "import tabula"
   ]
  },
  {
   "cell_type": "code",
   "execution_count": 33,
   "metadata": {},
   "outputs": [],
   "source": [
    "# df = tabula.read_pdf(path,pages='all')\n",
    "df = tabula.read_pdf(path, pages=1, lattice=True, area=(0, 0, 80, 100), relative_area=True)"
   ]
  },
  {
   "cell_type": "code",
   "execution_count": 36,
   "metadata": {},
   "outputs": [
    {
     "output_type": "execute_result",
     "data": {
      "text/plain": [
       "[Empty DataFrame\n",
       " Columns: [Search Tip:\n",
       " This is a large document, but you can search quickly and easily by entering CTRL F and it will then display a find box for you to type in the name of the\n",
       " drug you want to locate. If you do not know the correct spelling, you can start your search by entering just the first few letters of the name.]\n",
       " Index: [],\n",
       " Empty DataFrame\n",
       " Columns: [bacavir soln (ZIAGEN equiv)MSP2ANTIVIRALS]\n",
       " Index: [],\n",
       " Empty DataFrame\n",
       " Columns: [bacavir/lamivudine tab (EPZICOM equiv)MSP2ANTIVIRALS]\n",
       " Index: [],\n",
       " Empty DataFrame\n",
       " Columns: [BILIFY DISCMELT  (QL= 2 tabs/day)PA-QL3ANTIPSYCHOTICS/ANTIMANIC AGENTS]\n",
       " Index: [],\n",
       " Empty DataFrame\n",
       " Columns: [BILIFY SOLNPA3ANTIPSYCHOTICS/ANTIMANIC AGENTS]\n",
       " Index: [],\n",
       " Empty DataFrame\n",
       " Columns: [BRAXANE INJM-PAM\n",
       " ANTINEOPLASTICS AND ADJUNCTIVE\n",
       " THERAPIES]\n",
       " Index: [],\n",
       " Empty DataFrame\n",
       " Columns: [BSORICA LD CAP-NCDERMATOLOGICALS]\n",
       " Index: [],\n",
       " Empty DataFrame\n",
       " Columns: [camprosate calcium DR tab (CAMPRAL equiv)-2\n",
       " PSYCHOTHERAPEUTIC AND\n",
       " NEUROLOGICAL AGENTS - MISC.]\n",
       " Index: [],\n",
       " Empty DataFrame\n",
       " Columns: [CCU-CHEK AVIVA PLUS METEROTCNCMEDICAL DEVICES AND SUPPLIES]\n",
       " Index: [],\n",
       " Empty DataFrame\n",
       " Columns: [CCU-CHEK GUIDE CARE METEROTC$0MEDICAL DEVICES AND SUPPLIES]\n",
       " Index: [],\n",
       " Empty DataFrame\n",
       " Columns: [CCU-CHEK GUIDE TEST STRIPOTC2DIAGNOSTIC PRODUCTS]\n",
       " Index: [],\n",
       " Empty DataFrame\n",
       " Columns: [CCU-CHEK SMARTVIEW TEST STRIPOTC2DIAGNOSTIC PRODUCTS]\n",
       " Index: [],\n",
       " Empty DataFrame\n",
       " Columns: [CCUPRIL TAB-NCANTIHYPERTENSIVES]\n",
       " Index: [],\n",
       " Empty DataFrame\n",
       " Columns: [cebutolol cap (SECTRAL equiv)-1BETA BLOCKERS]\n",
       " Index: [],\n",
       " Empty DataFrame\n",
       " Columns: [cetaminophen/caffeine/dihydrocodeine tab (PANLOR SS equiv)-2ANALGESICS - OPIOID]\n",
       " Index: [],\n",
       " Empty DataFrame\n",
       " Columns: [cetaminophen/codeine tab (TYLENOL/CODEINE equiv)-1ANALGESICS - OPIOID]\n",
       " Index: [],\n",
       " Empty DataFrame\n",
       " Columns: [cetaminophen/isometheptene/dichloral cap (MIDRIN equiv)-NCMIGRAINE PRODUCTS]\n",
       " Index: [],\n",
       " Empty DataFrame\n",
       " Columns: [cetazolamide ER cap (DIAMOX SEQUEL equiv)-2DIURETICS]\n",
       " Index: [],\n",
       " Empty DataFrame\n",
       " Columns: [cetic acid otic soln (VOSOL equiv) (QL= 2 bottles/fill)QL1OTIC AGENTS]\n",
       " Index: [],\n",
       " Empty DataFrame\n",
       " Columns: [cetic acid/hydrocortisone otic soln (VOSOL HC equiv) (QL= 2 bottles/fill)QL1OTIC AGENTS]\n",
       " Index: [],\n",
       " Empty DataFrame\n",
       " Columns: [CIDIC VAGINAL JELLY-2VAGINAL PRODUCTS]\n",
       " Index: []]"
      ]
     },
     "metadata": {},
     "execution_count": 36
    }
   ],
   "source": [
    "df"
   ]
  },
  {
   "cell_type": "code",
   "execution_count": null,
   "metadata": {},
   "outputs": [],
   "source": []
  }
 ]
}