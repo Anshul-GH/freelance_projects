{
 "metadata": {
  "language_info": {
   "codemirror_mode": {
    "name": "ipython",
    "version": 3
   },
   "file_extension": ".py",
   "mimetype": "text/x-python",
   "name": "python",
   "nbconvert_exporter": "python",
   "pygments_lexer": "ipython3",
   "version": "3.8.3-final"
  },
  "orig_nbformat": 2,
  "kernelspec": {
   "name": "Python 3.8.3 64-bit ('base': conda)",
   "display_name": "Python 3.8.3 64-bit ('base': conda)",
   "metadata": {
    "interpreter": {
     "hash": "916e78022459d02449eb0e919933c0dffe7558a101efc3cf53aea168c8e1e9f5"
    }
   }
  }
 },
 "nbformat": 4,
 "nbformat_minor": 2,
 "cells": [
  {
   "cell_type": "code",
   "execution_count": 1,
   "metadata": {},
   "outputs": [
    {
     "output_type": "stream",
     "name": "stdout",
     "text": [
      "Collecting pdfminer\n  Downloading pdfminer-20191125.tar.gz (4.2 MB)\nCollecting pycryptodome\n  Downloading pycryptodome-3.9.8-cp38-cp38-win_amd64.whl (14.1 MB)\nBuilding wheels for collected packages: pdfminer\n  Building wheel for pdfminer (setup.py): started\n  Building wheel for pdfminer (setup.py): finished with status 'done'\n  Created wheel for pdfminer: filename=pdfminer-20191125-py3-none-any.whl size=6140115 sha256=bf1d7217e0e09f373867da6cd53cfb6fd7606ca8b38c2410be38f7a578cd8c9a\n  Stored in directory: c:\\users\\anshul_jain\\appdata\\local\\pip\\cache\\wheels\\1c\\28\\7d\\f390b82bb0307deb63ff27a1474fd308ec68ee028cb9ab6283\nSuccessfully built pdfminer\nInstalling collected packages: pycryptodome, pdfminer\nSuccessfully installed pdfminer-20191125 pycryptodome-3.9.8\n"
     ]
    }
   ],
   "source": [
    "!pip install pdfminer"
   ]
  },
  {
   "cell_type": "code",
   "execution_count": 5,
   "metadata": {},
   "outputs": [
    {
     "output_type": "stream",
     "name": "stdout",
     "text": [
      "Requirement already satisfied: pdfminer.six in c:\\users\\anshul_jain\\anaconda3\\lib\\site-packages (20201018)\nRequirement already satisfied: sortedcontainers in c:\\users\\anshul_jain\\anaconda3\\lib\\site-packages (from pdfminer.six) (2.2.2)\nRequirement already satisfied: cryptography in c:\\users\\anshul_jain\\anaconda3\\lib\\site-packages (from pdfminer.six) (2.9.2)\nRequirement already satisfied: chardet; python_version > \"3.0\" in c:\\users\\anshul_jain\\anaconda3\\lib\\site-packages (from pdfminer.six) (3.0.4)\nRequirement already satisfied: cffi!=1.11.3,>=1.8 in c:\\users\\anshul_jain\\anaconda3\\lib\\site-packages (from cryptography->pdfminer.six) (1.14.0)\nRequirement already satisfied: six>=1.4.1 in c:\\users\\anshul_jain\\anaconda3\\lib\\site-packages (from cryptography->pdfminer.six) (1.15.0)\nRequirement already satisfied: pycparser in c:\\users\\anshul_jain\\anaconda3\\lib\\site-packages (from cffi!=1.11.3,>=1.8->cryptography->pdfminer.six) (2.20)\n"
     ]
    }
   ],
   "source": [
    "!pip install pdfminer.six"
   ]
  },
  {
   "cell_type": "code",
   "execution_count": 2,
   "metadata": {},
   "outputs": [],
   "source": [
    "from pdfminer.pdfinterp import PDFResourceManager, PDFPageInterpreter\n",
    "from pdfminer.converter import TextConverter\n",
    "from pdfminer.layout import LAParams\n",
    "from pdfminer.pdfpage import PDFPage\n",
    "from io import StringIO"
   ]
  },
  {
   "cell_type": "code",
   "execution_count": 7,
   "metadata": {},
   "outputs": [],
   "source": [
    "def convert_pdf_to_text(path):\n",
    "    rsrcmgr = PDFResourceManager()\n",
    "    retstr = StringIO()\n",
    "    # codec = 'utf-8'\n",
    "    laparams = LAParams()\n",
    "    device = TextConverter(rsrcmgr, retstr, laparams=laparams) #codec=codec, \n",
    "    fp = open(path, 'rb')\n",
    "    interpreter = PDFPageInterpreter(rsrcmgr, device)\n",
    "    password = \"\"\n",
    "    maxpages = 0\n",
    "    caching = True\n",
    "    pagenos = set()\n",
    "\n",
    "    for page in PDFPage.get_pages(fp, pagenos, maxpages=maxpages, \n",
    "                                    password=password, caching=caching, \n",
    "                                    check_extractable=True):\n",
    "        interpreter.process_page(page)\n",
    "\n",
    "    text = retstr.getvalue()\n",
    "\n",
    "    fp.close()\n",
    "    device.close()\n",
    "    retstr.close()\n",
    "\n",
    "    return text"
   ]
  },
  {
   "cell_type": "code",
   "execution_count": 10,
   "metadata": {},
   "outputs": [],
   "source": [
    "# text = convert_pdf_to_text(\"foo.pdf\")\n",
    "text = convert_pdf_to_text(\"new.pdf\")"
   ]
  },
  {
   "cell_type": "code",
   "execution_count": 12,
   "metadata": {},
   "outputs": [],
   "source": [
    "# text\n",
    "text_file = open('01_extracted.txt', 'a')\n",
    "n = text_file.write(text)\n",
    "text_file.close()"
   ]
  },
  {
   "cell_type": "code",
   "execution_count": 1,
   "metadata": {},
   "outputs": [],
   "source": [
    "# pdfminer is able to extract text without formatting and also not in order."
   ]
  },
  {
   "cell_type": "code",
   "execution_count": null,
   "metadata": {},
   "outputs": [],
   "source": []
  }
 ]
}