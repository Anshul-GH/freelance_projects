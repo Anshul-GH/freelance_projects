{
 "cells": [
  {
   "cell_type": "code",
   "execution_count": 162,
   "metadata": {},
   "outputs": [],
   "source": [
    "import matplotlib.pyplot as plt\n",
    "import pandas as pd\n",
    "pd.options.mode.chained_assignment = None\n",
    "import os\n",
    "\n",
    "# setup the default file lookup location to cwd\n",
    "__location__ = os.path.realpath(os.path.join(os.getcwd(), os.path.abspath('')))\n",
    "\n",
    "df = pd.read_csv(__location__ + \"/data.csv\")\n",
    "df_meta = pd.DataFrame(df['Degree'].value_counts()).reset_index()\n",
    "df_meta.columns = ['Degree','Percent']\n",
    "\n",
    "# add additional columns\n",
    "df_meta['Male'] = 0\n",
    "df_meta['Female'] = 0"
   ]
  },
  {
   "cell_type": "code",
   "execution_count": 163,
   "metadata": {
    "scrolled": false
   },
   "outputs": [],
   "source": [
    "# preparing metadata\n",
    "for idx in df_meta.index:\n",
    "    # df_meta['Degree'] = str(idx)\n",
    "    filtr = str(df_meta.Degree[idx])\n",
    "    temp_df = df.loc[df.Degree == filtr]\n",
    "    \n",
    "    df_meta.Male[idx] = temp_df.Gender.value_counts()[0]\n",
    "    df_meta.Female[idx] = temp_df.Gender.value_counts()[1]"
   ]
  },
  {
   "cell_type": "code",
   "execution_count": 164,
   "metadata": {},
   "outputs": [
    {
     "data": {
      "text/html": [
       "<div>\n",
       "<style scoped>\n",
       "    .dataframe tbody tr th:only-of-type {\n",
       "        vertical-align: middle;\n",
       "    }\n",
       "\n",
       "    .dataframe tbody tr th {\n",
       "        vertical-align: top;\n",
       "    }\n",
       "\n",
       "    .dataframe thead th {\n",
       "        text-align: right;\n",
       "    }\n",
       "</style>\n",
       "<table border=\"1\" class=\"dataframe\">\n",
       "  <thead>\n",
       "    <tr style=\"text-align: right;\">\n",
       "      <th></th>\n",
       "      <th>Degree</th>\n",
       "      <th>Percent</th>\n",
       "      <th>Male</th>\n",
       "      <th>Female</th>\n",
       "    </tr>\n",
       "  </thead>\n",
       "  <tbody>\n",
       "    <tr>\n",
       "      <th>0</th>\n",
       "      <td>B-MI</td>\n",
       "      <td>43</td>\n",
       "      <td>22</td>\n",
       "      <td>21</td>\n",
       "    </tr>\n",
       "    <tr>\n",
       "      <th>1</th>\n",
       "      <td>B-DMT</td>\n",
       "      <td>40</td>\n",
       "      <td>21</td>\n",
       "      <td>19</td>\n",
       "    </tr>\n",
       "    <tr>\n",
       "      <th>2</th>\n",
       "      <td>B-ARCH</td>\n",
       "      <td>17</td>\n",
       "      <td>14</td>\n",
       "      <td>3</td>\n",
       "    </tr>\n",
       "  </tbody>\n",
       "</table>\n",
       "</div>"
      ],
      "text/plain": [
       "   Degree  Percent  Male  Female\n",
       "0    B-MI       43    22      21\n",
       "1   B-DMT       40    21      19\n",
       "2  B-ARCH       17    14       3"
      ]
     },
     "execution_count": 164,
     "metadata": {},
     "output_type": "execute_result"
    }
   ],
   "source": [
    "# checking the metadata output \n",
    "# this is the data we will be using to plot the graphs\n",
    "df_meta"
   ]
  },
  {
   "cell_type": "code",
   "execution_count": 165,
   "metadata": {
    "scrolled": true
   },
   "outputs": [
    {
     "data": {
      "text/plain": [
       "<matplotlib.legend.Legend at 0x7fbcab9d84e0>"
      ]
     },
     "execution_count": 165,
     "metadata": {},
     "output_type": "execute_result"
    },
    {
     "data": {
      "image/png": "[encoded data removed]",
      "text/plain": [
       "<Figure size 432x288 with 2 Axes>"
      ]
     },
     "metadata": {
      "needs_background": "light"
     },
     "output_type": "display_data"
    }
   ],
   "source": [
    "# start with the plotting\n",
    "fig, (ax1,ax2) = plt.subplots(1,2)\n",
    "\n",
    "ax1.pie('Percent', autopct='%1.1f%%', data=df_meta)\n",
    "p1 = ax2.bar('Degree', 'Female', data=df_meta)\n",
    "p2 = ax2.bar('Degree', 'Male', bottom='Female', data=df_meta)\n",
    "\n",
    "ax1.legend(labels=df_meta['Degree'], loc=\"lower right\")\n",
    "ax2.legend(labels=['M','F'], loc=\"upper right\")"
   ]
  },
  {
   "cell_type": "code",
   "execution_count": null,
   "metadata": {},
   "outputs": [],
   "source": []
  }
 ],
 "metadata": {
  "kernelspec": {
   "display_name": "Python 3",
   "language": "python",
   "name": "python3"
  },
  "language_info": {
   "codemirror_mode": {
    "name": "ipython",
    "version": 3
   },
   "file_extension": ".py",
   "mimetype": "text/x-python",
   "name": "python",
   "nbconvert_exporter": "python",
   "pygments_lexer": "ipython3",
   "version": "3.7.3"
  }
 },
 "nbformat": 4,
 "nbformat_minor": 2
}
