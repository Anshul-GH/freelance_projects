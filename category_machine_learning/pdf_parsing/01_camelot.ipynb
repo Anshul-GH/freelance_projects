{
 "metadata": {
  "language_info": {
   "codemirror_mode": {
    "name": "ipython",
    "version": 3
   },
   "file_extension": ".py",
   "mimetype": "text/x-python",
   "name": "python",
   "nbconvert_exporter": "python",
   "pygments_lexer": "ipython3",
   "version": "3.8.3-final"
  },
  "orig_nbformat": 2,
  "kernelspec": {
   "name": "Python 3.8.3 64-bit ('base': conda)",
   "display_name": "Python 3.8.3 64-bit ('base': conda)",
   "metadata": {
    "interpreter": {
     "hash": "916e78022459d02449eb0e919933c0dffe7558a101efc3cf53aea168c8e1e9f5"
    }
   }
  }
 },
 "nbformat": 4,
 "nbformat_minor": 2,
 "cells": [
  {
   "cell_type": "code",
   "execution_count": 16,
   "metadata": {},
   "outputs": [],
   "source": [
    "# !pip38 install camelot-py[cv]"
   ]
  },
  {
   "cell_type": "code",
   "execution_count": 17,
   "metadata": {},
   "outputs": [],
   "source": [
    "# file path \n",
    "pdf_path = r'\\src\\foo.pdf'\n",
    "root = !cd\n",
    "path = str(root[0]) + pdf_path"
   ]
  },
  {
   "cell_type": "code",
   "execution_count": 18,
   "metadata": {},
   "outputs": [
    {
     "output_type": "stream",
     "name": "stdout",
     "text": [
      "<TableList n=1>\n<Table shape=(12, 7)>\n{'accuracy': 95.87, 'whitespace': 38.1, 'order': 1, 'page': 0}\n"
     ]
    }
   ],
   "source": [
    "import camelot\n",
    "\n",
    "output_camelot = camelot.read_pdf(\n",
    "    filepath=path, pages=str(0), flavor=\"stream\"\n",
    ")\n",
    "print(output_camelot)\n",
    "table = output_camelot[0]\n",
    "print(table)\n",
    "print(table.parsing_report)"
   ]
  },
  {
   "cell_type": "code",
   "execution_count": 19,
   "metadata": {},
   "outputs": [
    {
     "output_type": "stream",
     "name": "stdout",
     "text": [
      "<Table shape=(12, 7)>\n<class 'camelot.core.Table'>\n"
     ]
    }
   ],
   "source": [
    "print(table)\n",
    "print(type(table))"
   ]
  },
  {
   "cell_type": "code",
   "execution_count": 14,
   "metadata": {},
   "outputs": [
    {
     "output_type": "execute_result",
     "data": {
      "text/plain": [
       "                                                    0  \\\n",
       "0   reducing the number of stops in high KI cycles...   \n",
       "1                                                       \n",
       "2                                                       \n",
       "3                                               Cycle   \n",
       "4                                                       \n",
       "5                                                Name   \n",
       "6                                                       \n",
       "7                                              2012_2   \n",
       "8                                              2145_1   \n",
       "9                                              4234_1   \n",
       "10                                             2032_2   \n",
       "11                                             4171_1   \n",
       "\n",
       "                                                    1         2         3  \\\n",
       "0                                                                           \n",
       "1   Table 2-1. Simulated fuel savings from isolate...                       \n",
       "2                                                                           \n",
       "3                                                  KI  Distance             \n",
       "4                                                                Improved   \n",
       "5                                              (1/km)      (mi)             \n",
       "6                                                                   Speed   \n",
       "7                                                3.30       1.3      5.9%   \n",
       "8                                                0.68      11.2      2.4%   \n",
       "9                                                0.59      58.7      8.5%   \n",
       "10                                               0.17      57.8     21.7%   \n",
       "11                                               0.07     173.9     58.1%   \n",
       "\n",
       "            4                     5          6  \n",
       "0                                               \n",
       "1                                               \n",
       "2              Percent Fuel Savings             \n",
       "3                                               \n",
       "4   Decreased             Eliminate  Decreased  \n",
       "5                                               \n",
       "6       Accel                 Stops       Idle  \n",
       "7        9.5%                 29.2%      17.4%  \n",
       "8        0.1%                  9.5%       2.7%  \n",
       "9        1.3%                  8.5%       3.3%  \n",
       "10       0.3%                  2.7%       1.2%  \n",
       "11       1.6%                  2.1%       0.5%  "
      ],
      "text/html": "<div>\n<style scoped>\n    .dataframe tbody tr th:only-of-type {\n        vertical-align: middle;\n    }\n\n    .dataframe tbody tr th {\n        vertical-align: top;\n    }\n\n    .dataframe thead th {\n        text-align: right;\n    }\n</style>\n<table border=\"1\" class=\"dataframe\">\n  <thead>\n    <tr style=\"text-align: right;\">\n      <th></th>\n      <th>0</th>\n      <th>1</th>\n      <th>2</th>\n      <th>3</th>\n      <th>4</th>\n      <th>5</th>\n      <th>6</th>\n    </tr>\n  </thead>\n  <tbody>\n    <tr>\n      <th>0</th>\n      <td>reducing the number of stops in high KI cycles...</td>\n      <td></td>\n      <td></td>\n      <td></td>\n      <td></td>\n      <td></td>\n      <td></td>\n    </tr>\n    <tr>\n      <th>1</th>\n      <td></td>\n      <td>Table 2-1. Simulated fuel savings from isolate...</td>\n      <td></td>\n      <td></td>\n      <td></td>\n      <td></td>\n      <td></td>\n    </tr>\n    <tr>\n      <th>2</th>\n      <td></td>\n      <td></td>\n      <td></td>\n      <td></td>\n      <td></td>\n      <td>Percent Fuel Savings</td>\n      <td></td>\n    </tr>\n    <tr>\n      <th>3</th>\n      <td>Cycle</td>\n      <td>KI</td>\n      <td>Distance</td>\n      <td></td>\n      <td></td>\n      <td></td>\n      <td></td>\n    </tr>\n    <tr>\n      <th>4</th>\n      <td></td>\n      <td></td>\n      <td></td>\n      <td>Improved</td>\n      <td>Decreased</td>\n      <td>Eliminate</td>\n      <td>Decreased</td>\n    </tr>\n    <tr>\n      <th>5</th>\n      <td>Name</td>\n      <td>(1/km)</td>\n      <td>(mi)</td>\n      <td></td>\n      <td></td>\n      <td></td>\n      <td></td>\n    </tr>\n    <tr>\n      <th>6</th>\n      <td></td>\n      <td></td>\n      <td></td>\n      <td>Speed</td>\n      <td>Accel</td>\n      <td>Stops</td>\n      <td>Idle</td>\n    </tr>\n    <tr>\n      <th>7</th>\n      <td>2012_2</td>\n      <td>3.30</td>\n      <td>1.3</td>\n      <td>5.9%</td>\n      <td>9.5%</td>\n      <td>29.2%</td>\n      <td>17.4%</td>\n    </tr>\n    <tr>\n      <th>8</th>\n      <td>2145_1</td>\n      <td>0.68</td>\n      <td>11.2</td>\n      <td>2.4%</td>\n      <td>0.1%</td>\n      <td>9.5%</td>\n      <td>2.7%</td>\n    </tr>\n    <tr>\n      <th>9</th>\n      <td>4234_1</td>\n      <td>0.59</td>\n      <td>58.7</td>\n      <td>8.5%</td>\n      <td>1.3%</td>\n      <td>8.5%</td>\n      <td>3.3%</td>\n    </tr>\n    <tr>\n      <th>10</th>\n      <td>2032_2</td>\n      <td>0.17</td>\n      <td>57.8</td>\n      <td>21.7%</td>\n      <td>0.3%</td>\n      <td>2.7%</td>\n      <td>1.2%</td>\n    </tr>\n    <tr>\n      <th>11</th>\n      <td>4171_1</td>\n      <td>0.07</td>\n      <td>173.9</td>\n      <td>58.1%</td>\n      <td>1.6%</td>\n      <td>2.1%</td>\n      <td>0.5%</td>\n    </tr>\n  </tbody>\n</table>\n</div>"
     },
     "metadata": {},
     "execution_count": 14
    }
   ],
   "source": [
    "table.df"
   ]
  },
  {
   "cell_type": "code",
   "execution_count": 20,
   "metadata": {},
   "outputs": [],
   "source": [
    "df = table.df"
   ]
  },
  {
   "cell_type": "code",
   "execution_count": 21,
   "metadata": {},
   "outputs": [
    {
     "output_type": "execute_result",
     "data": {
      "text/plain": [
       "RangeIndex(start=0, stop=7, step=1)"
      ]
     },
     "metadata": {},
     "execution_count": 21
    }
   ],
   "source": [
    "df.columns"
   ]
  },
  {
   "cell_type": "code",
   "execution_count": 23,
   "metadata": {},
   "outputs": [],
   "source": [
    "# cleanse the table by dropping specific rows\n",
    "# check of rows with null data\n",
    "# df.isnull()"
   ]
  },
  {
   "cell_type": "code",
   "execution_count": 25,
   "metadata": {},
   "outputs": [],
   "source": [
    "# drop the initial set of rows\n",
    "df1 = df.drop(axis=0, index=[0,1,2,3,4,5,6])"
   ]
  },
  {
   "cell_type": "code",
   "execution_count": 26,
   "metadata": {},
   "outputs": [
    {
     "output_type": "execute_result",
     "data": {
      "text/plain": [
       "         0     1      2      3     4      5      6\n",
       "7   2012_2  3.30    1.3   5.9%  9.5%  29.2%  17.4%\n",
       "8   2145_1  0.68   11.2   2.4%  0.1%   9.5%   2.7%\n",
       "9   4234_1  0.59   58.7   8.5%  1.3%   8.5%   3.3%\n",
       "10  2032_2  0.17   57.8  21.7%  0.3%   2.7%   1.2%\n",
       "11  4171_1  0.07  173.9  58.1%  1.6%   2.1%   0.5%"
      ],
      "text/html": "<div>\n<style scoped>\n    .dataframe tbody tr th:only-of-type {\n        vertical-align: middle;\n    }\n\n    .dataframe tbody tr th {\n        vertical-align: top;\n    }\n\n    .dataframe thead th {\n        text-align: right;\n    }\n</style>\n<table border=\"1\" class=\"dataframe\">\n  <thead>\n    <tr style=\"text-align: right;\">\n      <th></th>\n      <th>0</th>\n      <th>1</th>\n      <th>2</th>\n      <th>3</th>\n      <th>4</th>\n      <th>5</th>\n      <th>6</th>\n    </tr>\n  </thead>\n  <tbody>\n    <tr>\n      <th>7</th>\n      <td>2012_2</td>\n      <td>3.30</td>\n      <td>1.3</td>\n      <td>5.9%</td>\n      <td>9.5%</td>\n      <td>29.2%</td>\n      <td>17.4%</td>\n    </tr>\n    <tr>\n      <th>8</th>\n      <td>2145_1</td>\n      <td>0.68</td>\n      <td>11.2</td>\n      <td>2.4%</td>\n      <td>0.1%</td>\n      <td>9.5%</td>\n      <td>2.7%</td>\n    </tr>\n    <tr>\n      <th>9</th>\n      <td>4234_1</td>\n      <td>0.59</td>\n      <td>58.7</td>\n      <td>8.5%</td>\n      <td>1.3%</td>\n      <td>8.5%</td>\n      <td>3.3%</td>\n    </tr>\n    <tr>\n      <th>10</th>\n      <td>2032_2</td>\n      <td>0.17</td>\n      <td>57.8</td>\n      <td>21.7%</td>\n      <td>0.3%</td>\n      <td>2.7%</td>\n      <td>1.2%</td>\n    </tr>\n    <tr>\n      <th>11</th>\n      <td>4171_1</td>\n      <td>0.07</td>\n      <td>173.9</td>\n      <td>58.1%</td>\n      <td>1.6%</td>\n      <td>2.1%</td>\n      <td>0.5%</td>\n    </tr>\n  </tbody>\n</table>\n</div>"
     },
     "metadata": {},
     "execution_count": 26
    }
   ],
   "source": [
    "df1"
   ]
  },
  {
   "cell_type": "code",
   "execution_count": 27,
   "metadata": {},
   "outputs": [],
   "source": [
    "columns = ['Cycle Name', 'KI (1/km)', 'Distance (mi)', 'Improved Speed', 'Decreased Accel', 'Eliminate Stops', 'Decreased Idle']"
   ]
  },
  {
   "cell_type": "code",
   "execution_count": 28,
   "metadata": {},
   "outputs": [],
   "source": [
    "df1.columns = columns"
   ]
  },
  {
   "cell_type": "code",
   "execution_count": 29,
   "metadata": {},
   "outputs": [
    {
     "output_type": "execute_result",
     "data": {
      "text/plain": [
       "   Cycle Name KI (1/km) Distance (mi) Improved Speed Decreased Accel  \\\n",
       "7      2012_2      3.30           1.3           5.9%            9.5%   \n",
       "8      2145_1      0.68          11.2           2.4%            0.1%   \n",
       "9      4234_1      0.59          58.7           8.5%            1.3%   \n",
       "10     2032_2      0.17          57.8          21.7%            0.3%   \n",
       "11     4171_1      0.07         173.9          58.1%            1.6%   \n",
       "\n",
       "   Eliminate Stops Decreased Idle  \n",
       "7            29.2%          17.4%  \n",
       "8             9.5%           2.7%  \n",
       "9             8.5%           3.3%  \n",
       "10            2.7%           1.2%  \n",
       "11            2.1%           0.5%  "
      ],
      "text/html": "<div>\n<style scoped>\n    .dataframe tbody tr th:only-of-type {\n        vertical-align: middle;\n    }\n\n    .dataframe tbody tr th {\n        vertical-align: top;\n    }\n\n    .dataframe thead th {\n        text-align: right;\n    }\n</style>\n<table border=\"1\" class=\"dataframe\">\n  <thead>\n    <tr style=\"text-align: right;\">\n      <th></th>\n      <th>Cycle Name</th>\n      <th>KI (1/km)</th>\n      <th>Distance (mi)</th>\n      <th>Improved Speed</th>\n      <th>Decreased Accel</th>\n      <th>Eliminate Stops</th>\n      <th>Decreased Idle</th>\n    </tr>\n  </thead>\n  <tbody>\n    <tr>\n      <th>7</th>\n      <td>2012_2</td>\n      <td>3.30</td>\n      <td>1.3</td>\n      <td>5.9%</td>\n      <td>9.5%</td>\n      <td>29.2%</td>\n      <td>17.4%</td>\n    </tr>\n    <tr>\n      <th>8</th>\n      <td>2145_1</td>\n      <td>0.68</td>\n      <td>11.2</td>\n      <td>2.4%</td>\n      <td>0.1%</td>\n      <td>9.5%</td>\n      <td>2.7%</td>\n    </tr>\n    <tr>\n      <th>9</th>\n      <td>4234_1</td>\n      <td>0.59</td>\n      <td>58.7</td>\n      <td>8.5%</td>\n      <td>1.3%</td>\n      <td>8.5%</td>\n      <td>3.3%</td>\n    </tr>\n    <tr>\n      <th>10</th>\n      <td>2032_2</td>\n      <td>0.17</td>\n      <td>57.8</td>\n      <td>21.7%</td>\n      <td>0.3%</td>\n      <td>2.7%</td>\n      <td>1.2%</td>\n    </tr>\n    <tr>\n      <th>11</th>\n      <td>4171_1</td>\n      <td>0.07</td>\n      <td>173.9</td>\n      <td>58.1%</td>\n      <td>1.6%</td>\n      <td>2.1%</td>\n      <td>0.5%</td>\n    </tr>\n  </tbody>\n</table>\n</div>"
     },
     "metadata": {},
     "execution_count": 29
    }
   ],
   "source": [
    "df1"
   ]
  },
  {
   "cell_type": "code",
   "execution_count": null,
   "metadata": {},
   "outputs": [],
   "source": []
  }
 ]
}