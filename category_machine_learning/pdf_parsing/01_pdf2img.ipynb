{
 "metadata": {
  "language_info": {
   "codemirror_mode": {
    "name": "ipython",
    "version": 3
   },
   "file_extension": ".py",
   "mimetype": "text/x-python",
   "name": "python",
   "nbconvert_exporter": "python",
   "pygments_lexer": "ipython3",
   "version": "3.8.3-final"
  },
  "orig_nbformat": 2,
  "kernelspec": {
   "name": "Python 3.8.3 64-bit ('base': conda)",
   "display_name": "Python 3.8.3 64-bit ('base': conda)",
   "metadata": {
    "interpreter": {
     "hash": "916e78022459d02449eb0e919933c0dffe7558a101efc3cf53aea168c8e1e9f5"
    }
   }
  }
 },
 "nbformat": 4,
 "nbformat_minor": 2,
 "cells": [
  {
   "cell_type": "code",
   "execution_count": 1,
   "metadata": {},
   "outputs": [],
   "source": [
    "from pdf2image import convert_from_path\n",
    "import matplotlib.pyplot as plt"
   ]
  },
  {
   "cell_type": "code",
   "execution_count": 2,
   "metadata": {},
   "outputs": [],
   "source": [
    "pdf_path = r'\\src\\foo.pdf'\n",
    "root = !cd\n",
    "path = str(root[0]) + pdf_path"
   ]
  },
  {
   "cell_type": "code",
   "execution_count": 4,
   "metadata": {},
   "outputs": [],
   "source": [
    "page=0\n",
    "poppler_path = r\"C:\\Users\\Anshul_Jain\\Anaconda3\\poppler_20.10.0\\bin\"\n",
    "img_page = convert_from_path(path, first_page=page, last_page=page+1, output_folder='./img/', fmt='jpg', poppler_path=poppler_path)"
   ]
  },
  {
   "cell_type": "code",
   "execution_count": 6,
   "metadata": {},
   "outputs": [],
   "source": [
    " # import ssl"
   ]
  },
  {
   "cell_type": "code",
   "execution_count": 7,
   "metadata": {},
   "outputs": [],
   "source": [
    "# ssl.OPENSSL_VERSION"
   ]
  },
  {
   "cell_type": "code",
   "execution_count": 6,
   "metadata": {},
   "outputs": [
    {
     "output_type": "stream",
     "name": "stdout",
     "text": [
      "Collecting pdf2image\n  Using cached pdf2image-1.14.0-py3-none-any.whl (10 kB)\nRequirement already satisfied: pillow in c:\\users\\anshul_jain\\anaconda3\\lib\\site-packages (from pdf2image) (7.2.0)\nInstalling collected packages: pdf2image\nSuccessfully installed pdf2image-1.14.0\n"
     ]
    }
   ],
   "source": [
    "!pip38 install pdf2image"
   ]
  },
  {
   "cell_type": "code",
   "execution_count": 11,
   "metadata": {},
   "outputs": [
    {
     "output_type": "stream",
     "name": "stdout",
     "text": [
      "[<PIL.JpegImagePlugin.JpegImageFile image mode=RGB size=1700x2200 at 0x271487B8220>]\n"
     ]
    }
   ],
   "source": [
    "plt.show\n",
    "print(img_page)\n"
   ]
  },
  {
   "cell_type": "code",
   "execution_count": null,
   "metadata": {},
   "outputs": [],
   "source": []
  }
 ]
}