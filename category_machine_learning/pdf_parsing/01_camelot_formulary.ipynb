{
 "metadata": {
  "language_info": {
   "codemirror_mode": {
    "name": "ipython",
    "version": 3
   },
   "file_extension": ".py",
   "mimetype": "text/x-python",
   "name": "python",
   "nbconvert_exporter": "python",
   "pygments_lexer": "ipython3",
   "version": "3.8.3-final"
  },
  "orig_nbformat": 2,
  "kernelspec": {
   "name": "Python 3.8.3 64-bit ('base': conda)",
   "display_name": "Python 3.8.3 64-bit ('base': conda)",
   "metadata": {
    "interpreter": {
     "hash": "916e78022459d02449eb0e919933c0dffe7558a101efc3cf53aea168c8e1e9f5"
    }
   }
  }
 },
 "nbformat": 4,
 "nbformat_minor": 2,
 "cells": [
  {
   "cell_type": "code",
   "execution_count": 1,
   "metadata": {},
   "outputs": [],
   "source": [
    "# source file path\n",
    "pdf_path = r'\\src\\januarynew.pdf'\n",
    "root = !cd\n",
    "path = str(root[0]) + pdf_path"
   ]
  },
  {
   "cell_type": "code",
   "execution_count": 2,
   "metadata": {},
   "outputs": [
    {
     "output_type": "stream",
     "name": "stdout",
     "text": [
      "<TableList n=191>\n"
     ]
    }
   ],
   "source": [
    "import camelot\n",
    "\n",
    "output_camelot = camelot.read_pdf(\n",
    "    filepath=path, pages=str('4-194'), flavor=\"stream\"\n",
    ")\n",
    "print(output_camelot)\n",
    "# table = output_camelot[0]\n",
    "# print(table)\n",
    "# print(table.parsing_report)"
   ]
  },
  {
   "cell_type": "code",
   "execution_count": 3,
   "metadata": {},
   "outputs": [
    {
     "output_type": "stream",
     "name": "stdout",
     "text": [
      "<TableList n=191>\n{'accuracy': 99.92, 'whitespace': 41.09, 'order': 1, 'page': 4}\n"
     ]
    }
   ],
   "source": [
    "table = output_camelot[0]\n",
    "print(output_camelot)\n",
    "print(table.parsing_report)"
   ]
  },
  {
   "cell_type": "code",
   "execution_count": 5,
   "metadata": {},
   "outputs": [
    {
     "output_type": "execute_result",
     "data": {
      "text/plain": [
       "                                          0               1             2\n",
       "0                                Medication  Coverage Level  Restrictions\n",
       "1                          enovarx-tramadol              T9              \n",
       "2                  ESOTERICA SENSITIVE SKIN              T9              \n",
       "3                 folic acid-vit b6-vit b12              T9              \n",
       "4                              GINSENG EDGE              T9              \n",
       "5                             iodoquimez-hc              T9              \n",
       "6     lorazepam oral concentrate 1 mg/0.5ml              T1              \n",
       "7        MONOJECT MAGELLAN SYRINGE 21G X 1-                              \n",
       "8                                                        T2              \n",
       "9                                 1/2\" 6 ML                              \n",
       "10                        pre-natal formula              T1              \n",
       "11                           prenatal forte              T1              \n",
       "12               select-lite device/lancets              T2              \n",
       "13                       urea external foam              T9              \n",
       "14                      Antihistamine Drugs                              \n",
       "15                 Ethanolamine Derivatives                              \n",
       "16      carbinoxamine maleate oral solution              T1              \n",
       "17   carbinoxamine maleate oral tablet 4 mg              T1              \n",
       "18   carbinoxamine maleate oral tablet 6 mg              T9              \n",
       "19  clemastine fumarate oral tablet 1.34 mg              T9              \n",
       "20  clemastine fumarate oral tablet 2.68 mg              T1              \n",
       "21                        DICOPANOL FUSEPAQ              T9              \n",
       "22         diphenhydramine hcl oral capsule              T9              \n",
       "23          diphenhydramine hcl oral elixir              T9              \n",
       "24              KARBINAL ER ORAL SUSPENSION                              \n",
       "25                                                       T9              \n",
       "26                         EXTENDED RELEASE                              \n",
       "27                                   RYVENT              T9              \n",
       "28              Ethylenediamine Derivatives                              \n",
       "29                             maxi-tuss cd              T9              \n",
       "30  First Gen. Antihist. Derivatives, Misc.                              \n",
       "31                  cyproheptadine hcl oral              T1              \n",
       "32          First Generation Antihistamines                              \n",
       "33      carbinoxamine maleate oral solution              T1              \n",
       "34   carbinoxamine maleate oral tablet 4 mg              T1              \n",
       "35   carbinoxamine maleate oral tablet 6 mg              T9              \n",
       "36              chlorpheniramine maleate er              T9              \n",
       "37  clemastine fumarate oral tablet 1.34 mg              T9              \n",
       "38  clemastine fumarate oral tablet 2.68 mg              T1              \n",
       "39                  cyproheptadine hcl oral              T1              \n",
       "40                        DICOPANOL FUSEPAQ              T9              \n",
       "41         diphenhydramine hcl oral capsule              T9              \n",
       "42          diphenhydramine hcl oral elixir              T9              "
      ],
      "text/html": "<div>\n<style scoped>\n    .dataframe tbody tr th:only-of-type {\n        vertical-align: middle;\n    }\n\n    .dataframe tbody tr th {\n        vertical-align: top;\n    }\n\n    .dataframe thead th {\n        text-align: right;\n    }\n</style>\n<table border=\"1\" class=\"dataframe\">\n  <thead>\n    <tr style=\"text-align: right;\">\n      <th></th>\n      <th>0</th>\n      <th>1</th>\n      <th>2</th>\n    </tr>\n  </thead>\n  <tbody>\n    <tr>\n      <th>0</th>\n      <td>Medication</td>\n      <td>Coverage Level</td>\n      <td>Restrictions</td>\n    </tr>\n    <tr>\n      <th>1</th>\n      <td>enovarx-tramadol</td>\n      <td>T9</td>\n      <td></td>\n    </tr>\n    <tr>\n      <th>2</th>\n      <td>ESOTERICA SENSITIVE SKIN</td>\n      <td>T9</td>\n      <td></td>\n    </tr>\n    <tr>\n      <th>3</th>\n      <td>folic acid-vit b6-vit b12</td>\n      <td>T9</td>\n      <td></td>\n    </tr>\n    <tr>\n      <th>4</th>\n      <td>GINSENG EDGE</td>\n      <td>T9</td>\n      <td></td>\n    </tr>\n    <tr>\n      <th>5</th>\n      <td>iodoquimez-hc</td>\n      <td>T9</td>\n      <td></td>\n    </tr>\n    <tr>\n      <th>6</th>\n      <td>lorazepam oral concentrate 1 mg/0.5ml</td>\n      <td>T1</td>\n      <td></td>\n    </tr>\n    <tr>\n      <th>7</th>\n      <td>MONOJECT MAGELLAN SYRINGE 21G X 1-</td>\n      <td></td>\n      <td></td>\n    </tr>\n    <tr>\n      <th>8</th>\n      <td></td>\n      <td>T2</td>\n      <td></td>\n    </tr>\n    <tr>\n      <th>9</th>\n      <td>1/2\" 6 ML</td>\n      <td></td>\n      <td></td>\n    </tr>\n    <tr>\n      <th>10</th>\n      <td>pre-natal formula</td>\n      <td>T1</td>\n      <td></td>\n    </tr>\n    <tr>\n      <th>11</th>\n      <td>prenatal forte</td>\n      <td>T1</td>\n      <td></td>\n    </tr>\n    <tr>\n      <th>12</th>\n      <td>select-lite device/lancets</td>\n      <td>T2</td>\n      <td></td>\n    </tr>\n    <tr>\n      <th>13</th>\n      <td>urea external foam</td>\n      <td>T9</td>\n      <td></td>\n    </tr>\n    <tr>\n      <th>14</th>\n      <td>Antihistamine Drugs</td>\n      <td></td>\n      <td></td>\n    </tr>\n    <tr>\n      <th>15</th>\n      <td>Ethanolamine Derivatives</td>\n      <td></td>\n      <td></td>\n    </tr>\n    <tr>\n      <th>16</th>\n      <td>carbinoxamine maleate oral solution</td>\n      <td>T1</td>\n      <td></td>\n    </tr>\n    <tr>\n      <th>17</th>\n      <td>carbinoxamine maleate oral tablet 4 mg</td>\n      <td>T1</td>\n      <td></td>\n    </tr>\n    <tr>\n      <th>18</th>\n      <td>carbinoxamine maleate oral tablet 6 mg</td>\n      <td>T9</td>\n      <td></td>\n    </tr>\n    <tr>\n      <th>19</th>\n      <td>clemastine fumarate oral tablet 1.34 mg</td>\n      <td>T9</td>\n      <td></td>\n    </tr>\n    <tr>\n      <th>20</th>\n      <td>clemastine fumarate oral tablet 2.68 mg</td>\n      <td>T1</td>\n      <td></td>\n    </tr>\n    <tr>\n      <th>21</th>\n      <td>DICOPANOL FUSEPAQ</td>\n      <td>T9</td>\n      <td></td>\n    </tr>\n    <tr>\n      <th>22</th>\n      <td>diphenhydramine hcl oral capsule</td>\n      <td>T9</td>\n      <td></td>\n    </tr>\n    <tr>\n      <th>23</th>\n      <td>diphenhydramine hcl oral elixir</td>\n      <td>T9</td>\n      <td></td>\n    </tr>\n    <tr>\n      <th>24</th>\n      <td>KARBINAL ER ORAL SUSPENSION</td>\n      <td></td>\n      <td></td>\n    </tr>\n    <tr>\n      <th>25</th>\n      <td></td>\n      <td>T9</td>\n      <td></td>\n    </tr>\n    <tr>\n      <th>26</th>\n      <td>EXTENDED RELEASE</td>\n      <td></td>\n      <td></td>\n    </tr>\n    <tr>\n      <th>27</th>\n      <td>RYVENT</td>\n      <td>T9</td>\n      <td></td>\n    </tr>\n    <tr>\n      <th>28</th>\n      <td>Ethylenediamine Derivatives</td>\n      <td></td>\n      <td></td>\n    </tr>\n    <tr>\n      <th>29</th>\n      <td>maxi-tuss cd</td>\n      <td>T9</td>\n      <td></td>\n    </tr>\n    <tr>\n      <th>30</th>\n      <td>First Gen. Antihist. Derivatives, Misc.</td>\n      <td></td>\n      <td></td>\n    </tr>\n    <tr>\n      <th>31</th>\n      <td>cyproheptadine hcl oral</td>\n      <td>T1</td>\n      <td></td>\n    </tr>\n    <tr>\n      <th>32</th>\n      <td>First Generation Antihistamines</td>\n      <td></td>\n      <td></td>\n    </tr>\n    <tr>\n      <th>33</th>\n      <td>carbinoxamine maleate oral solution</td>\n      <td>T1</td>\n      <td></td>\n    </tr>\n    <tr>\n      <th>34</th>\n      <td>carbinoxamine maleate oral tablet 4 mg</td>\n      <td>T1</td>\n      <td></td>\n    </tr>\n    <tr>\n      <th>35</th>\n      <td>carbinoxamine maleate oral tablet 6 mg</td>\n      <td>T9</td>\n      <td></td>\n    </tr>\n    <tr>\n      <th>36</th>\n      <td>chlorpheniramine maleate er</td>\n      <td>T9</td>\n      <td></td>\n    </tr>\n    <tr>\n      <th>37</th>\n      <td>clemastine fumarate oral tablet 1.34 mg</td>\n      <td>T9</td>\n      <td></td>\n    </tr>\n    <tr>\n      <th>38</th>\n      <td>clemastine fumarate oral tablet 2.68 mg</td>\n      <td>T1</td>\n      <td></td>\n    </tr>\n    <tr>\n      <th>39</th>\n      <td>cyproheptadine hcl oral</td>\n      <td>T1</td>\n      <td></td>\n    </tr>\n    <tr>\n      <th>40</th>\n      <td>DICOPANOL FUSEPAQ</td>\n      <td>T9</td>\n      <td></td>\n    </tr>\n    <tr>\n      <th>41</th>\n      <td>diphenhydramine hcl oral capsule</td>\n      <td>T9</td>\n      <td></td>\n    </tr>\n    <tr>\n      <th>42</th>\n      <td>diphenhydramine hcl oral elixir</td>\n      <td>T9</td>\n      <td></td>\n    </tr>\n  </tbody>\n</table>\n</div>"
     },
     "metadata": {},
     "execution_count": 5
    }
   ],
   "source": [
    "table.df"
   ]
  },
  {
   "cell_type": "code",
   "execution_count": null,
   "metadata": {},
   "outputs": [],
   "source": []
  }
 ]
}