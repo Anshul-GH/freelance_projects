{
 "metadata": {
  "language_info": {
   "codemirror_mode": {
    "name": "ipython",
    "version": 3
   },
   "file_extension": ".py",
   "mimetype": "text/x-python",
   "name": "python",
   "nbconvert_exporter": "python",
   "pygments_lexer": "ipython3",
   "version": "3.8.2-final"
  },
  "orig_nbformat": 2,
  "kernelspec": {
   "name": "python38264bitpy38conda74b30bb8bfed4d658f77b9f4e62a4da3",
   "display_name": "Python 3.8.2 64-bit ('py38': conda)"
  }
 },
 "nbformat": 4,
 "nbformat_minor": 2,
 "cells": [
  {
   "cell_type": "code",
   "execution_count": 1,
   "metadata": {},
   "outputs": [],
   "source": [
    "# libraries\n",
    "import pandas as pd\n",
    "import numpy as np\n",
    "import matplotlib.pyplot as plt\n",
    "import seaborn as sns\n",
    "%matplotlib inline"
   ]
  },
  {
   "cell_type": "code",
   "execution_count": 2,
   "metadata": {},
   "outputs": [],
   "source": [
    "# read the source data\n",
    "dataset1 = pd.read_csv(\"../Data/survivor_employment_data.csv\")\n",
    "dataset2 = pd.read_csv(\"../Data/survivor_employment_data_additional.csv\")"
   ]
  },
  {
   "cell_type": "code",
   "execution_count": 15,
   "metadata": {},
   "outputs": [
    {
     "output_type": "execute_result",
     "data": {
      "text/plain": "Empty DataFrame\nColumns: [JOB_MATCH, S_NAME, S_AGE, S_GENDER, S_EDUCATION, S_UNDERSTANDING_COMM, S_GETTING_ALONG_PEOPLE, S_LIFE_ACT_HOUSE, S_LIFE_ACT_WORK, S_PARTICIPATE_SOCIETY, S_PREV_EMP, S_TOTAL_EXPERIENCE, JOB_DESCRIPTION, J_LANGUAGE, J_COMMUNICATION, J_PROB_SOLVE, J_ATTEN_VIGIL, J_ADAPT_INTERACT]\nIndex: []",
      "text/html": "<div>\n<style scoped>\n    .dataframe tbody tr th:only-of-type {\n        vertical-align: middle;\n    }\n\n    .dataframe tbody tr th {\n        vertical-align: top;\n    }\n\n    .dataframe thead th {\n        text-align: right;\n    }\n</style>\n<table border=\"1\" class=\"dataframe\">\n  <thead>\n    <tr style=\"text-align: right;\">\n      <th></th>\n      <th>JOB_MATCH</th>\n      <th>S_NAME</th>\n      <th>S_AGE</th>\n      <th>S_GENDER</th>\n      <th>S_EDUCATION</th>\n      <th>S_UNDERSTANDING_COMM</th>\n      <th>S_GETTING_ALONG_PEOPLE</th>\n      <th>S_LIFE_ACT_HOUSE</th>\n      <th>S_LIFE_ACT_WORK</th>\n      <th>S_PARTICIPATE_SOCIETY</th>\n      <th>S_PREV_EMP</th>\n      <th>S_TOTAL_EXPERIENCE</th>\n      <th>JOB_DESCRIPTION</th>\n      <th>J_LANGUAGE</th>\n      <th>J_COMMUNICATION</th>\n      <th>J_PROB_SOLVE</th>\n      <th>J_ATTEN_VIGIL</th>\n      <th>J_ADAPT_INTERACT</th>\n    </tr>\n  </thead>\n  <tbody>\n  </tbody>\n</table>\n</div>"
     },
     "metadata": {},
     "execution_count": 15
    }
   ],
   "source": [
    "# find null rows\n",
    "dataset1[dataset1.isnull().all(axis=1)]"
   ]
  },
  {
   "cell_type": "code",
   "execution_count": 14,
   "metadata": {},
   "outputs": [
    {
     "output_type": "execute_result",
     "data": {
      "text/plain": "Empty DataFrame\nColumns: [JOB_MATCH, S_NAME, S_AGE, S_GENDER, S_EDUCATION, S_UNDERSTANDING_COMM, S_GETTING_ALONG_PEOPLE, S_LIFE_ACT_HOUSE, S_LIFE_ACT_WORK, S_PARTICIPATE_SOCIETY, S_PREV_EMP, S_TOTAL_EXPERIENCE, JOB_DESCRIPTION, J_LANGUAGE, J_COMMUNICATION, J_PROB_SOLVE, J_ATTEN_VIGIL, J_ADAPT_INTERACT]\nIndex: []",
      "text/html": "<div>\n<style scoped>\n    .dataframe tbody tr th:only-of-type {\n        vertical-align: middle;\n    }\n\n    .dataframe tbody tr th {\n        vertical-align: top;\n    }\n\n    .dataframe thead th {\n        text-align: right;\n    }\n</style>\n<table border=\"1\" class=\"dataframe\">\n  <thead>\n    <tr style=\"text-align: right;\">\n      <th></th>\n      <th>JOB_MATCH</th>\n      <th>S_NAME</th>\n      <th>S_AGE</th>\n      <th>S_GENDER</th>\n      <th>S_EDUCATION</th>\n      <th>S_UNDERSTANDING_COMM</th>\n      <th>S_GETTING_ALONG_PEOPLE</th>\n      <th>S_LIFE_ACT_HOUSE</th>\n      <th>S_LIFE_ACT_WORK</th>\n      <th>S_PARTICIPATE_SOCIETY</th>\n      <th>S_PREV_EMP</th>\n      <th>S_TOTAL_EXPERIENCE</th>\n      <th>JOB_DESCRIPTION</th>\n      <th>J_LANGUAGE</th>\n      <th>J_COMMUNICATION</th>\n      <th>J_PROB_SOLVE</th>\n      <th>J_ATTEN_VIGIL</th>\n      <th>J_ADAPT_INTERACT</th>\n    </tr>\n  </thead>\n  <tbody>\n  </tbody>\n</table>\n</div>"
     },
     "metadata": {},
     "execution_count": 14
    }
   ],
   "source": [
    "# find null rows\n",
    "dataset2[dataset2.isnull().all(axis=1)]"
   ]
  },
  {
   "cell_type": "code",
   "execution_count": 13,
   "metadata": {},
   "outputs": [],
   "source": [
    "# remove null rows from dataset2\n",
    "dataset2 = dataset2[~dataset2.isnull().all(axis=1)]"
   ]
  },
  {
   "cell_type": "code",
   "execution_count": 17,
   "metadata": {},
   "outputs": [],
   "source": [
    "# combine the two datasets to get the master dataset\n",
    "master_ds = pd.concat([dataset1, dataset2], axis=0, ignore_index=True)"
   ]
  },
  {
   "cell_type": "code",
   "execution_count": 18,
   "metadata": {
    "tags": []
   },
   "outputs": [
    {
     "output_type": "stream",
     "name": "stdout",
     "text": "<class 'pandas.core.frame.DataFrame'>\nRangeIndex: 3176 entries, 0 to 3175\nData columns (total 18 columns):\n #   Column                  Non-Null Count  Dtype  \n---  ------                  --------------  -----  \n 0   JOB_MATCH               3176 non-null   object \n 1   S_NAME                  3176 non-null   object \n 2   S_AGE                   3176 non-null   float64\n 3   S_GENDER                3176 non-null   object \n 4   S_EDUCATION             3176 non-null   object \n 5   S_UNDERSTANDING_COMM    3176 non-null   float64\n 6   S_GETTING_ALONG_PEOPLE  3176 non-null   float64\n 7   S_LIFE_ACT_HOUSE        3176 non-null   float64\n 8   S_LIFE_ACT_WORK         3176 non-null   float64\n 9   S_PARTICIPATE_SOCIETY   3176 non-null   float64\n 10  S_PREV_EMP              3176 non-null   float64\n 11  S_TOTAL_EXPERIENCE      3176 non-null   float64\n 12  JOB_DESCRIPTION         3176 non-null   object \n 13  J_LANGUAGE              3176 non-null   object \n 14  J_COMMUNICATION         3176 non-null   object \n 15  J_PROB_SOLVE            3176 non-null   object \n 16  J_ATTEN_VIGIL           3176 non-null   object \n 17  J_ADAPT_INTERACT        3176 non-null   object \ndtypes: float64(8), object(10)\nmemory usage: 446.8+ KB\n"
    }
   ],
   "source": [
    "master_ds.info()"
   ]
  },
  {
   "cell_type": "code",
   "execution_count": 19,
   "metadata": {},
   "outputs": [],
   "source": [
    "# create a copy of the master dataset\n",
    "dataset = master_ds.copy()"
   ]
  },
  {
   "cell_type": "code",
   "execution_count": 21,
   "metadata": {},
   "outputs": [],
   "source": [
    "# identify non-numeric (object) columns\n",
    "dataset_obj = dataset.select_dtypes(object)"
   ]
  },
  {
   "cell_type": "code",
   "execution_count": 22,
   "metadata": {},
   "outputs": [
    {
     "output_type": "execute_result",
     "data": {
      "text/plain": "     JOB_MATCH                  S_NAME S_GENDER      S_EDUCATION  \\\n0            N  Padama Harbhajan Mogul   Female   Primary School   \n1            N             Anusha Toor   Female   Primary School   \n2            N  Vineeta Sushant Butala   Female   Primary School   \n3            N      Hema Radhakrishnan   Female   Primary School   \n4            N      Nupoor Deep Biyani   Female   Primary School   \n...        ...                     ...      ...              ...   \n3171         Y         AB Balambika ST   Female  Post Graduation   \n3172         Y         AB Bagheswar ST   Female  Undergraduation   \n3173         Y         AB Baghya La ST   Female  Undergraduation   \n3174         Y         AB Triloka v ST   Female  Undergraduation   \n3175         Y         AB Suresh Si ST     Male  Undergraduation   \n\n     JOB_DESCRIPTION J_LANGUAGE J_COMMUNICATION J_PROB_SOLVE J_ATTEN_VIGIL  \\\n0         Marketing           Y               Y            N             N   \n1         Marketing           Y               Y            N             N   \n2         Marketing           Y               Y            N             N   \n3         Marketing           Y               Y            N             N   \n4         Marketing           Y               Y            N             N   \n...              ...        ...             ...          ...           ...   \n3171       Executive          N               N            Y             N   \n3172       Executive          N               N            Y             N   \n3173       Executive          N               N            Y             N   \n3174       Executive          N               N            Y             N   \n3175       Executive          N               N            Y             N   \n\n     J_ADAPT_INTERACT  \n0                   N  \n1                   N  \n2                   N  \n3                   N  \n4                   N  \n...               ...  \n3171                N  \n3172                N  \n3173                N  \n3174                N  \n3175                N  \n\n[3176 rows x 10 columns]",
      "text/html": "<div>\n<style scoped>\n    .dataframe tbody tr th:only-of-type {\n        vertical-align: middle;\n    }\n\n    .dataframe tbody tr th {\n        vertical-align: top;\n    }\n\n    .dataframe thead th {\n        text-align: right;\n    }\n</style>\n<table border=\"1\" class=\"dataframe\">\n  <thead>\n    <tr style=\"text-align: right;\">\n      <th></th>\n      <th>JOB_MATCH</th>\n      <th>S_NAME</th>\n      <th>S_GENDER</th>\n      <th>S_EDUCATION</th>\n      <th>JOB_DESCRIPTION</th>\n      <th>J_LANGUAGE</th>\n      <th>J_COMMUNICATION</th>\n      <th>J_PROB_SOLVE</th>\n      <th>J_ATTEN_VIGIL</th>\n      <th>J_ADAPT_INTERACT</th>\n    </tr>\n  </thead>\n  <tbody>\n    <tr>\n      <th>0</th>\n      <td>N</td>\n      <td>Padama Harbhajan Mogul</td>\n      <td>Female</td>\n      <td>Primary School</td>\n      <td>Marketing</td>\n      <td>Y</td>\n      <td>Y</td>\n      <td>N</td>\n      <td>N</td>\n      <td>N</td>\n    </tr>\n    <tr>\n      <th>1</th>\n      <td>N</td>\n      <td>Anusha Toor</td>\n      <td>Female</td>\n      <td>Primary School</td>\n      <td>Marketing</td>\n      <td>Y</td>\n      <td>Y</td>\n      <td>N</td>\n      <td>N</td>\n      <td>N</td>\n    </tr>\n    <tr>\n      <th>2</th>\n      <td>N</td>\n      <td>Vineeta Sushant Butala</td>\n      <td>Female</td>\n      <td>Primary School</td>\n      <td>Marketing</td>\n      <td>Y</td>\n      <td>Y</td>\n      <td>N</td>\n      <td>N</td>\n      <td>N</td>\n    </tr>\n    <tr>\n      <th>3</th>\n      <td>N</td>\n      <td>Hema Radhakrishnan</td>\n      <td>Female</td>\n      <td>Primary School</td>\n      <td>Marketing</td>\n      <td>Y</td>\n      <td>Y</td>\n      <td>N</td>\n      <td>N</td>\n      <td>N</td>\n    </tr>\n    <tr>\n      <th>4</th>\n      <td>N</td>\n      <td>Nupoor Deep Biyani</td>\n      <td>Female</td>\n      <td>Primary School</td>\n      <td>Marketing</td>\n      <td>Y</td>\n      <td>Y</td>\n      <td>N</td>\n      <td>N</td>\n      <td>N</td>\n    </tr>\n    <tr>\n      <th>...</th>\n      <td>...</td>\n      <td>...</td>\n      <td>...</td>\n      <td>...</td>\n      <td>...</td>\n      <td>...</td>\n      <td>...</td>\n      <td>...</td>\n      <td>...</td>\n      <td>...</td>\n    </tr>\n    <tr>\n      <th>3171</th>\n      <td>Y</td>\n      <td>AB Balambika ST</td>\n      <td>Female</td>\n      <td>Post Graduation</td>\n      <td>Executive</td>\n      <td>N</td>\n      <td>N</td>\n      <td>Y</td>\n      <td>N</td>\n      <td>N</td>\n    </tr>\n    <tr>\n      <th>3172</th>\n      <td>Y</td>\n      <td>AB Bagheswar ST</td>\n      <td>Female</td>\n      <td>Undergraduation</td>\n      <td>Executive</td>\n      <td>N</td>\n      <td>N</td>\n      <td>Y</td>\n      <td>N</td>\n      <td>N</td>\n    </tr>\n    <tr>\n      <th>3173</th>\n      <td>Y</td>\n      <td>AB Baghya La ST</td>\n      <td>Female</td>\n      <td>Undergraduation</td>\n      <td>Executive</td>\n      <td>N</td>\n      <td>N</td>\n      <td>Y</td>\n      <td>N</td>\n      <td>N</td>\n    </tr>\n    <tr>\n      <th>3174</th>\n      <td>Y</td>\n      <td>AB Triloka v ST</td>\n      <td>Female</td>\n      <td>Undergraduation</td>\n      <td>Executive</td>\n      <td>N</td>\n      <td>N</td>\n      <td>Y</td>\n      <td>N</td>\n      <td>N</td>\n    </tr>\n    <tr>\n      <th>3175</th>\n      <td>Y</td>\n      <td>AB Suresh Si ST</td>\n      <td>Male</td>\n      <td>Undergraduation</td>\n      <td>Executive</td>\n      <td>N</td>\n      <td>N</td>\n      <td>Y</td>\n      <td>N</td>\n      <td>N</td>\n    </tr>\n  </tbody>\n</table>\n<p>3176 rows × 10 columns</p>\n</div>"
     },
     "metadata": {},
     "execution_count": 22
    }
   ],
   "source": [
    "# this is just to consolidate and visualize \n",
    "# actual operations will still be performed on 'dataset'\n",
    "dataset_obj"
   ]
  },
  {
   "cell_type": "code",
   "execution_count": 39,
   "metadata": {},
   "outputs": [
    {
     "output_type": "execute_result",
     "data": {
      "text/plain": "Index(['JOB_MATCH', 'S_NAME', 'S_GENDER', 'S_EDUCATION', 'JOB_DESCRIPTION',\n       'J_LANGUAGE', 'J_COMMUNICATION', 'J_PROB_SOLVE', 'J_ATTEN_VIGIL',\n       'J_ADAPT_INTERACT'],\n      dtype='object')"
     },
     "metadata": {},
     "execution_count": 39
    }
   ],
   "source": [
    "dataset_obj.columns"
   ]
  },
  {
   "cell_type": "markdown",
   "metadata": {},
   "source": [
    "## Convert binary (Y/N) columns into numeric (1/0)"
   ]
  },
  {
   "cell_type": "markdown",
   "metadata": {},
   "source": [
    "1. JOB_MATCH"
   ]
  },
  {
   "cell_type": "code",
   "execution_count": 25,
   "metadata": {},
   "outputs": [
    {
     "output_type": "execute_result",
     "data": {
      "text/plain": "Y    1642\nN    1534\nName: JOB_MATCH, dtype: int64"
     },
     "metadata": {},
     "execution_count": 25
    }
   ],
   "source": [
    "dataset['JOB_MATCH'].value_counts()"
   ]
  },
  {
   "cell_type": "code",
   "execution_count": 27,
   "metadata": {},
   "outputs": [],
   "source": [
    "job_match = pd.get_dummies(dataset['JOB_MATCH'], drop_first=True)\n",
    "job_match.columns = ['JOB_MATCH']"
   ]
  },
  {
   "cell_type": "code",
   "execution_count": 29,
   "metadata": {},
   "outputs": [
    {
     "output_type": "execute_result",
     "data": {
      "text/plain": "1    1642\n0    1534\nName: JOB_MATCH, dtype: int64"
     },
     "metadata": {},
     "execution_count": 29
    }
   ],
   "source": [
    "job_match['JOB_MATCH'].value_counts()"
   ]
  },
  {
   "cell_type": "markdown",
   "metadata": {},
   "source": [
    "2. S_GENDER"
   ]
  },
  {
   "cell_type": "code",
   "execution_count": 31,
   "metadata": {},
   "outputs": [
    {
     "output_type": "execute_result",
     "data": {
      "text/plain": "Male      1615\nFemale    1558\nu            3\nName: S_GENDER, dtype: int64"
     },
     "metadata": {},
     "execution_count": 31
    }
   ],
   "source": [
    "dataset['S_GENDER'].value_counts()"
   ]
  },
  {
   "cell_type": "code",
   "execution_count": 33,
   "metadata": {},
   "outputs": [
    {
     "output_type": "execute_result",
     "data": {
      "text/plain": "     JOB_MATCH                  S_NAME  S_AGE S_GENDER  S_EDUCATION  \\\n2114         Y     Devika Aarif Dora C   34.0        u  High School   \n2608         Y  AB Devika Aarif Dora C   34.0        u  High School   \n3102         Y         AB Devika Aa ST   34.0        u  High School   \n\n      S_UNDERSTANDING_COMM  S_GETTING_ALONG_PEOPLE  S_LIFE_ACT_HOUSE  \\\n2114                   2.0                     2.0               1.0   \n2608                   2.0                     2.0               1.0   \n3102                   2.0                     2.0               1.0   \n\n      S_LIFE_ACT_WORK  S_PARTICIPATE_SOCIETY  S_PREV_EMP  S_TOTAL_EXPERIENCE  \\\n2114              2.0                    1.0         3.0                 5.0   \n2608              2.0                    1.0         3.0                 5.0   \n3102              2.0                    1.0         3.0                 5.0   \n\n     JOB_DESCRIPTION J_LANGUAGE J_COMMUNICATION J_PROB_SOLVE J_ATTEN_VIGIL  \\\n2114      Marketing           Y               Y            N             N   \n2608      Marketing           Y               Y            N             N   \n3102      Marketing           Y               Y            N             N   \n\n     J_ADAPT_INTERACT  \n2114                N  \n2608                N  \n3102                N  ",
      "text/html": "<div>\n<style scoped>\n    .dataframe tbody tr th:only-of-type {\n        vertical-align: middle;\n    }\n\n    .dataframe tbody tr th {\n        vertical-align: top;\n    }\n\n    .dataframe thead th {\n        text-align: right;\n    }\n</style>\n<table border=\"1\" class=\"dataframe\">\n  <thead>\n    <tr style=\"text-align: right;\">\n      <th></th>\n      <th>JOB_MATCH</th>\n      <th>S_NAME</th>\n      <th>S_AGE</th>\n      <th>S_GENDER</th>\n      <th>S_EDUCATION</th>\n      <th>S_UNDERSTANDING_COMM</th>\n      <th>S_GETTING_ALONG_PEOPLE</th>\n      <th>S_LIFE_ACT_HOUSE</th>\n      <th>S_LIFE_ACT_WORK</th>\n      <th>S_PARTICIPATE_SOCIETY</th>\n      <th>S_PREV_EMP</th>\n      <th>S_TOTAL_EXPERIENCE</th>\n      <th>JOB_DESCRIPTION</th>\n      <th>J_LANGUAGE</th>\n      <th>J_COMMUNICATION</th>\n      <th>J_PROB_SOLVE</th>\n      <th>J_ATTEN_VIGIL</th>\n      <th>J_ADAPT_INTERACT</th>\n    </tr>\n  </thead>\n  <tbody>\n    <tr>\n      <th>2114</th>\n      <td>Y</td>\n      <td>Devika Aarif Dora C</td>\n      <td>34.0</td>\n      <td>u</td>\n      <td>High School</td>\n      <td>2.0</td>\n      <td>2.0</td>\n      <td>1.0</td>\n      <td>2.0</td>\n      <td>1.0</td>\n      <td>3.0</td>\n      <td>5.0</td>\n      <td>Marketing</td>\n      <td>Y</td>\n      <td>Y</td>\n      <td>N</td>\n      <td>N</td>\n      <td>N</td>\n    </tr>\n    <tr>\n      <th>2608</th>\n      <td>Y</td>\n      <td>AB Devika Aarif Dora C</td>\n      <td>34.0</td>\n      <td>u</td>\n      <td>High School</td>\n      <td>2.0</td>\n      <td>2.0</td>\n      <td>1.0</td>\n      <td>2.0</td>\n      <td>1.0</td>\n      <td>3.0</td>\n      <td>5.0</td>\n      <td>Marketing</td>\n      <td>Y</td>\n      <td>Y</td>\n      <td>N</td>\n      <td>N</td>\n      <td>N</td>\n    </tr>\n    <tr>\n      <th>3102</th>\n      <td>Y</td>\n      <td>AB Devika Aa ST</td>\n      <td>34.0</td>\n      <td>u</td>\n      <td>High School</td>\n      <td>2.0</td>\n      <td>2.0</td>\n      <td>1.0</td>\n      <td>2.0</td>\n      <td>1.0</td>\n      <td>3.0</td>\n      <td>5.0</td>\n      <td>Marketing</td>\n      <td>Y</td>\n      <td>Y</td>\n      <td>N</td>\n      <td>N</td>\n      <td>N</td>\n    </tr>\n  </tbody>\n</table>\n</div>"
     },
     "metadata": {},
     "execution_count": 33
    }
   ],
   "source": [
    "# replace 'u' values with 'Female\n",
    "dataset.loc[dataset['S_GENDER'] == 'u']"
   ]
  },
  {
   "cell_type": "code",
   "execution_count": 34,
   "metadata": {},
   "outputs": [],
   "source": [
    "dataset.loc[dataset['S_GENDER'] == 'u', 'S_GENDER'] = 'Female'"
   ]
  },
  {
   "cell_type": "code",
   "execution_count": 35,
   "metadata": {},
   "outputs": [
    {
     "output_type": "execute_result",
     "data": {
      "text/plain": "Empty DataFrame\nColumns: [JOB_MATCH, S_NAME, S_AGE, S_GENDER, S_EDUCATION, S_UNDERSTANDING_COMM, S_GETTING_ALONG_PEOPLE, S_LIFE_ACT_HOUSE, S_LIFE_ACT_WORK, S_PARTICIPATE_SOCIETY, S_PREV_EMP, S_TOTAL_EXPERIENCE, JOB_DESCRIPTION, J_LANGUAGE, J_COMMUNICATION, J_PROB_SOLVE, J_ATTEN_VIGIL, J_ADAPT_INTERACT]\nIndex: []",
      "text/html": "<div>\n<style scoped>\n    .dataframe tbody tr th:only-of-type {\n        vertical-align: middle;\n    }\n\n    .dataframe tbody tr th {\n        vertical-align: top;\n    }\n\n    .dataframe thead th {\n        text-align: right;\n    }\n</style>\n<table border=\"1\" class=\"dataframe\">\n  <thead>\n    <tr style=\"text-align: right;\">\n      <th></th>\n      <th>JOB_MATCH</th>\n      <th>S_NAME</th>\n      <th>S_AGE</th>\n      <th>S_GENDER</th>\n      <th>S_EDUCATION</th>\n      <th>S_UNDERSTANDING_COMM</th>\n      <th>S_GETTING_ALONG_PEOPLE</th>\n      <th>S_LIFE_ACT_HOUSE</th>\n      <th>S_LIFE_ACT_WORK</th>\n      <th>S_PARTICIPATE_SOCIETY</th>\n      <th>S_PREV_EMP</th>\n      <th>S_TOTAL_EXPERIENCE</th>\n      <th>JOB_DESCRIPTION</th>\n      <th>J_LANGUAGE</th>\n      <th>J_COMMUNICATION</th>\n      <th>J_PROB_SOLVE</th>\n      <th>J_ATTEN_VIGIL</th>\n      <th>J_ADAPT_INTERACT</th>\n    </tr>\n  </thead>\n  <tbody>\n  </tbody>\n</table>\n</div>"
     },
     "metadata": {},
     "execution_count": 35
    }
   ],
   "source": [
    "# replaced\n",
    "dataset.loc[dataset['S_GENDER'] == 'u']"
   ]
  },
  {
   "cell_type": "code",
   "execution_count": 36,
   "metadata": {},
   "outputs": [
    {
     "output_type": "execute_result",
     "data": {
      "text/plain": "Male      1615\nFemale    1561\nName: S_GENDER, dtype: int64"
     },
     "metadata": {},
     "execution_count": 36
    }
   ],
   "source": [
    "dataset['S_GENDER'].value_counts()"
   ]
  },
  {
   "cell_type": "code",
   "execution_count": 37,
   "metadata": {},
   "outputs": [],
   "source": [
    "gender = pd.get_dummies(dataset['S_GENDER'], drop_first=True)\n",
    "gender.columns = ['GENDER']"
   ]
  },
  {
   "cell_type": "code",
   "execution_count": 38,
   "metadata": {},
   "outputs": [
    {
     "output_type": "execute_result",
     "data": {
      "text/plain": "1    1615\n0    1561\nName: GENDER, dtype: int64"
     },
     "metadata": {},
     "execution_count": 38
    }
   ],
   "source": [
    "gender['GENDER'].value_counts()"
   ]
  },
  {
   "cell_type": "markdown",
   "metadata": {},
   "source": [
    "3. S_EDUCATION"
   ]
  },
  {
   "cell_type": "code",
   "execution_count": 41,
   "metadata": {},
   "outputs": [
    {
     "output_type": "execute_result",
     "data": {
      "text/plain": "High School        1331\nUndergraduation     927\nPrimary School      778\nPost Graduation     140\nName: S_EDUCATION, dtype: int64"
     },
     "metadata": {},
     "execution_count": 41
    }
   ],
   "source": [
    "dataset['S_EDUCATION'].value_counts()"
   ]
  },
  {
   "cell_type": "code",
   "execution_count": 42,
   "metadata": {},
   "outputs": [],
   "source": [
    "# since this is not a binary classification, we wont drop first column\n",
    "education = pd.get_dummies(dataset['S_EDUCATION'], drop_first=False)"
   ]
  },
  {
   "cell_type": "code",
   "execution_count": 43,
   "metadata": {},
   "outputs": [
    {
     "output_type": "execute_result",
     "data": {
      "text/plain": "      High School  Post Graduation  Primary School  Undergraduation\n0               0                0               1                0\n1               0                0               1                0\n2               0                0               1                0\n3               0                0               1                0\n4               0                0               1                0\n...           ...              ...             ...              ...\n3171            0                1               0                0\n3172            0                0               0                1\n3173            0                0               0                1\n3174            0                0               0                1\n3175            0                0               0                1\n\n[3176 rows x 4 columns]",
      "text/html": "<div>\n<style scoped>\n    .dataframe tbody tr th:only-of-type {\n        vertical-align: middle;\n    }\n\n    .dataframe tbody tr th {\n        vertical-align: top;\n    }\n\n    .dataframe thead th {\n        text-align: right;\n    }\n</style>\n<table border=\"1\" class=\"dataframe\">\n  <thead>\n    <tr style=\"text-align: right;\">\n      <th></th>\n      <th>High School</th>\n      <th>Post Graduation</th>\n      <th>Primary School</th>\n      <th>Undergraduation</th>\n    </tr>\n  </thead>\n  <tbody>\n    <tr>\n      <th>0</th>\n      <td>0</td>\n      <td>0</td>\n      <td>1</td>\n      <td>0</td>\n    </tr>\n    <tr>\n      <th>1</th>\n      <td>0</td>\n      <td>0</td>\n      <td>1</td>\n      <td>0</td>\n    </tr>\n    <tr>\n      <th>2</th>\n      <td>0</td>\n      <td>0</td>\n      <td>1</td>\n      <td>0</td>\n    </tr>\n    <tr>\n      <th>3</th>\n      <td>0</td>\n      <td>0</td>\n      <td>1</td>\n      <td>0</td>\n    </tr>\n    <tr>\n      <th>4</th>\n      <td>0</td>\n      <td>0</td>\n      <td>1</td>\n      <td>0</td>\n    </tr>\n    <tr>\n      <th>...</th>\n      <td>...</td>\n      <td>...</td>\n      <td>...</td>\n      <td>...</td>\n    </tr>\n    <tr>\n      <th>3171</th>\n      <td>0</td>\n      <td>1</td>\n      <td>0</td>\n      <td>0</td>\n    </tr>\n    <tr>\n      <th>3172</th>\n      <td>0</td>\n      <td>0</td>\n      <td>0</td>\n      <td>1</td>\n    </tr>\n    <tr>\n      <th>3173</th>\n      <td>0</td>\n      <td>0</td>\n      <td>0</td>\n      <td>1</td>\n    </tr>\n    <tr>\n      <th>3174</th>\n      <td>0</td>\n      <td>0</td>\n      <td>0</td>\n      <td>1</td>\n    </tr>\n    <tr>\n      <th>3175</th>\n      <td>0</td>\n      <td>0</td>\n      <td>0</td>\n      <td>1</td>\n    </tr>\n  </tbody>\n</table>\n<p>3176 rows × 4 columns</p>\n</div>"
     },
     "metadata": {},
     "execution_count": 43
    }
   ],
   "source": [
    "education"
   ]
  },
  {
   "cell_type": "code",
   "execution_count": 44,
   "metadata": {},
   "outputs": [],
   "source": [
    "# rename the columns to indicate in a better way\n",
    "education.columns = ['EDU_HSE', 'EDU_PG', 'EDU_PRIM', 'EDU_UG']"
   ]
  },
  {
   "cell_type": "code",
   "execution_count": 45,
   "metadata": {},
   "outputs": [
    {
     "output_type": "execute_result",
     "data": {
      "text/plain": "      EDU_HSE  EDU_PG  EDU_PRIM  EDU_UG\n0           0       0         1       0\n1           0       0         1       0\n2           0       0         1       0\n3           0       0         1       0\n4           0       0         1       0\n...       ...     ...       ...     ...\n3171        0       1         0       0\n3172        0       0         0       1\n3173        0       0         0       1\n3174        0       0         0       1\n3175        0       0         0       1\n\n[3176 rows x 4 columns]",
      "text/html": "<div>\n<style scoped>\n    .dataframe tbody tr th:only-of-type {\n        vertical-align: middle;\n    }\n\n    .dataframe tbody tr th {\n        vertical-align: top;\n    }\n\n    .dataframe thead th {\n        text-align: right;\n    }\n</style>\n<table border=\"1\" class=\"dataframe\">\n  <thead>\n    <tr style=\"text-align: right;\">\n      <th></th>\n      <th>EDU_HSE</th>\n      <th>EDU_PG</th>\n      <th>EDU_PRIM</th>\n      <th>EDU_UG</th>\n    </tr>\n  </thead>\n  <tbody>\n    <tr>\n      <th>0</th>\n      <td>0</td>\n      <td>0</td>\n      <td>1</td>\n      <td>0</td>\n    </tr>\n    <tr>\n      <th>1</th>\n      <td>0</td>\n      <td>0</td>\n      <td>1</td>\n      <td>0</td>\n    </tr>\n    <tr>\n      <th>2</th>\n      <td>0</td>\n      <td>0</td>\n      <td>1</td>\n      <td>0</td>\n    </tr>\n    <tr>\n      <th>3</th>\n      <td>0</td>\n      <td>0</td>\n      <td>1</td>\n      <td>0</td>\n    </tr>\n    <tr>\n      <th>4</th>\n      <td>0</td>\n      <td>0</td>\n      <td>1</td>\n      <td>0</td>\n    </tr>\n    <tr>\n      <th>...</th>\n      <td>...</td>\n      <td>...</td>\n      <td>...</td>\n      <td>...</td>\n    </tr>\n    <tr>\n      <th>3171</th>\n      <td>0</td>\n      <td>1</td>\n      <td>0</td>\n      <td>0</td>\n    </tr>\n    <tr>\n      <th>3172</th>\n      <td>0</td>\n      <td>0</td>\n      <td>0</td>\n      <td>1</td>\n    </tr>\n    <tr>\n      <th>3173</th>\n      <td>0</td>\n      <td>0</td>\n      <td>0</td>\n      <td>1</td>\n    </tr>\n    <tr>\n      <th>3174</th>\n      <td>0</td>\n      <td>0</td>\n      <td>0</td>\n      <td>1</td>\n    </tr>\n    <tr>\n      <th>3175</th>\n      <td>0</td>\n      <td>0</td>\n      <td>0</td>\n      <td>1</td>\n    </tr>\n  </tbody>\n</table>\n<p>3176 rows × 4 columns</p>\n</div>"
     },
     "metadata": {},
     "execution_count": 45
    }
   ],
   "source": [
    "education"
   ]
  },
  {
   "cell_type": "markdown",
   "metadata": {},
   "source": [
    "4. JOB_DESCRIPTION"
   ]
  },
  {
   "cell_type": "code",
   "execution_count": 47,
   "metadata": {},
   "outputs": [
    {
     "output_type": "execute_result",
     "data": {
      "text/plain": "BPO                               720\nMarketing                         599\nSuper Market Shelf Maintenance    506\nTeacher                           500\nExecutive                         479\nSecurity Guard                    372\nName: JOB_DESCRIPTION, dtype: int64"
     },
     "metadata": {},
     "execution_count": 47
    }
   ],
   "source": [
    "dataset['JOB_DESCRIPTION'].value_counts()"
   ]
  },
  {
   "cell_type": "code",
   "execution_count": 48,
   "metadata": {},
   "outputs": [],
   "source": [
    "# since this is not a binary classification, we wont drop first column\n",
    "job_desc = pd.get_dummies(dataset['JOB_DESCRIPTION'], drop_first=False)"
   ]
  },
  {
   "cell_type": "code",
   "execution_count": 49,
   "metadata": {},
   "outputs": [
    {
     "output_type": "execute_result",
     "data": {
      "text/plain": "      BPO  Executive  Marketing   Security Guard  \\\n0       0          0           1               0   \n1       0          0           1               0   \n2       0          0           1               0   \n3       0          0           1               0   \n4       0          0           1               0   \n...   ...        ...         ...             ...   \n3171    0          1           0               0   \n3172    0          1           0               0   \n3173    0          1           0               0   \n3174    0          1           0               0   \n3175    0          1           0               0   \n\n      Super Market Shelf Maintenance  Teacher  \n0                                  0        0  \n1                                  0        0  \n2                                  0        0  \n3                                  0        0  \n4                                  0        0  \n...                              ...      ...  \n3171                               0        0  \n3172                               0        0  \n3173                               0        0  \n3174                               0        0  \n3175                               0        0  \n\n[3176 rows x 6 columns]",
      "text/html": "<div>\n<style scoped>\n    .dataframe tbody tr th:only-of-type {\n        vertical-align: middle;\n    }\n\n    .dataframe tbody tr th {\n        vertical-align: top;\n    }\n\n    .dataframe thead th {\n        text-align: right;\n    }\n</style>\n<table border=\"1\" class=\"dataframe\">\n  <thead>\n    <tr style=\"text-align: right;\">\n      <th></th>\n      <th>BPO</th>\n      <th>Executive</th>\n      <th>Marketing</th>\n      <th>Security Guard</th>\n      <th>Super Market Shelf Maintenance</th>\n      <th>Teacher</th>\n    </tr>\n  </thead>\n  <tbody>\n    <tr>\n      <th>0</th>\n      <td>0</td>\n      <td>0</td>\n      <td>1</td>\n      <td>0</td>\n      <td>0</td>\n      <td>0</td>\n    </tr>\n    <tr>\n      <th>1</th>\n      <td>0</td>\n      <td>0</td>\n      <td>1</td>\n      <td>0</td>\n      <td>0</td>\n      <td>0</td>\n    </tr>\n    <tr>\n      <th>2</th>\n      <td>0</td>\n      <td>0</td>\n      <td>1</td>\n      <td>0</td>\n      <td>0</td>\n      <td>0</td>\n    </tr>\n    <tr>\n      <th>3</th>\n      <td>0</td>\n      <td>0</td>\n      <td>1</td>\n      <td>0</td>\n      <td>0</td>\n      <td>0</td>\n    </tr>\n    <tr>\n      <th>4</th>\n      <td>0</td>\n      <td>0</td>\n      <td>1</td>\n      <td>0</td>\n      <td>0</td>\n      <td>0</td>\n    </tr>\n    <tr>\n      <th>...</th>\n      <td>...</td>\n      <td>...</td>\n      <td>...</td>\n      <td>...</td>\n      <td>...</td>\n      <td>...</td>\n    </tr>\n    <tr>\n      <th>3171</th>\n      <td>0</td>\n      <td>1</td>\n      <td>0</td>\n      <td>0</td>\n      <td>0</td>\n      <td>0</td>\n    </tr>\n    <tr>\n      <th>3172</th>\n      <td>0</td>\n      <td>1</td>\n      <td>0</td>\n      <td>0</td>\n      <td>0</td>\n      <td>0</td>\n    </tr>\n    <tr>\n      <th>3173</th>\n      <td>0</td>\n      <td>1</td>\n      <td>0</td>\n      <td>0</td>\n      <td>0</td>\n      <td>0</td>\n    </tr>\n    <tr>\n      <th>3174</th>\n      <td>0</td>\n      <td>1</td>\n      <td>0</td>\n      <td>0</td>\n      <td>0</td>\n      <td>0</td>\n    </tr>\n    <tr>\n      <th>3175</th>\n      <td>0</td>\n      <td>1</td>\n      <td>0</td>\n      <td>0</td>\n      <td>0</td>\n      <td>0</td>\n    </tr>\n  </tbody>\n</table>\n<p>3176 rows × 6 columns</p>\n</div>"
     },
     "metadata": {},
     "execution_count": 49
    }
   ],
   "source": [
    "job_desc"
   ]
  },
  {
   "cell_type": "code",
   "execution_count": 50,
   "metadata": {},
   "outputs": [],
   "source": [
    "job_desc.columns = ['JOB_BPO', 'JOB_EXEC', 'JOB_MRKT', 'JOB_SECG', 'JOB_SUPM', 'JOB_TCHR']"
   ]
  },
  {
   "cell_type": "code",
   "execution_count": 51,
   "metadata": {},
   "outputs": [
    {
     "output_type": "execute_result",
     "data": {
      "text/plain": "      JOB_BPO  JOB_EXEC  JOB_MRKT  JOB_SECG  JOB_SUPM  JOB_TCHR\n0           0         0         1         0         0         0\n1           0         0         1         0         0         0\n2           0         0         1         0         0         0\n3           0         0         1         0         0         0\n4           0         0         1         0         0         0\n...       ...       ...       ...       ...       ...       ...\n3171        0         1         0         0         0         0\n3172        0         1         0         0         0         0\n3173        0         1         0         0         0         0\n3174        0         1         0         0         0         0\n3175        0         1         0         0         0         0\n\n[3176 rows x 6 columns]",
      "text/html": "<div>\n<style scoped>\n    .dataframe tbody tr th:only-of-type {\n        vertical-align: middle;\n    }\n\n    .dataframe tbody tr th {\n        vertical-align: top;\n    }\n\n    .dataframe thead th {\n        text-align: right;\n    }\n</style>\n<table border=\"1\" class=\"dataframe\">\n  <thead>\n    <tr style=\"text-align: right;\">\n      <th></th>\n      <th>JOB_BPO</th>\n      <th>JOB_EXEC</th>\n      <th>JOB_MRKT</th>\n      <th>JOB_SECG</th>\n      <th>JOB_SUPM</th>\n      <th>JOB_TCHR</th>\n    </tr>\n  </thead>\n  <tbody>\n    <tr>\n      <th>0</th>\n      <td>0</td>\n      <td>0</td>\n      <td>1</td>\n      <td>0</td>\n      <td>0</td>\n      <td>0</td>\n    </tr>\n    <tr>\n      <th>1</th>\n      <td>0</td>\n      <td>0</td>\n      <td>1</td>\n      <td>0</td>\n      <td>0</td>\n      <td>0</td>\n    </tr>\n    <tr>\n      <th>2</th>\n      <td>0</td>\n      <td>0</td>\n      <td>1</td>\n      <td>0</td>\n      <td>0</td>\n      <td>0</td>\n    </tr>\n    <tr>\n      <th>3</th>\n      <td>0</td>\n      <td>0</td>\n      <td>1</td>\n      <td>0</td>\n      <td>0</td>\n      <td>0</td>\n    </tr>\n    <tr>\n      <th>4</th>\n      <td>0</td>\n      <td>0</td>\n      <td>1</td>\n      <td>0</td>\n      <td>0</td>\n      <td>0</td>\n    </tr>\n    <tr>\n      <th>...</th>\n      <td>...</td>\n      <td>...</td>\n      <td>...</td>\n      <td>...</td>\n      <td>...</td>\n      <td>...</td>\n    </tr>\n    <tr>\n      <th>3171</th>\n      <td>0</td>\n      <td>1</td>\n      <td>0</td>\n      <td>0</td>\n      <td>0</td>\n      <td>0</td>\n    </tr>\n    <tr>\n      <th>3172</th>\n      <td>0</td>\n      <td>1</td>\n      <td>0</td>\n      <td>0</td>\n      <td>0</td>\n      <td>0</td>\n    </tr>\n    <tr>\n      <th>3173</th>\n      <td>0</td>\n      <td>1</td>\n      <td>0</td>\n      <td>0</td>\n      <td>0</td>\n      <td>0</td>\n    </tr>\n    <tr>\n      <th>3174</th>\n      <td>0</td>\n      <td>1</td>\n      <td>0</td>\n      <td>0</td>\n      <td>0</td>\n      <td>0</td>\n    </tr>\n    <tr>\n      <th>3175</th>\n      <td>0</td>\n      <td>1</td>\n      <td>0</td>\n      <td>0</td>\n      <td>0</td>\n      <td>0</td>\n    </tr>\n  </tbody>\n</table>\n<p>3176 rows × 6 columns</p>\n</div>"
     },
     "metadata": {},
     "execution_count": 51
    }
   ],
   "source": [
    "job_desc"
   ]
  },
  {
   "cell_type": "markdown",
   "metadata": {},
   "source": [
    "5. J_LANGUAGE"
   ]
  },
  {
   "cell_type": "code",
   "execution_count": 53,
   "metadata": {},
   "outputs": [
    {
     "output_type": "execute_result",
     "data": {
      "text/plain": "N    2577\nY     599\nName: J_LANGUAGE, dtype: int64"
     },
     "metadata": {},
     "execution_count": 53
    }
   ],
   "source": [
    "dataset['J_LANGUAGE'].value_counts()"
   ]
  },
  {
   "cell_type": "code",
   "execution_count": 54,
   "metadata": {},
   "outputs": [],
   "source": [
    "# convert the language values to a single numeric column\n",
    "lang = pd.get_dummies(dataset['J_LANGUAGE'], drop_first=True)"
   ]
  },
  {
   "cell_type": "code",
   "execution_count": 55,
   "metadata": {},
   "outputs": [
    {
     "output_type": "execute_result",
     "data": {
      "text/plain": "      Y\n0     1\n1     1\n2     1\n3     1\n4     1\n...  ..\n3171  0\n3172  0\n3173  0\n3174  0\n3175  0\n\n[3176 rows x 1 columns]",
      "text/html": "<div>\n<style scoped>\n    .dataframe tbody tr th:only-of-type {\n        vertical-align: middle;\n    }\n\n    .dataframe tbody tr th {\n        vertical-align: top;\n    }\n\n    .dataframe thead th {\n        text-align: right;\n    }\n</style>\n<table border=\"1\" class=\"dataframe\">\n  <thead>\n    <tr style=\"text-align: right;\">\n      <th></th>\n      <th>Y</th>\n    </tr>\n  </thead>\n  <tbody>\n    <tr>\n      <th>0</th>\n      <td>1</td>\n    </tr>\n    <tr>\n      <th>1</th>\n      <td>1</td>\n    </tr>\n    <tr>\n      <th>2</th>\n      <td>1</td>\n    </tr>\n    <tr>\n      <th>3</th>\n      <td>1</td>\n    </tr>\n    <tr>\n      <th>4</th>\n      <td>1</td>\n    </tr>\n    <tr>\n      <th>...</th>\n      <td>...</td>\n    </tr>\n    <tr>\n      <th>3171</th>\n      <td>0</td>\n    </tr>\n    <tr>\n      <th>3172</th>\n      <td>0</td>\n    </tr>\n    <tr>\n      <th>3173</th>\n      <td>0</td>\n    </tr>\n    <tr>\n      <th>3174</th>\n      <td>0</td>\n    </tr>\n    <tr>\n      <th>3175</th>\n      <td>0</td>\n    </tr>\n  </tbody>\n</table>\n<p>3176 rows × 1 columns</p>\n</div>"
     },
     "metadata": {},
     "execution_count": 55
    }
   ],
   "source": [
    "lang"
   ]
  },
  {
   "cell_type": "code",
   "execution_count": 56,
   "metadata": {},
   "outputs": [],
   "source": [
    "lang.columns = ['LANGUAGE']"
   ]
  },
  {
   "cell_type": "code",
   "execution_count": 57,
   "metadata": {},
   "outputs": [
    {
     "output_type": "execute_result",
     "data": {
      "text/plain": "      LANGUAGE\n0            1\n1            1\n2            1\n3            1\n4            1\n...        ...\n3171         0\n3172         0\n3173         0\n3174         0\n3175         0\n\n[3176 rows x 1 columns]",
      "text/html": "<div>\n<style scoped>\n    .dataframe tbody tr th:only-of-type {\n        vertical-align: middle;\n    }\n\n    .dataframe tbody tr th {\n        vertical-align: top;\n    }\n\n    .dataframe thead th {\n        text-align: right;\n    }\n</style>\n<table border=\"1\" class=\"dataframe\">\n  <thead>\n    <tr style=\"text-align: right;\">\n      <th></th>\n      <th>LANGUAGE</th>\n    </tr>\n  </thead>\n  <tbody>\n    <tr>\n      <th>0</th>\n      <td>1</td>\n    </tr>\n    <tr>\n      <th>1</th>\n      <td>1</td>\n    </tr>\n    <tr>\n      <th>2</th>\n      <td>1</td>\n    </tr>\n    <tr>\n      <th>3</th>\n      <td>1</td>\n    </tr>\n    <tr>\n      <th>4</th>\n      <td>1</td>\n    </tr>\n    <tr>\n      <th>...</th>\n      <td>...</td>\n    </tr>\n    <tr>\n      <th>3171</th>\n      <td>0</td>\n    </tr>\n    <tr>\n      <th>3172</th>\n      <td>0</td>\n    </tr>\n    <tr>\n      <th>3173</th>\n      <td>0</td>\n    </tr>\n    <tr>\n      <th>3174</th>\n      <td>0</td>\n    </tr>\n    <tr>\n      <th>3175</th>\n      <td>0</td>\n    </tr>\n  </tbody>\n</table>\n<p>3176 rows × 1 columns</p>\n</div>"
     },
     "metadata": {},
     "execution_count": 57
    }
   ],
   "source": [
    "lang"
   ]
  },
  {
   "cell_type": "markdown",
   "metadata": {},
   "source": [
    "6. J_COMMUNICATION"
   ]
  },
  {
   "cell_type": "code",
   "execution_count": 60,
   "metadata": {},
   "outputs": [
    {
     "output_type": "execute_result",
     "data": {
      "text/plain": "N    2577\nY     599\nName: J_COMMUNICATION, dtype: int64"
     },
     "metadata": {},
     "execution_count": 60
    }
   ],
   "source": [
    "dataset['J_COMMUNICATION'].value_counts()"
   ]
  },
  {
   "cell_type": "code",
   "execution_count": 61,
   "metadata": {},
   "outputs": [],
   "source": [
    "# convert the values to numeric\n",
    "comm = pd.get_dummies(dataset['J_COMMUNICATION'], drop_first=True)"
   ]
  },
  {
   "cell_type": "code",
   "execution_count": 62,
   "metadata": {},
   "outputs": [
    {
     "output_type": "execute_result",
     "data": {
      "text/plain": "      Y\n0     1\n1     1\n2     1\n3     1\n4     1\n...  ..\n3171  0\n3172  0\n3173  0\n3174  0\n3175  0\n\n[3176 rows x 1 columns]",
      "text/html": "<div>\n<style scoped>\n    .dataframe tbody tr th:only-of-type {\n        vertical-align: middle;\n    }\n\n    .dataframe tbody tr th {\n        vertical-align: top;\n    }\n\n    .dataframe thead th {\n        text-align: right;\n    }\n</style>\n<table border=\"1\" class=\"dataframe\">\n  <thead>\n    <tr style=\"text-align: right;\">\n      <th></th>\n      <th>Y</th>\n    </tr>\n  </thead>\n  <tbody>\n    <tr>\n      <th>0</th>\n      <td>1</td>\n    </tr>\n    <tr>\n      <th>1</th>\n      <td>1</td>\n    </tr>\n    <tr>\n      <th>2</th>\n      <td>1</td>\n    </tr>\n    <tr>\n      <th>3</th>\n      <td>1</td>\n    </tr>\n    <tr>\n      <th>4</th>\n      <td>1</td>\n    </tr>\n    <tr>\n      <th>...</th>\n      <td>...</td>\n    </tr>\n    <tr>\n      <th>3171</th>\n      <td>0</td>\n    </tr>\n    <tr>\n      <th>3172</th>\n      <td>0</td>\n    </tr>\n    <tr>\n      <th>3173</th>\n      <td>0</td>\n    </tr>\n    <tr>\n      <th>3174</th>\n      <td>0</td>\n    </tr>\n    <tr>\n      <th>3175</th>\n      <td>0</td>\n    </tr>\n  </tbody>\n</table>\n<p>3176 rows × 1 columns</p>\n</div>"
     },
     "metadata": {},
     "execution_count": 62
    }
   ],
   "source": [
    "comm"
   ]
  },
  {
   "cell_type": "code",
   "execution_count": 63,
   "metadata": {},
   "outputs": [],
   "source": [
    "comm.columns = ['COMMUNICATION']"
   ]
  },
  {
   "cell_type": "code",
   "execution_count": 64,
   "metadata": {},
   "outputs": [
    {
     "output_type": "execute_result",
     "data": {
      "text/plain": "      COMMUNICATION\n0                 1\n1                 1\n2                 1\n3                 1\n4                 1\n...             ...\n3171              0\n3172              0\n3173              0\n3174              0\n3175              0\n\n[3176 rows x 1 columns]",
      "text/html": "<div>\n<style scoped>\n    .dataframe tbody tr th:only-of-type {\n        vertical-align: middle;\n    }\n\n    .dataframe tbody tr th {\n        vertical-align: top;\n    }\n\n    .dataframe thead th {\n        text-align: right;\n    }\n</style>\n<table border=\"1\" class=\"dataframe\">\n  <thead>\n    <tr style=\"text-align: right;\">\n      <th></th>\n      <th>COMMUNICATION</th>\n    </tr>\n  </thead>\n  <tbody>\n    <tr>\n      <th>0</th>\n      <td>1</td>\n    </tr>\n    <tr>\n      <th>1</th>\n      <td>1</td>\n    </tr>\n    <tr>\n      <th>2</th>\n      <td>1</td>\n    </tr>\n    <tr>\n      <th>3</th>\n      <td>1</td>\n    </tr>\n    <tr>\n      <th>4</th>\n      <td>1</td>\n    </tr>\n    <tr>\n      <th>...</th>\n      <td>...</td>\n    </tr>\n    <tr>\n      <th>3171</th>\n      <td>0</td>\n    </tr>\n    <tr>\n      <th>3172</th>\n      <td>0</td>\n    </tr>\n    <tr>\n      <th>3173</th>\n      <td>0</td>\n    </tr>\n    <tr>\n      <th>3174</th>\n      <td>0</td>\n    </tr>\n    <tr>\n      <th>3175</th>\n      <td>0</td>\n    </tr>\n  </tbody>\n</table>\n<p>3176 rows × 1 columns</p>\n</div>"
     },
     "metadata": {},
     "execution_count": 64
    }
   ],
   "source": [
    "comm"
   ]
  },
  {
   "cell_type": "markdown",
   "metadata": {},
   "source": [
    "7. J_PROB_SOLVE"
   ]
  },
  {
   "cell_type": "code",
   "execution_count": 66,
   "metadata": {},
   "outputs": [
    {
     "output_type": "execute_result",
     "data": {
      "text/plain": "N    2197\nY     979\nName: J_PROB_SOLVE, dtype: int64"
     },
     "metadata": {},
     "execution_count": 66
    }
   ],
   "source": [
    "dataset['J_PROB_SOLVE'].value_counts()"
   ]
  },
  {
   "cell_type": "code",
   "execution_count": 67,
   "metadata": {},
   "outputs": [],
   "source": [
    "# convert the values to numeric\n",
    "prob = pd.get_dummies(dataset['J_PROB_SOLVE'], drop_first=True)"
   ]
  },
  {
   "cell_type": "code",
   "execution_count": 68,
   "metadata": {},
   "outputs": [
    {
     "output_type": "execute_result",
     "data": {
      "text/plain": "      Y\n0     0\n1     0\n2     0\n3     0\n4     0\n...  ..\n3171  1\n3172  1\n3173  1\n3174  1\n3175  1\n\n[3176 rows x 1 columns]",
      "text/html": "<div>\n<style scoped>\n    .dataframe tbody tr th:only-of-type {\n        vertical-align: middle;\n    }\n\n    .dataframe tbody tr th {\n        vertical-align: top;\n    }\n\n    .dataframe thead th {\n        text-align: right;\n    }\n</style>\n<table border=\"1\" class=\"dataframe\">\n  <thead>\n    <tr style=\"text-align: right;\">\n      <th></th>\n      <th>Y</th>\n    </tr>\n  </thead>\n  <tbody>\n    <tr>\n      <th>0</th>\n      <td>0</td>\n    </tr>\n    <tr>\n      <th>1</th>\n      <td>0</td>\n    </tr>\n    <tr>\n      <th>2</th>\n      <td>0</td>\n    </tr>\n    <tr>\n      <th>3</th>\n      <td>0</td>\n    </tr>\n    <tr>\n      <th>4</th>\n      <td>0</td>\n    </tr>\n    <tr>\n      <th>...</th>\n      <td>...</td>\n    </tr>\n    <tr>\n      <th>3171</th>\n      <td>1</td>\n    </tr>\n    <tr>\n      <th>3172</th>\n      <td>1</td>\n    </tr>\n    <tr>\n      <th>3173</th>\n      <td>1</td>\n    </tr>\n    <tr>\n      <th>3174</th>\n      <td>1</td>\n    </tr>\n    <tr>\n      <th>3175</th>\n      <td>1</td>\n    </tr>\n  </tbody>\n</table>\n<p>3176 rows × 1 columns</p>\n</div>"
     },
     "metadata": {},
     "execution_count": 68
    }
   ],
   "source": [
    "prob"
   ]
  },
  {
   "cell_type": "code",
   "execution_count": 69,
   "metadata": {},
   "outputs": [],
   "source": [
    "prob.columns = ['PROB_SOLVE']"
   ]
  },
  {
   "cell_type": "code",
   "execution_count": 70,
   "metadata": {},
   "outputs": [
    {
     "output_type": "execute_result",
     "data": {
      "text/plain": "      PROB_SOLVE\n0              0\n1              0\n2              0\n3              0\n4              0\n...          ...\n3171           1\n3172           1\n3173           1\n3174           1\n3175           1\n\n[3176 rows x 1 columns]",
      "text/html": "<div>\n<style scoped>\n    .dataframe tbody tr th:only-of-type {\n        vertical-align: middle;\n    }\n\n    .dataframe tbody tr th {\n        vertical-align: top;\n    }\n\n    .dataframe thead th {\n        text-align: right;\n    }\n</style>\n<table border=\"1\" class=\"dataframe\">\n  <thead>\n    <tr style=\"text-align: right;\">\n      <th></th>\n      <th>PROB_SOLVE</th>\n    </tr>\n  </thead>\n  <tbody>\n    <tr>\n      <th>0</th>\n      <td>0</td>\n    </tr>\n    <tr>\n      <th>1</th>\n      <td>0</td>\n    </tr>\n    <tr>\n      <th>2</th>\n      <td>0</td>\n    </tr>\n    <tr>\n      <th>3</th>\n      <td>0</td>\n    </tr>\n    <tr>\n      <th>4</th>\n      <td>0</td>\n    </tr>\n    <tr>\n      <th>...</th>\n      <td>...</td>\n    </tr>\n    <tr>\n      <th>3171</th>\n      <td>1</td>\n    </tr>\n    <tr>\n      <th>3172</th>\n      <td>1</td>\n    </tr>\n    <tr>\n      <th>3173</th>\n      <td>1</td>\n    </tr>\n    <tr>\n      <th>3174</th>\n      <td>1</td>\n    </tr>\n    <tr>\n      <th>3175</th>\n      <td>1</td>\n    </tr>\n  </tbody>\n</table>\n<p>3176 rows × 1 columns</p>\n</div>"
     },
     "metadata": {},
     "execution_count": 70
    }
   ],
   "source": [
    "prob"
   ]
  },
  {
   "cell_type": "markdown",
   "metadata": {},
   "source": [
    "7. J_ATTEN_VIGIL"
   ]
  },
  {
   "cell_type": "code",
   "execution_count": 72,
   "metadata": {},
   "outputs": [
    {
     "output_type": "execute_result",
     "data": {
      "text/plain": "N    2084\nY    1092\nName: J_ATTEN_VIGIL, dtype: int64"
     },
     "metadata": {},
     "execution_count": 72
    }
   ],
   "source": [
    "dataset['J_ATTEN_VIGIL'].value_counts()"
   ]
  },
  {
   "cell_type": "code",
   "execution_count": 73,
   "metadata": {},
   "outputs": [],
   "source": [
    "# convert the values to numeric\n",
    "atten = pd.get_dummies(dataset['J_ATTEN_VIGIL'], drop_first=True)"
   ]
  },
  {
   "cell_type": "code",
   "execution_count": 74,
   "metadata": {},
   "outputs": [
    {
     "output_type": "execute_result",
     "data": {
      "text/plain": "      Y\n0     0\n1     0\n2     0\n3     0\n4     0\n...  ..\n3171  0\n3172  0\n3173  0\n3174  0\n3175  0\n\n[3176 rows x 1 columns]",
      "text/html": "<div>\n<style scoped>\n    .dataframe tbody tr th:only-of-type {\n        vertical-align: middle;\n    }\n\n    .dataframe tbody tr th {\n        vertical-align: top;\n    }\n\n    .dataframe thead th {\n        text-align: right;\n    }\n</style>\n<table border=\"1\" class=\"dataframe\">\n  <thead>\n    <tr style=\"text-align: right;\">\n      <th></th>\n      <th>Y</th>\n    </tr>\n  </thead>\n  <tbody>\n    <tr>\n      <th>0</th>\n      <td>0</td>\n    </tr>\n    <tr>\n      <th>1</th>\n      <td>0</td>\n    </tr>\n    <tr>\n      <th>2</th>\n      <td>0</td>\n    </tr>\n    <tr>\n      <th>3</th>\n      <td>0</td>\n    </tr>\n    <tr>\n      <th>4</th>\n      <td>0</td>\n    </tr>\n    <tr>\n      <th>...</th>\n      <td>...</td>\n    </tr>\n    <tr>\n      <th>3171</th>\n      <td>0</td>\n    </tr>\n    <tr>\n      <th>3172</th>\n      <td>0</td>\n    </tr>\n    <tr>\n      <th>3173</th>\n      <td>0</td>\n    </tr>\n    <tr>\n      <th>3174</th>\n      <td>0</td>\n    </tr>\n    <tr>\n      <th>3175</th>\n      <td>0</td>\n    </tr>\n  </tbody>\n</table>\n<p>3176 rows × 1 columns</p>\n</div>"
     },
     "metadata": {},
     "execution_count": 74
    }
   ],
   "source": [
    "atten"
   ]
  },
  {
   "cell_type": "code",
   "execution_count": 75,
   "metadata": {},
   "outputs": [],
   "source": [
    "atten.columns = ['ATTEN_VIGIL']"
   ]
  },
  {
   "cell_type": "code",
   "execution_count": 76,
   "metadata": {},
   "outputs": [
    {
     "output_type": "execute_result",
     "data": {
      "text/plain": "      ATTEN_VIGIL\n0               0\n1               0\n2               0\n3               0\n4               0\n...           ...\n3171            0\n3172            0\n3173            0\n3174            0\n3175            0\n\n[3176 rows x 1 columns]",
      "text/html": "<div>\n<style scoped>\n    .dataframe tbody tr th:only-of-type {\n        vertical-align: middle;\n    }\n\n    .dataframe tbody tr th {\n        vertical-align: top;\n    }\n\n    .dataframe thead th {\n        text-align: right;\n    }\n</style>\n<table border=\"1\" class=\"dataframe\">\n  <thead>\n    <tr style=\"text-align: right;\">\n      <th></th>\n      <th>ATTEN_VIGIL</th>\n    </tr>\n  </thead>\n  <tbody>\n    <tr>\n      <th>0</th>\n      <td>0</td>\n    </tr>\n    <tr>\n      <th>1</th>\n      <td>0</td>\n    </tr>\n    <tr>\n      <th>2</th>\n      <td>0</td>\n    </tr>\n    <tr>\n      <th>3</th>\n      <td>0</td>\n    </tr>\n    <tr>\n      <th>4</th>\n      <td>0</td>\n    </tr>\n    <tr>\n      <th>...</th>\n      <td>...</td>\n    </tr>\n    <tr>\n      <th>3171</th>\n      <td>0</td>\n    </tr>\n    <tr>\n      <th>3172</th>\n      <td>0</td>\n    </tr>\n    <tr>\n      <th>3173</th>\n      <td>0</td>\n    </tr>\n    <tr>\n      <th>3174</th>\n      <td>0</td>\n    </tr>\n    <tr>\n      <th>3175</th>\n      <td>0</td>\n    </tr>\n  </tbody>\n</table>\n<p>3176 rows × 1 columns</p>\n</div>"
     },
     "metadata": {},
     "execution_count": 76
    }
   ],
   "source": [
    "atten"
   ]
  },
  {
   "cell_type": "markdown",
   "metadata": {},
   "source": [
    "8. J_ADAPT_INTERACT"
   ]
  },
  {
   "cell_type": "code",
   "execution_count": 78,
   "metadata": {},
   "outputs": [
    {
     "output_type": "execute_result",
     "data": {
      "text/plain": "N    2670\nY     506\nName: J_ADAPT_INTERACT, dtype: int64"
     },
     "metadata": {},
     "execution_count": 78
    }
   ],
   "source": [
    "dataset['J_ADAPT_INTERACT'].value_counts()"
   ]
  },
  {
   "cell_type": "code",
   "execution_count": 79,
   "metadata": {},
   "outputs": [],
   "source": [
    "# convert the values to numeric\n",
    "adapt = pd.get_dummies(dataset['J_ADAPT_INTERACT'], drop_first=True)"
   ]
  },
  {
   "cell_type": "code",
   "execution_count": 80,
   "metadata": {},
   "outputs": [],
   "source": [
    "adapt.columns = ['ADAPT_INTERACT']"
   ]
  },
  {
   "cell_type": "code",
   "execution_count": 81,
   "metadata": {},
   "outputs": [
    {
     "output_type": "execute_result",
     "data": {
      "text/plain": "      ADAPT_INTERACT\n0                  0\n1                  0\n2                  0\n3                  0\n4                  0\n...              ...\n3171               0\n3172               0\n3173               0\n3174               0\n3175               0\n\n[3176 rows x 1 columns]",
      "text/html": "<div>\n<style scoped>\n    .dataframe tbody tr th:only-of-type {\n        vertical-align: middle;\n    }\n\n    .dataframe tbody tr th {\n        vertical-align: top;\n    }\n\n    .dataframe thead th {\n        text-align: right;\n    }\n</style>\n<table border=\"1\" class=\"dataframe\">\n  <thead>\n    <tr style=\"text-align: right;\">\n      <th></th>\n      <th>ADAPT_INTERACT</th>\n    </tr>\n  </thead>\n  <tbody>\n    <tr>\n      <th>0</th>\n      <td>0</td>\n    </tr>\n    <tr>\n      <th>1</th>\n      <td>0</td>\n    </tr>\n    <tr>\n      <th>2</th>\n      <td>0</td>\n    </tr>\n    <tr>\n      <th>3</th>\n      <td>0</td>\n    </tr>\n    <tr>\n      <th>4</th>\n      <td>0</td>\n    </tr>\n    <tr>\n      <th>...</th>\n      <td>...</td>\n    </tr>\n    <tr>\n      <th>3171</th>\n      <td>0</td>\n    </tr>\n    <tr>\n      <th>3172</th>\n      <td>0</td>\n    </tr>\n    <tr>\n      <th>3173</th>\n      <td>0</td>\n    </tr>\n    <tr>\n      <th>3174</th>\n      <td>0</td>\n    </tr>\n    <tr>\n      <th>3175</th>\n      <td>0</td>\n    </tr>\n  </tbody>\n</table>\n<p>3176 rows × 1 columns</p>\n</div>"
     },
     "metadata": {},
     "execution_count": 81
    }
   ],
   "source": [
    "adapt"
   ]
  },
  {
   "cell_type": "code",
   "execution_count": 82,
   "metadata": {},
   "outputs": [],
   "source": [
    "# precautionary copy of dataset\n",
    "dataset_copy = dataset.copy()"
   ]
  },
  {
   "cell_type": "code",
   "execution_count": 83,
   "metadata": {},
   "outputs": [],
   "source": [
    "# drop object columns from dataset\n",
    "dataset.drop(['JOB_MATCH', 'S_NAME', 'S_GENDER', 'S_EDUCATION', 'JOB_DESCRIPTION', 'J_LANGUAGE', 'J_COMMUNICATION', 'J_PROB_SOLVE', 'J_ATTEN_VIGIL', 'J_ADAPT_INTERACT'], axis=1, inplace=True)"
   ]
  },
  {
   "cell_type": "code",
   "execution_count": 84,
   "metadata": {},
   "outputs": [
    {
     "output_type": "execute_result",
     "data": {
      "text/plain": "      S_AGE  S_UNDERSTANDING_COMM  S_GETTING_ALONG_PEOPLE  S_LIFE_ACT_HOUSE  \\\n0      47.0                   4.0                     1.0               1.0   \n1      40.0                   4.0                     3.0               1.0   \n2      27.0                   4.0                     3.0               1.0   \n3      26.0                   4.0                     3.0               1.0   \n4      48.0                   3.0                     3.0               1.0   \n...     ...                   ...                     ...               ...   \n3171   24.0                   2.0                     1.0               2.0   \n3172   25.0                   1.0                     2.0               1.0   \n3173   24.0                   1.0                     2.0               1.0   \n3174   37.0                   1.0                     2.0               1.0   \n3175   33.0                   1.0                     2.0               2.0   \n\n      S_LIFE_ACT_WORK  S_PARTICIPATE_SOCIETY  S_PREV_EMP  S_TOTAL_EXPERIENCE  \n0                 3.0                    3.0         2.0                 6.0  \n1                 3.0                    3.0         2.0                 7.0  \n2                 3.0                    3.0         1.0                 2.0  \n3                 3.0                    3.0         1.0                 2.0  \n4                 3.0                    2.0         1.0                 6.0  \n...               ...                    ...         ...                 ...  \n3171              1.0                    1.0         4.0                 2.0  \n3172              1.0                    1.0         4.0                 3.0  \n3173              1.0                    1.0         4.0                 3.0  \n3174              1.0                    2.0         4.0                 8.0  \n3175              1.0                    2.0         1.0                 5.0  \n\n[3176 rows x 8 columns]",
      "text/html": "<div>\n<style scoped>\n    .dataframe tbody tr th:only-of-type {\n        vertical-align: middle;\n    }\n\n    .dataframe tbody tr th {\n        vertical-align: top;\n    }\n\n    .dataframe thead th {\n        text-align: right;\n    }\n</style>\n<table border=\"1\" class=\"dataframe\">\n  <thead>\n    <tr style=\"text-align: right;\">\n      <th></th>\n      <th>S_AGE</th>\n      <th>S_UNDERSTANDING_COMM</th>\n      <th>S_GETTING_ALONG_PEOPLE</th>\n      <th>S_LIFE_ACT_HOUSE</th>\n      <th>S_LIFE_ACT_WORK</th>\n      <th>S_PARTICIPATE_SOCIETY</th>\n      <th>S_PREV_EMP</th>\n      <th>S_TOTAL_EXPERIENCE</th>\n    </tr>\n  </thead>\n  <tbody>\n    <tr>\n      <th>0</th>\n      <td>47.0</td>\n      <td>4.0</td>\n      <td>1.0</td>\n      <td>1.0</td>\n      <td>3.0</td>\n      <td>3.0</td>\n      <td>2.0</td>\n      <td>6.0</td>\n    </tr>\n    <tr>\n      <th>1</th>\n      <td>40.0</td>\n      <td>4.0</td>\n      <td>3.0</td>\n      <td>1.0</td>\n      <td>3.0</td>\n      <td>3.0</td>\n      <td>2.0</td>\n      <td>7.0</td>\n    </tr>\n    <tr>\n      <th>2</th>\n      <td>27.0</td>\n      <td>4.0</td>\n      <td>3.0</td>\n      <td>1.0</td>\n      <td>3.0</td>\n      <td>3.0</td>\n      <td>1.0</td>\n      <td>2.0</td>\n    </tr>\n    <tr>\n      <th>3</th>\n      <td>26.0</td>\n      <td>4.0</td>\n      <td>3.0</td>\n      <td>1.0</td>\n      <td>3.0</td>\n      <td>3.0</td>\n      <td>1.0</td>\n      <td>2.0</td>\n    </tr>\n    <tr>\n      <th>4</th>\n      <td>48.0</td>\n      <td>3.0</td>\n      <td>3.0</td>\n      <td>1.0</td>\n      <td>3.0</td>\n      <td>2.0</td>\n      <td>1.0</td>\n      <td>6.0</td>\n    </tr>\n    <tr>\n      <th>...</th>\n      <td>...</td>\n      <td>...</td>\n      <td>...</td>\n      <td>...</td>\n      <td>...</td>\n      <td>...</td>\n      <td>...</td>\n      <td>...</td>\n    </tr>\n    <tr>\n      <th>3171</th>\n      <td>24.0</td>\n      <td>2.0</td>\n      <td>1.0</td>\n      <td>2.0</td>\n      <td>1.0</td>\n      <td>1.0</td>\n      <td>4.0</td>\n      <td>2.0</td>\n    </tr>\n    <tr>\n      <th>3172</th>\n      <td>25.0</td>\n      <td>1.0</td>\n      <td>2.0</td>\n      <td>1.0</td>\n      <td>1.0</td>\n      <td>1.0</td>\n      <td>4.0</td>\n      <td>3.0</td>\n    </tr>\n    <tr>\n      <th>3173</th>\n      <td>24.0</td>\n      <td>1.0</td>\n      <td>2.0</td>\n      <td>1.0</td>\n      <td>1.0</td>\n      <td>1.0</td>\n      <td>4.0</td>\n      <td>3.0</td>\n    </tr>\n    <tr>\n      <th>3174</th>\n      <td>37.0</td>\n      <td>1.0</td>\n      <td>2.0</td>\n      <td>1.0</td>\n      <td>1.0</td>\n      <td>2.0</td>\n      <td>4.0</td>\n      <td>8.0</td>\n    </tr>\n    <tr>\n      <th>3175</th>\n      <td>33.0</td>\n      <td>1.0</td>\n      <td>2.0</td>\n      <td>2.0</td>\n      <td>1.0</td>\n      <td>2.0</td>\n      <td>1.0</td>\n      <td>5.0</td>\n    </tr>\n  </tbody>\n</table>\n<p>3176 rows × 8 columns</p>\n</div>"
     },
     "metadata": {},
     "execution_count": 84
    }
   ],
   "source": [
    "dataset"
   ]
  },
  {
   "cell_type": "code",
   "execution_count": 85,
   "metadata": {},
   "outputs": [],
   "source": [
    "# concat the nre derived columns\n",
    "dataset_new = pd.concat([dataset, job_match, gender, education, job_desc, lang, comm, prob, atten, adapt], axis=1)"
   ]
  },
  {
   "cell_type": "code",
   "execution_count": 86,
   "metadata": {
    "tags": []
   },
   "outputs": [
    {
     "output_type": "stream",
     "name": "stdout",
     "text": "<class 'pandas.core.frame.DataFrame'>\nRangeIndex: 3176 entries, 0 to 3175\nData columns (total 25 columns):\n #   Column                  Non-Null Count  Dtype  \n---  ------                  --------------  -----  \n 0   S_AGE                   3176 non-null   float64\n 1   S_UNDERSTANDING_COMM    3176 non-null   float64\n 2   S_GETTING_ALONG_PEOPLE  3176 non-null   float64\n 3   S_LIFE_ACT_HOUSE        3176 non-null   float64\n 4   S_LIFE_ACT_WORK         3176 non-null   float64\n 5   S_PARTICIPATE_SOCIETY   3176 non-null   float64\n 6   S_PREV_EMP              3176 non-null   float64\n 7   S_TOTAL_EXPERIENCE      3176 non-null   float64\n 8   JOB_MATCH               3176 non-null   uint8  \n 9   GENDER                  3176 non-null   uint8  \n 10  EDU_HSE                 3176 non-null   uint8  \n 11  EDU_PG                  3176 non-null   uint8  \n 12  EDU_PRIM                3176 non-null   uint8  \n 13  EDU_UG                  3176 non-null   uint8  \n 14  JOB_BPO                 3176 non-null   uint8  \n 15  JOB_EXEC                3176 non-null   uint8  \n 16  JOB_MRKT                3176 non-null   uint8  \n 17  JOB_SECG                3176 non-null   uint8  \n 18  JOB_SUPM                3176 non-null   uint8  \n 19  JOB_TCHR                3176 non-null   uint8  \n 20  LANGUAGE                3176 non-null   uint8  \n 21  COMMUNICATION           3176 non-null   uint8  \n 22  PROB_SOLVE              3176 non-null   uint8  \n 23  ATTEN_VIGIL             3176 non-null   uint8  \n 24  ADAPT_INTERACT          3176 non-null   uint8  \ndtypes: float64(8), uint8(17)\nmemory usage: 251.4 KB\n"
    }
   ],
   "source": [
    "dataset_new.info()"
   ]
  },
  {
   "cell_type": "code",
   "execution_count": 89,
   "metadata": {},
   "outputs": [
    {
     "output_type": "execute_result",
     "data": {
      "text/plain": "   S_AGE  S_UNDERSTANDING_COMM  S_GETTING_ALONG_PEOPLE  S_LIFE_ACT_HOUSE  \\\n0   47.0                   4.0                     1.0               1.0   \n1   40.0                   4.0                     3.0               1.0   \n2   27.0                   4.0                     3.0               1.0   \n3   26.0                   4.0                     3.0               1.0   \n4   48.0                   3.0                     3.0               1.0   \n\n   S_LIFE_ACT_WORK  S_PARTICIPATE_SOCIETY  S_PREV_EMP  S_TOTAL_EXPERIENCE  \\\n0              3.0                    3.0         2.0                 6.0   \n1              3.0                    3.0         2.0                 7.0   \n2              3.0                    3.0         1.0                 2.0   \n3              3.0                    3.0         1.0                 2.0   \n4              3.0                    2.0         1.0                 6.0   \n\n   JOB_MATCH  GENDER  ...  JOB_EXEC  JOB_MRKT  JOB_SECG  JOB_SUPM  JOB_TCHR  \\\n0          0       0  ...         0         1         0         0         0   \n1          0       0  ...         0         1         0         0         0   \n2          0       0  ...         0         1         0         0         0   \n3          0       0  ...         0         1         0         0         0   \n4          0       0  ...         0         1         0         0         0   \n\n   LANGUAGE  COMMUNICATION  PROB_SOLVE  ATTEN_VIGIL  ADAPT_INTERACT  \n0         1              1           0            0               0  \n1         1              1           0            0               0  \n2         1              1           0            0               0  \n3         1              1           0            0               0  \n4         1              1           0            0               0  \n\n[5 rows x 25 columns]",
      "text/html": "<div>\n<style scoped>\n    .dataframe tbody tr th:only-of-type {\n        vertical-align: middle;\n    }\n\n    .dataframe tbody tr th {\n        vertical-align: top;\n    }\n\n    .dataframe thead th {\n        text-align: right;\n    }\n</style>\n<table border=\"1\" class=\"dataframe\">\n  <thead>\n    <tr style=\"text-align: right;\">\n      <th></th>\n      <th>S_AGE</th>\n      <th>S_UNDERSTANDING_COMM</th>\n      <th>S_GETTING_ALONG_PEOPLE</th>\n      <th>S_LIFE_ACT_HOUSE</th>\n      <th>S_LIFE_ACT_WORK</th>\n      <th>S_PARTICIPATE_SOCIETY</th>\n      <th>S_PREV_EMP</th>\n      <th>S_TOTAL_EXPERIENCE</th>\n      <th>JOB_MATCH</th>\n      <th>GENDER</th>\n      <th>...</th>\n      <th>JOB_EXEC</th>\n      <th>JOB_MRKT</th>\n      <th>JOB_SECG</th>\n      <th>JOB_SUPM</th>\n      <th>JOB_TCHR</th>\n      <th>LANGUAGE</th>\n      <th>COMMUNICATION</th>\n      <th>PROB_SOLVE</th>\n      <th>ATTEN_VIGIL</th>\n      <th>ADAPT_INTERACT</th>\n    </tr>\n  </thead>\n  <tbody>\n    <tr>\n      <th>0</th>\n      <td>47.0</td>\n      <td>4.0</td>\n      <td>1.0</td>\n      <td>1.0</td>\n      <td>3.0</td>\n      <td>3.0</td>\n      <td>2.0</td>\n      <td>6.0</td>\n      <td>0</td>\n      <td>0</td>\n      <td>...</td>\n      <td>0</td>\n      <td>1</td>\n      <td>0</td>\n      <td>0</td>\n      <td>0</td>\n      <td>1</td>\n      <td>1</td>\n      <td>0</td>\n      <td>0</td>\n      <td>0</td>\n    </tr>\n    <tr>\n      <th>1</th>\n      <td>40.0</td>\n      <td>4.0</td>\n      <td>3.0</td>\n      <td>1.0</td>\n      <td>3.0</td>\n      <td>3.0</td>\n      <td>2.0</td>\n      <td>7.0</td>\n      <td>0</td>\n      <td>0</td>\n      <td>...</td>\n      <td>0</td>\n      <td>1</td>\n      <td>0</td>\n      <td>0</td>\n      <td>0</td>\n      <td>1</td>\n      <td>1</td>\n      <td>0</td>\n      <td>0</td>\n      <td>0</td>\n    </tr>\n    <tr>\n      <th>2</th>\n      <td>27.0</td>\n      <td>4.0</td>\n      <td>3.0</td>\n      <td>1.0</td>\n      <td>3.0</td>\n      <td>3.0</td>\n      <td>1.0</td>\n      <td>2.0</td>\n      <td>0</td>\n      <td>0</td>\n      <td>...</td>\n      <td>0</td>\n      <td>1</td>\n      <td>0</td>\n      <td>0</td>\n      <td>0</td>\n      <td>1</td>\n      <td>1</td>\n      <td>0</td>\n      <td>0</td>\n      <td>0</td>\n    </tr>\n    <tr>\n      <th>3</th>\n      <td>26.0</td>\n      <td>4.0</td>\n      <td>3.0</td>\n      <td>1.0</td>\n      <td>3.0</td>\n      <td>3.0</td>\n      <td>1.0</td>\n      <td>2.0</td>\n      <td>0</td>\n      <td>0</td>\n      <td>...</td>\n      <td>0</td>\n      <td>1</td>\n      <td>0</td>\n      <td>0</td>\n      <td>0</td>\n      <td>1</td>\n      <td>1</td>\n      <td>0</td>\n      <td>0</td>\n      <td>0</td>\n    </tr>\n    <tr>\n      <th>4</th>\n      <td>48.0</td>\n      <td>3.0</td>\n      <td>3.0</td>\n      <td>1.0</td>\n      <td>3.0</td>\n      <td>2.0</td>\n      <td>1.0</td>\n      <td>6.0</td>\n      <td>0</td>\n      <td>0</td>\n      <td>...</td>\n      <td>0</td>\n      <td>1</td>\n      <td>0</td>\n      <td>0</td>\n      <td>0</td>\n      <td>1</td>\n      <td>1</td>\n      <td>0</td>\n      <td>0</td>\n      <td>0</td>\n    </tr>\n  </tbody>\n</table>\n<p>5 rows × 25 columns</p>\n</div>"
     },
     "metadata": {},
     "execution_count": 89
    }
   ],
   "source": [
    "dataset_new.head()"
   ]
  },
  {
   "cell_type": "code",
   "execution_count": 90,
   "metadata": {},
   "outputs": [],
   "source": [
    "# dataset looks good to me overridden\n",
    "dataset = dataset_new"
   ]
  },
  {
   "cell_type": "markdown",
   "metadata": {},
   "source": [
    "# MODELING"
   ]
  },
  {
   "cell_type": "code",
   "execution_count": 91,
   "metadata": {},
   "outputs": [],
   "source": [
    "# seperating the features from the response column (JOB_MATCH)\n",
    "data_X = dataset.drop('JOB_MATCH', axis=1)\n",
    "data_y = dataset['JOB_MATCH']"
   ]
  },
  {
   "cell_type": "code",
   "execution_count": 92,
   "metadata": {},
   "outputs": [
    {
     "output_type": "execute_result",
     "data": {
      "text/plain": "   S_AGE  S_UNDERSTANDING_COMM  S_GETTING_ALONG_PEOPLE  S_LIFE_ACT_HOUSE  \\\n0   47.0                   4.0                     1.0               1.0   \n1   40.0                   4.0                     3.0               1.0   \n2   27.0                   4.0                     3.0               1.0   \n3   26.0                   4.0                     3.0               1.0   \n4   48.0                   3.0                     3.0               1.0   \n\n   S_LIFE_ACT_WORK  S_PARTICIPATE_SOCIETY  S_PREV_EMP  S_TOTAL_EXPERIENCE  \\\n0              3.0                    3.0         2.0                 6.0   \n1              3.0                    3.0         2.0                 7.0   \n2              3.0                    3.0         1.0                 2.0   \n3              3.0                    3.0         1.0                 2.0   \n4              3.0                    2.0         1.0                 6.0   \n\n   GENDER  EDU_HSE  ...  JOB_EXEC  JOB_MRKT  JOB_SECG  JOB_SUPM  JOB_TCHR  \\\n0       0        0  ...         0         1         0         0         0   \n1       0        0  ...         0         1         0         0         0   \n2       0        0  ...         0         1         0         0         0   \n3       0        0  ...         0         1         0         0         0   \n4       0        0  ...         0         1         0         0         0   \n\n   LANGUAGE  COMMUNICATION  PROB_SOLVE  ATTEN_VIGIL  ADAPT_INTERACT  \n0         1              1           0            0               0  \n1         1              1           0            0               0  \n2         1              1           0            0               0  \n3         1              1           0            0               0  \n4         1              1           0            0               0  \n\n[5 rows x 24 columns]",
      "text/html": "<div>\n<style scoped>\n    .dataframe tbody tr th:only-of-type {\n        vertical-align: middle;\n    }\n\n    .dataframe tbody tr th {\n        vertical-align: top;\n    }\n\n    .dataframe thead th {\n        text-align: right;\n    }\n</style>\n<table border=\"1\" class=\"dataframe\">\n  <thead>\n    <tr style=\"text-align: right;\">\n      <th></th>\n      <th>S_AGE</th>\n      <th>S_UNDERSTANDING_COMM</th>\n      <th>S_GETTING_ALONG_PEOPLE</th>\n      <th>S_LIFE_ACT_HOUSE</th>\n      <th>S_LIFE_ACT_WORK</th>\n      <th>S_PARTICIPATE_SOCIETY</th>\n      <th>S_PREV_EMP</th>\n      <th>S_TOTAL_EXPERIENCE</th>\n      <th>GENDER</th>\n      <th>EDU_HSE</th>\n      <th>...</th>\n      <th>JOB_EXEC</th>\n      <th>JOB_MRKT</th>\n      <th>JOB_SECG</th>\n      <th>JOB_SUPM</th>\n      <th>JOB_TCHR</th>\n      <th>LANGUAGE</th>\n      <th>COMMUNICATION</th>\n      <th>PROB_SOLVE</th>\n      <th>ATTEN_VIGIL</th>\n      <th>ADAPT_INTERACT</th>\n    </tr>\n  </thead>\n  <tbody>\n    <tr>\n      <th>0</th>\n      <td>47.0</td>\n      <td>4.0</td>\n      <td>1.0</td>\n      <td>1.0</td>\n      <td>3.0</td>\n      <td>3.0</td>\n      <td>2.0</td>\n      <td>6.0</td>\n      <td>0</td>\n      <td>0</td>\n      <td>...</td>\n      <td>0</td>\n      <td>1</td>\n      <td>0</td>\n      <td>0</td>\n      <td>0</td>\n      <td>1</td>\n      <td>1</td>\n      <td>0</td>\n      <td>0</td>\n      <td>0</td>\n    </tr>\n    <tr>\n      <th>1</th>\n      <td>40.0</td>\n      <td>4.0</td>\n      <td>3.0</td>\n      <td>1.0</td>\n      <td>3.0</td>\n      <td>3.0</td>\n      <td>2.0</td>\n      <td>7.0</td>\n      <td>0</td>\n      <td>0</td>\n      <td>...</td>\n      <td>0</td>\n      <td>1</td>\n      <td>0</td>\n      <td>0</td>\n      <td>0</td>\n      <td>1</td>\n      <td>1</td>\n      <td>0</td>\n      <td>0</td>\n      <td>0</td>\n    </tr>\n    <tr>\n      <th>2</th>\n      <td>27.0</td>\n      <td>4.0</td>\n      <td>3.0</td>\n      <td>1.0</td>\n      <td>3.0</td>\n      <td>3.0</td>\n      <td>1.0</td>\n      <td>2.0</td>\n      <td>0</td>\n      <td>0</td>\n      <td>...</td>\n      <td>0</td>\n      <td>1</td>\n      <td>0</td>\n      <td>0</td>\n      <td>0</td>\n      <td>1</td>\n      <td>1</td>\n      <td>0</td>\n      <td>0</td>\n      <td>0</td>\n    </tr>\n    <tr>\n      <th>3</th>\n      <td>26.0</td>\n      <td>4.0</td>\n      <td>3.0</td>\n      <td>1.0</td>\n      <td>3.0</td>\n      <td>3.0</td>\n      <td>1.0</td>\n      <td>2.0</td>\n      <td>0</td>\n      <td>0</td>\n      <td>...</td>\n      <td>0</td>\n      <td>1</td>\n      <td>0</td>\n      <td>0</td>\n      <td>0</td>\n      <td>1</td>\n      <td>1</td>\n      <td>0</td>\n      <td>0</td>\n      <td>0</td>\n    </tr>\n    <tr>\n      <th>4</th>\n      <td>48.0</td>\n      <td>3.0</td>\n      <td>3.0</td>\n      <td>1.0</td>\n      <td>3.0</td>\n      <td>2.0</td>\n      <td>1.0</td>\n      <td>6.0</td>\n      <td>0</td>\n      <td>0</td>\n      <td>...</td>\n      <td>0</td>\n      <td>1</td>\n      <td>0</td>\n      <td>0</td>\n      <td>0</td>\n      <td>1</td>\n      <td>1</td>\n      <td>0</td>\n      <td>0</td>\n      <td>0</td>\n    </tr>\n  </tbody>\n</table>\n<p>5 rows × 24 columns</p>\n</div>"
     },
     "metadata": {},
     "execution_count": 92
    }
   ],
   "source": [
    "data_X.head()"
   ]
  },
  {
   "cell_type": "code",
   "execution_count": 93,
   "metadata": {},
   "outputs": [
    {
     "output_type": "execute_result",
     "data": {
      "text/plain": "0    0\n1    0\n2    0\n3    0\n4    0\nName: JOB_MATCH, dtype: uint8"
     },
     "metadata": {},
     "execution_count": 93
    }
   ],
   "source": [
    "data_y.head()"
   ]
  },
  {
   "cell_type": "markdown",
   "metadata": {},
   "source": [
    "## Splitting the dataset into training and testing sets"
   ]
  },
  {
   "cell_type": "code",
   "execution_count": 94,
   "metadata": {},
   "outputs": [],
   "source": [
    "# split the features and response using train_test_split\n",
    "from sklearn.model_selection import train_test_split\n",
    "X_train, X_test, y_train, y_test = train_test_split(data_X, data_y, test_size=0.2, random_state=42)"
   ]
  },
  {
   "cell_type": "markdown",
   "metadata": {},
   "source": [
    "## Training and Predicting"
   ]
  },
  {
   "cell_type": "markdown",
   "metadata": {},
   "source": [
    "1. LogisticRegression"
   ]
  },
  {
   "cell_type": "code",
   "execution_count": 98,
   "metadata": {},
   "outputs": [],
   "source": [
    "from sklearn.linear_model import LogisticRegression"
   ]
  },
  {
   "cell_type": "code",
   "execution_count": 99,
   "metadata": {},
   "outputs": [
    {
     "output_type": "execute_result",
     "data": {
      "text/plain": "LogisticRegression()"
     },
     "metadata": {},
     "execution_count": 99
    }
   ],
   "source": [
    "model_lr = LogisticRegression()\n",
    "model_lr.fit(X_train, y_train)"
   ]
  },
  {
   "cell_type": "code",
   "execution_count": 101,
   "metadata": {},
   "outputs": [],
   "source": [
    "# making predictions\n",
    "predictions = model_lr.predict(X_test)"
   ]
  },
  {
   "cell_type": "code",
   "execution_count": 102,
   "metadata": {},
   "outputs": [],
   "source": [
    "# evaluate the model\n",
    "from sklearn.metrics import confusion_matrix"
   ]
  },
  {
   "cell_type": "code",
   "execution_count": 103,
   "metadata": {},
   "outputs": [],
   "source": [
    "matrix = confusion_matrix(y_test, predictions)"
   ]
  },
  {
   "cell_type": "code",
   "execution_count": 104,
   "metadata": {},
   "outputs": [
    {
     "output_type": "execute_result",
     "data": {
      "text/plain": "array([[289,  36],\n       [ 25, 286]])"
     },
     "metadata": {},
     "execution_count": 104
    }
   ],
   "source": [
    "matrix"
   ]
  },
  {
   "cell_type": "code",
   "execution_count": 105,
   "metadata": {},
   "outputs": [],
   "source": [
    "# calculate accuracy score\n",
    "from sklearn.metrics import accuracy_score"
   ]
  },
  {
   "cell_type": "code",
   "execution_count": 106,
   "metadata": {},
   "outputs": [],
   "source": [
    "accuracy = accuracy_score(y_test, predictions)"
   ]
  },
  {
   "cell_type": "code",
   "execution_count": 107,
   "metadata": {},
   "outputs": [
    {
     "output_type": "execute_result",
     "data": {
      "text/plain": "0.9040880503144654"
     },
     "metadata": {},
     "execution_count": 107
    }
   ],
   "source": [
    "accuracy"
   ]
  },
  {
   "cell_type": "code",
   "execution_count": 108,
   "metadata": {},
   "outputs": [],
   "source": [
    "# calcuating additional evaluation parameters\n",
    "from sklearn.metrics import classification_report"
   ]
  },
  {
   "cell_type": "code",
   "execution_count": 110,
   "metadata": {
    "tags": []
   },
   "outputs": [
    {
     "output_type": "stream",
     "name": "stdout",
     "text": "precision    recall  f1-score   support\n\n           0       0.92      0.89      0.90       325\n           1       0.89      0.92      0.90       311\n\n    accuracy                           0.90       636\n   macro avg       0.90      0.90      0.90       636\nweighted avg       0.90      0.90      0.90       636\n\n"
    }
   ],
   "source": [
    "print(classification_report(y_test, predictions))"
   ]
  },
  {
   "cell_type": "code",
   "execution_count": null,
   "metadata": {},
   "outputs": [],
   "source": []
  }
 ]
}