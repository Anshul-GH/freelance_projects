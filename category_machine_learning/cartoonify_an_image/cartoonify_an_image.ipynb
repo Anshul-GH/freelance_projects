{
 "metadata": {
  "language_info": {
   "codemirror_mode": {
    "name": "ipython",
    "version": 3
   },
   "file_extension": ".py",
   "mimetype": "text/x-python",
   "name": "python",
   "nbconvert_exporter": "python",
   "pygments_lexer": "ipython3",
   "version": "3.8.5-final"
  },
  "orig_nbformat": 2,
  "kernelspec": {
   "name": "python38564bitanaconda3virtualenv7335095407f3422396fe048c4f6b269d",
   "display_name": "Python 3.8.5 64-bit ('anaconda3': virtualenv)",
   "language": "python"
  }
 },
 "nbformat": 4,
 "nbformat_minor": 2,
 "cells": [
  {
   "cell_type": "code",
   "execution_count": null,
   "metadata": {},
   "outputs": [],
   "source": [
    "import cv2\n",
    "import matplotlib.pyplot as plt"
   ]
  },
  {
   "cell_type": "code",
   "execution_count": null,
   "metadata": {},
   "outputs": [],
   "source": [
    "sample_no = '01'\n",
    "image_path = f\"./data/sample_{sample_no}.jpg\""
   ]
  },
  {
   "cell_type": "code",
   "execution_count": null,
   "metadata": {},
   "outputs": [],
   "source": [
    "original_image = cv2.imread(image_path)\n",
    "original_image = cv2.cvtColor(original_image, cv2.COLOR_BGR2RGB)\n",
    "plt.imshow(original_image)"
   ]
  },
  {
   "cell_type": "code",
   "execution_count": null,
   "metadata": {},
   "outputs": [],
   "source": [
    "# converting the original image to grayscale\n",
    "greys_image = cv2.cvtColor(original_image, cv2.COLOR_BGR2GRAY)\n",
    "plt.imshow(greys_image, cmap='gray')"
   ]
  },
  {
   "cell_type": "code",
   "execution_count": null,
   "metadata": {},
   "outputs": [],
   "source": [
    "smooth_grays = cv2.medianBlur(greys_image, 5)\n",
    "plt.imshow(smooth_grays, cmap='gray')"
   ]
  },
  {
   "cell_type": "code",
   "execution_count": null,
   "metadata": {},
   "outputs": [],
   "source": [
    "# highlighting edges to cartoonize the image\n",
    "get_edge = cv2.adaptiveThreshold(smooth_grays, maxValue=255, adaptiveMethod=cv2.ADAPTIVE_THRESH_MEAN_C, thresholdType=cv2.THRESH_BINARY, blockSize=9, C=9)\n",
    "plt.imshow(get_edge, cmap='gray')"
   ]
  },
  {
   "cell_type": "code",
   "execution_count": null,
   "metadata": {},
   "outputs": [],
   "source": [
    "# applying the bilateral filter to remove the noise \n",
    "# and keep edge sharp\n",
    "color_image = cv2.bilateralFilter(original_image, d=9, sigmaColor=300, sigmaSpace=300)\n",
    "plt.imshow(color_image, cmap='gray')"
   ]
  },
  {
   "cell_type": "code",
   "execution_count": null,
   "metadata": {},
   "outputs": [],
   "source": [
    "# use the eedged_image as mask on the color_image\n",
    "cartoon_image = cv2.bitwise_and(src1=color_image, src2=color_image, mask=get_edge)\n",
    "plt.imshow(cartoon_image, cmap='gray')"
   ]
  }
 ]
}