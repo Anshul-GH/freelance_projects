{
 "metadata": {
  "language_info": {
   "codemirror_mode": {
    "name": "ipython",
    "version": 3
   },
   "file_extension": ".py",
   "mimetype": "text/x-python",
   "name": "python",
   "nbconvert_exporter": "python",
   "pygments_lexer": "ipython3",
   "version": "3.8.2-final"
  },
  "orig_nbformat": 2,
  "kernelspec": {
   "name": "python38264bitpy38conda74b30bb8bfed4d658f77b9f4e62a4da3",
   "display_name": "Python 3.8.2 64-bit ('py38': conda)"
  }
 },
 "nbformat": 4,
 "nbformat_minor": 2,
 "cells": [
  {
   "cell_type": "markdown",
   "metadata": {},
   "source": [
    "## Python Features\n",
    "1. Interpreted Language\n",
    "2. Dynamically Typed\n",
    "3. Functions are first-class objects - can be assigned to variablesWell suited to OOPs\n",
    "4. Well suited to OOPs\n",
    "5. Code is easy to understand and syntax is simple to learn"
   ]
  },
  {
   "cell_type": "code",
   "execution_count": 3,
   "metadata": {},
   "outputs": [
    {
     "output_type": "execute_result",
     "data": {
      "text/plain": "{'a': 1, 'b': 2, 'c': 3, 'd': 4, 'e': 5}"
     },
     "metadata": {},
     "execution_count": 3
    }
   ],
   "source": [
    "A0 = dict(zip(('a','b','c','d','e'), (1,2,3,4,5)))\n",
    "A0"
   ]
  },
  {
   "cell_type": "code",
   "execution_count": 4,
   "metadata": {},
   "outputs": [
    {
     "output_type": "execute_result",
     "data": {
      "text/plain": "range(0, 10)"
     },
     "metadata": {},
     "execution_count": 4
    }
   ],
   "source": [
    "A1 = range(10)\n",
    "A1"
   ]
  },
  {
   "cell_type": "code",
   "execution_count": 6,
   "metadata": {},
   "outputs": [
    {
     "output_type": "execute_result",
     "data": {
      "text/plain": "[]"
     },
     "metadata": {},
     "execution_count": 6
    }
   ],
   "source": [
    "A2 = sorted([i for i in A1 if i in A0])\n",
    "A2"
   ]
  },
  {
   "cell_type": "code",
   "execution_count": 7,
   "metadata": {},
   "outputs": [
    {
     "output_type": "execute_result",
     "data": {
      "text/plain": "[1, 2, 3, 4, 5]"
     },
     "metadata": {},
     "execution_count": 7
    }
   ],
   "source": [
    "A3 = sorted([A0[s] for s in A0])\n",
    "A3"
   ]
  },
  {
   "cell_type": "code",
   "execution_count": 8,
   "metadata": {},
   "outputs": [
    {
     "output_type": "execute_result",
     "data": {
      "text/plain": "[1, 2, 3, 4, 5]"
     },
     "metadata": {},
     "execution_count": 8
    }
   ],
   "source": [
    "A4 = [i for i in A1 if i in A3]\n",
    "A4"
   ]
  },
  {
   "cell_type": "code",
   "execution_count": 9,
   "metadata": {},
   "outputs": [
    {
     "output_type": "execute_result",
     "data": {
      "text/plain": "{0: 0, 1: 1, 2: 4, 3: 9, 4: 16, 5: 25, 6: 36, 7: 49, 8: 64, 9: 81}"
     },
     "metadata": {},
     "execution_count": 9
    }
   ],
   "source": [
    "A5 = {i:i*i for i in A1}\n",
    "A5"
   ]
  },
  {
   "cell_type": "code",
   "execution_count": 10,
   "metadata": {},
   "outputs": [
    {
     "output_type": "execute_result",
     "data": {
      "text/plain": "[[0, 0],\n [1, 1],\n [2, 4],\n [3, 9],\n [4, 16],\n [5, 25],\n [6, 36],\n [7, 49],\n [8, 64],\n [9, 81]]"
     },
     "metadata": {},
     "execution_count": 10
    }
   ],
   "source": [
    "A6 = [[i, i*i] for i in A1]\n",
    "A6"
   ]
  },
  {
   "cell_type": "code",
   "execution_count": 1,
   "metadata": {},
   "outputs": [],
   "source": [
    "def f(x, l=[]):\n",
    "    for i in range(x):\n",
    "        l.append(i*i)\n",
    "    print(l)"
   ]
  },
  {
   "cell_type": "code",
   "execution_count": 2,
   "metadata": {
    "tags": []
   },
   "outputs": [
    {
     "output_type": "stream",
     "name": "stdout",
     "text": "[0, 1]\n[3, 2, 1, 0, 1, 4]\n[0, 1, 0, 1, 4]\n"
    }
   ],
   "source": [
    "f(2)\n",
    "f(3, [3,2,1])\n",
    "f(3)"
   ]
  },
  {
   "cell_type": "code",
   "execution_count": null,
   "metadata": {},
   "outputs": [],
   "source": [
    "# Monkey Patching\n"
   ]
  }
 ]
}