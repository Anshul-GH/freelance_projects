{
 "metadata": {
  "language_info": {
   "codemirror_mode": {
    "name": "ipython",
    "version": 3
   },
   "file_extension": ".py",
   "mimetype": "text/x-python",
   "name": "python",
   "nbconvert_exporter": "python",
   "pygments_lexer": "ipython3",
   "version": 3
  },
  "orig_nbformat": 2,
  "kernelspec": {
   "name": "python_defaultSpec_1597041136473",
   "display_name": "Python 3.7.3 64-bit"
  }
 },
 "nbformat": 4,
 "nbformat_minor": 2,
 "cells": [
  {
   "cell_type": "code",
   "execution_count": 1,
   "metadata": {},
   "outputs": [],
   "source": [
    "import pandas as pd"
   ]
  },
  {
   "cell_type": "code",
   "execution_count": 3,
   "metadata": {},
   "outputs": [],
   "source": [
    "data = pd.read_csv(\"survivor_employment_data.csv\")"
   ]
  },
  {
   "cell_type": "code",
   "execution_count": 4,
   "metadata": {},
   "outputs": [
    {
     "output_type": "execute_result",
     "data": {
      "text/plain": "  JOB_MATCH                  S_NAME  S_AGE S_GENDER     S_EDUCATION  \\\n0         N  Padama Harbhajan Mogul     47   Female  Primary School   \n1         N             Anusha Toor     40   Female  Primary School   \n2         N  Vineeta Sushant Butala     27   Female  Primary School   \n3         N      Hema Radhakrishnan     26   Female  Primary School   \n4         N      Nupoor Deep Biyani     48   Female  Primary School   \n\n   S_UNDERSTANDING_COMM  S_GETTING_ALONG_PEOPLE  S_LIFE_ACT_HOUSE  \\\n0                     4                       1                 1   \n1                     4                       3                 1   \n2                     4                       3                 1   \n3                     4                       3                 1   \n4                     3                       3                 1   \n\n   S_LIFE_ACT_WORK  S_PARTICIPATE_SOCIETY  S_PREV_EMP  S_TOTAL_EXPERIENCE  \\\n0                3                      3           2                   6   \n1                3                      3           2                   7   \n2                3                      3           1                   2   \n3                3                      3           1                   2   \n4                3                      2           1                   6   \n\n  JOB_DESCRIPTION J_LANGUAGE J_COMMUNICATION J_PROB_SOLVE J_ATTEN_VIGIL  \\\n0      Marketing           Y               Y            N             N   \n1      Marketing           Y               Y            N             N   \n2      Marketing           Y               Y            N             N   \n3      Marketing           Y               Y            N             N   \n4      Marketing           Y               Y            N             N   \n\n  J_ADAPT_INTERACT  \n0                N  \n1                N  \n2                N  \n3                N  \n4                N  ",
      "text/html": "<div>\n<style scoped>\n    .dataframe tbody tr th:only-of-type {\n        vertical-align: middle;\n    }\n\n    .dataframe tbody tr th {\n        vertical-align: top;\n    }\n\n    .dataframe thead th {\n        text-align: right;\n    }\n</style>\n<table border=\"1\" class=\"dataframe\">\n  <thead>\n    <tr style=\"text-align: right;\">\n      <th></th>\n      <th>JOB_MATCH</th>\n      <th>S_NAME</th>\n      <th>S_AGE</th>\n      <th>S_GENDER</th>\n      <th>S_EDUCATION</th>\n      <th>S_UNDERSTANDING_COMM</th>\n      <th>S_GETTING_ALONG_PEOPLE</th>\n      <th>S_LIFE_ACT_HOUSE</th>\n      <th>S_LIFE_ACT_WORK</th>\n      <th>S_PARTICIPATE_SOCIETY</th>\n      <th>S_PREV_EMP</th>\n      <th>S_TOTAL_EXPERIENCE</th>\n      <th>JOB_DESCRIPTION</th>\n      <th>J_LANGUAGE</th>\n      <th>J_COMMUNICATION</th>\n      <th>J_PROB_SOLVE</th>\n      <th>J_ATTEN_VIGIL</th>\n      <th>J_ADAPT_INTERACT</th>\n    </tr>\n  </thead>\n  <tbody>\n    <tr>\n      <th>0</th>\n      <td>N</td>\n      <td>Padama Harbhajan Mogul</td>\n      <td>47</td>\n      <td>Female</td>\n      <td>Primary School</td>\n      <td>4</td>\n      <td>1</td>\n      <td>1</td>\n      <td>3</td>\n      <td>3</td>\n      <td>2</td>\n      <td>6</td>\n      <td>Marketing</td>\n      <td>Y</td>\n      <td>Y</td>\n      <td>N</td>\n      <td>N</td>\n      <td>N</td>\n    </tr>\n    <tr>\n      <th>1</th>\n      <td>N</td>\n      <td>Anusha Toor</td>\n      <td>40</td>\n      <td>Female</td>\n      <td>Primary School</td>\n      <td>4</td>\n      <td>3</td>\n      <td>1</td>\n      <td>3</td>\n      <td>3</td>\n      <td>2</td>\n      <td>7</td>\n      <td>Marketing</td>\n      <td>Y</td>\n      <td>Y</td>\n      <td>N</td>\n      <td>N</td>\n      <td>N</td>\n    </tr>\n    <tr>\n      <th>2</th>\n      <td>N</td>\n      <td>Vineeta Sushant Butala</td>\n      <td>27</td>\n      <td>Female</td>\n      <td>Primary School</td>\n      <td>4</td>\n      <td>3</td>\n      <td>1</td>\n      <td>3</td>\n      <td>3</td>\n      <td>1</td>\n      <td>2</td>\n      <td>Marketing</td>\n      <td>Y</td>\n      <td>Y</td>\n      <td>N</td>\n      <td>N</td>\n      <td>N</td>\n    </tr>\n    <tr>\n      <th>3</th>\n      <td>N</td>\n      <td>Hema Radhakrishnan</td>\n      <td>26</td>\n      <td>Female</td>\n      <td>Primary School</td>\n      <td>4</td>\n      <td>3</td>\n      <td>1</td>\n      <td>3</td>\n      <td>3</td>\n      <td>1</td>\n      <td>2</td>\n      <td>Marketing</td>\n      <td>Y</td>\n      <td>Y</td>\n      <td>N</td>\n      <td>N</td>\n      <td>N</td>\n    </tr>\n    <tr>\n      <th>4</th>\n      <td>N</td>\n      <td>Nupoor Deep Biyani</td>\n      <td>48</td>\n      <td>Female</td>\n      <td>Primary School</td>\n      <td>3</td>\n      <td>3</td>\n      <td>1</td>\n      <td>3</td>\n      <td>2</td>\n      <td>1</td>\n      <td>6</td>\n      <td>Marketing</td>\n      <td>Y</td>\n      <td>Y</td>\n      <td>N</td>\n      <td>N</td>\n      <td>N</td>\n    </tr>\n  </tbody>\n</table>\n</div>"
     },
     "metadata": {},
     "execution_count": 4
    }
   ],
   "source": [
    "data.head()"
   ]
  },
  {
   "cell_type": "code",
   "execution_count": 5,
   "metadata": {},
   "outputs": [
    {
     "output_type": "execute_result",
     "data": {
      "text/plain": "array(['Primary School', 'High School', 'Undergraduation',\n       'Post Graduation'], dtype=object)"
     },
     "metadata": {},
     "execution_count": 5
    }
   ],
   "source": [
    "data['S_EDUCATION'].unique()"
   ]
  },
  {
   "cell_type": "code",
   "execution_count": 7,
   "metadata": {},
   "outputs": [
    {
     "output_type": "execute_result",
     "data": {
      "text/plain": "JOB_MATCH                 object\nS_NAME                    object\nS_AGE                      int64\nS_GENDER                  object\nS_EDUCATION               object\nS_UNDERSTANDING_COMM       int64\nS_GETTING_ALONG_PEOPLE     int64\nS_LIFE_ACT_HOUSE           int64\nS_LIFE_ACT_WORK            int64\nS_PARTICIPATE_SOCIETY      int64\nS_PREV_EMP                 int64\nS_TOTAL_EXPERIENCE         int64\nJOB_DESCRIPTION           object\nJ_LANGUAGE                object\nJ_COMMUNICATION           object\nJ_PROB_SOLVE              object\nJ_ATTEN_VIGIL             object\nJ_ADAPT_INTERACT          object\ndtype: object"
     },
     "metadata": {},
     "execution_count": 7
    }
   ],
   "source": [
    "data.dtypes"
   ]
  },
  {
   "cell_type": "code",
   "execution_count": 8,
   "metadata": {},
   "outputs": [],
   "source": [
    "data_obj = data.select_dtypes(include=['object']).copy()"
   ]
  },
  {
   "cell_type": "code",
   "execution_count": 9,
   "metadata": {},
   "outputs": [
    {
     "output_type": "execute_result",
     "data": {
      "text/plain": "JOB_MATCH           object\nS_NAME              object\nS_GENDER            object\nS_EDUCATION         object\nJOB_DESCRIPTION     object\nJ_LANGUAGE          object\nJ_COMMUNICATION     object\nJ_PROB_SOLVE        object\nJ_ATTEN_VIGIL       object\nJ_ADAPT_INTERACT    object\ndtype: object"
     },
     "metadata": {},
     "execution_count": 9
    }
   ],
   "source": [
    "data_obj.dtypes"
   ]
  },
  {
   "cell_type": "markdown",
   "metadata": {},
   "source": [
    "## Converting JOB_MATCH to a numeric 0/1 codes using Label Encoding"
   ]
  },
  {
   "cell_type": "code",
   "execution_count": 10,
   "metadata": {},
   "outputs": [
    {
     "output_type": "execute_result",
     "data": {
      "text/plain": "N    1534\nY     494\nName: JOB_MATCH, dtype: int64"
     },
     "metadata": {},
     "execution_count": 10
    }
   ],
   "source": [
    "data_obj['JOB_MATCH'].value_counts()"
   ]
  },
  {
   "cell_type": "code",
   "execution_count": 11,
   "metadata": {},
   "outputs": [],
   "source": [
    "data_obj['JOB_MATCH'] = data_obj['JOB_MATCH'].astype('category')"
   ]
  },
  {
   "cell_type": "code",
   "execution_count": 12,
   "metadata": {},
   "outputs": [
    {
     "output_type": "execute_result",
     "data": {
      "text/plain": "CategoricalDtype(categories=['N', 'Y'], ordered=False)"
     },
     "metadata": {},
     "execution_count": 12
    }
   ],
   "source": [
    "data_obj['JOB_MATCH'].dtype"
   ]
  },
  {
   "cell_type": "code",
   "execution_count": 13,
   "metadata": {},
   "outputs": [],
   "source": [
    "data_obj['JOB_MATCH_CAT'] = data_obj['JOB_MATCH'].cat.codes"
   ]
  },
  {
   "cell_type": "code",
   "execution_count": 20,
   "metadata": {},
   "outputs": [
    {
     "output_type": "execute_result",
     "data": {
      "text/plain": "  JOB_MATCH  JOB_MATCH_CAT\n0         N              0\n1         N              0\n2         N              0\n3         N              0\n4         N              0",
      "text/html": "<div>\n<style scoped>\n    .dataframe tbody tr th:only-of-type {\n        vertical-align: middle;\n    }\n\n    .dataframe tbody tr th {\n        vertical-align: top;\n    }\n\n    .dataframe thead th {\n        text-align: right;\n    }\n</style>\n<table border=\"1\" class=\"dataframe\">\n  <thead>\n    <tr style=\"text-align: right;\">\n      <th></th>\n      <th>JOB_MATCH</th>\n      <th>JOB_MATCH_CAT</th>\n    </tr>\n  </thead>\n  <tbody>\n    <tr>\n      <th>0</th>\n      <td>N</td>\n      <td>0</td>\n    </tr>\n    <tr>\n      <th>1</th>\n      <td>N</td>\n      <td>0</td>\n    </tr>\n    <tr>\n      <th>2</th>\n      <td>N</td>\n      <td>0</td>\n    </tr>\n    <tr>\n      <th>3</th>\n      <td>N</td>\n      <td>0</td>\n    </tr>\n    <tr>\n      <th>4</th>\n      <td>N</td>\n      <td>0</td>\n    </tr>\n  </tbody>\n</table>\n</div>"
     },
     "metadata": {},
     "execution_count": 20
    }
   ],
   "source": [
    "data_obj[['JOB_MATCH', 'JOB_MATCH_CAT']].head()"
   ]
  },
  {
   "cell_type": "markdown",
   "metadata": {},
   "source": [
    "## Converting Education Level to Numeric Codes"
   ]
  },
  {
   "cell_type": "code",
   "execution_count": 22,
   "metadata": {},
   "outputs": [
    {
     "output_type": "execute_result",
     "data": {
      "text/plain": "High School        882\nPrimary School     744\nUndergraduation    354\nPost Graduation     48\nName: S_EDUCATION, dtype: int64"
     },
     "metadata": {},
     "execution_count": 22
    }
   ],
   "source": [
    "data_obj['S_EDUCATION'].value_counts()"
   ]
  },
  {
   "cell_type": "code",
   "execution_count": 23,
   "metadata": {},
   "outputs": [],
   "source": [
    "# convert it to a category type\n",
    "data_obj['S_EDUCATION'] = data_obj['S_EDUCATION'].astype('category')"
   ]
  },
  {
   "cell_type": "code",
   "execution_count": 24,
   "metadata": {},
   "outputs": [],
   "source": [
    "data_obj['S_EDUCATION_CAT'] = data_obj['S_EDUCATION'].cat.codes"
   ]
  },
  {
   "cell_type": "code",
   "execution_count": 27,
   "metadata": {},
   "outputs": [
    {
     "output_type": "execute_result",
     "data": {
      "text/plain": "      S_EDUCATION  S_EDUCATION_CAT\n0  Primary School                2\n1  Primary School                2\n2  Primary School                2\n3  Primary School                2\n4  Primary School                2",
      "text/html": "<div>\n<style scoped>\n    .dataframe tbody tr th:only-of-type {\n        vertical-align: middle;\n    }\n\n    .dataframe tbody tr th {\n        vertical-align: top;\n    }\n\n    .dataframe thead th {\n        text-align: right;\n    }\n</style>\n<table border=\"1\" class=\"dataframe\">\n  <thead>\n    <tr style=\"text-align: right;\">\n      <th></th>\n      <th>S_EDUCATION</th>\n      <th>S_EDUCATION_CAT</th>\n    </tr>\n  </thead>\n  <tbody>\n    <tr>\n      <th>0</th>\n      <td>Primary School</td>\n      <td>2</td>\n    </tr>\n    <tr>\n      <th>1</th>\n      <td>Primary School</td>\n      <td>2</td>\n    </tr>\n    <tr>\n      <th>2</th>\n      <td>Primary School</td>\n      <td>2</td>\n    </tr>\n    <tr>\n      <th>3</th>\n      <td>Primary School</td>\n      <td>2</td>\n    </tr>\n    <tr>\n      <th>4</th>\n      <td>Primary School</td>\n      <td>2</td>\n    </tr>\n  </tbody>\n</table>\n</div>"
     },
     "metadata": {},
     "execution_count": 27
    }
   ],
   "source": [
    "data_obj[['S_EDUCATION', 'S_EDUCATION_CAT']].head()"
   ]
  },
  {
   "cell_type": "code",
   "execution_count": null,
   "metadata": {},
   "outputs": [],
   "source": []
  }
 ]
}